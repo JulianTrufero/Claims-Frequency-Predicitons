{
 "cells": [
  {
   "cell_type": "markdown",
   "metadata": {},
   "source": [
    "# STATISTICAL MODELLING"
   ]
  },
  {
   "cell_type": "markdown",
   "metadata": {},
   "source": [
    "### Assume that the claims count random variable N has a Poisson distribution with given years at risk v > 0 and expected frequency λ > 0. We aim at modeling the expected frequency λ > 0 such that it allows us to incorporate structural differences (heterogeneity) or systematic effects, between different insurance policies and risks.\n",
    "### v measures the volume of the aggregated portfolio. Aggregation property says that the aggregated portfolio has a compound Poisson distribution (with volume weighted expected frequency)"
   ]
  },
  {
   "cell_type": "code",
   "execution_count": 4,
   "metadata": {},
   "outputs": [],
   "source": [
    "import numpy as np\n",
    "import matplotlib.pyplot as plt\n",
    "import pandas as pd\n",
    "from patsy import dmatrices\n",
    "import seaborn as sns\n",
    "from sklearn.model_selection import train_test_split\n",
    "import statsmodels.api as sm\n",
    "from statsmodels.tools.eval_measures import rmse"
   ]
  },
  {
   "cell_type": "code",
   "execution_count": 81,
   "metadata": {},
   "outputs": [],
   "source": [
    "claimsdf = pd.read_csv('/home/julian/Cursos/Ironhack/Proyectos/ProyectoFinal/Claims-Frequency-Predictions/Notebooks/claimsdf_1.csv')"
   ]
  },
  {
   "cell_type": "code",
   "execution_count": 82,
   "metadata": {
    "scrolled": true
   },
   "outputs": [
    {
     "data": {
      "text/html": [
       "<div>\n",
       "<style scoped>\n",
       "    .dataframe tbody tr th:only-of-type {\n",
       "        vertical-align: middle;\n",
       "    }\n",
       "\n",
       "    .dataframe tbody tr th {\n",
       "        vertical-align: top;\n",
       "    }\n",
       "\n",
       "    .dataframe thead th {\n",
       "        text-align: right;\n",
       "    }\n",
       "</style>\n",
       "<table border=\"1\" class=\"dataframe\">\n",
       "  <thead>\n",
       "    <tr style=\"text-align: right;\">\n",
       "      <th></th>\n",
       "      <th>ClaimNb</th>\n",
       "      <th>Exposure</th>\n",
       "      <th>Area</th>\n",
       "      <th>BonusMalus</th>\n",
       "      <th>VehBrand</th>\n",
       "      <th>Region</th>\n",
       "      <th>empirical_frequencies</th>\n",
       "      <th>VehGas_Regular</th>\n",
       "      <th>VehPower_</th>\n",
       "      <th>VehAge_</th>\n",
       "      <th>DrivAge_</th>\n",
       "      <th>log_density</th>\n",
       "    </tr>\n",
       "  </thead>\n",
       "  <tbody>\n",
       "    <tr>\n",
       "      <th>0</th>\n",
       "      <td>1</td>\n",
       "      <td>0.10</td>\n",
       "      <td>4</td>\n",
       "      <td>50</td>\n",
       "      <td>9</td>\n",
       "      <td>1</td>\n",
       "      <td>10.000000</td>\n",
       "      <td>1</td>\n",
       "      <td>5</td>\n",
       "      <td>1</td>\n",
       "      <td>6</td>\n",
       "      <td>7.104144</td>\n",
       "    </tr>\n",
       "    <tr>\n",
       "      <th>1</th>\n",
       "      <td>1</td>\n",
       "      <td>0.77</td>\n",
       "      <td>4</td>\n",
       "      <td>50</td>\n",
       "      <td>9</td>\n",
       "      <td>1</td>\n",
       "      <td>1.298701</td>\n",
       "      <td>1</td>\n",
       "      <td>5</td>\n",
       "      <td>1</td>\n",
       "      <td>6</td>\n",
       "      <td>7.104144</td>\n",
       "    </tr>\n",
       "    <tr>\n",
       "      <th>2</th>\n",
       "      <td>1</td>\n",
       "      <td>0.75</td>\n",
       "      <td>2</td>\n",
       "      <td>50</td>\n",
       "      <td>9</td>\n",
       "      <td>5</td>\n",
       "      <td>1.333333</td>\n",
       "      <td>0</td>\n",
       "      <td>6</td>\n",
       "      <td>2</td>\n",
       "      <td>6</td>\n",
       "      <td>3.988984</td>\n",
       "    </tr>\n",
       "    <tr>\n",
       "      <th>3</th>\n",
       "      <td>1</td>\n",
       "      <td>0.09</td>\n",
       "      <td>2</td>\n",
       "      <td>50</td>\n",
       "      <td>9</td>\n",
       "      <td>7</td>\n",
       "      <td>11.111111</td>\n",
       "      <td>0</td>\n",
       "      <td>7</td>\n",
       "      <td>1</td>\n",
       "      <td>5</td>\n",
       "      <td>4.330733</td>\n",
       "    </tr>\n",
       "    <tr>\n",
       "      <th>4</th>\n",
       "      <td>1</td>\n",
       "      <td>0.84</td>\n",
       "      <td>2</td>\n",
       "      <td>50</td>\n",
       "      <td>9</td>\n",
       "      <td>7</td>\n",
       "      <td>1.190476</td>\n",
       "      <td>0</td>\n",
       "      <td>7</td>\n",
       "      <td>1</td>\n",
       "      <td>5</td>\n",
       "      <td>4.330733</td>\n",
       "    </tr>\n",
       "  </tbody>\n",
       "</table>\n",
       "</div>"
      ],
      "text/plain": [
       "   ClaimNb  Exposure  Area  BonusMalus  VehBrand  Region  \\\n",
       "0        1      0.10     4          50         9       1   \n",
       "1        1      0.77     4          50         9       1   \n",
       "2        1      0.75     2          50         9       5   \n",
       "3        1      0.09     2          50         9       7   \n",
       "4        1      0.84     2          50         9       7   \n",
       "\n",
       "   empirical_frequencies  VehGas_Regular  VehPower_  VehAge_  DrivAge_  \\\n",
       "0              10.000000               1          5        1         6   \n",
       "1               1.298701               1          5        1         6   \n",
       "2               1.333333               0          6        2         6   \n",
       "3              11.111111               0          7        1         5   \n",
       "4               1.190476               0          7        1         5   \n",
       "\n",
       "   log_density  \n",
       "0     7.104144  \n",
       "1     7.104144  \n",
       "2     3.988984  \n",
       "3     4.330733  \n",
       "4     4.330733  "
      ]
     },
     "execution_count": 82,
     "metadata": {},
     "output_type": "execute_result"
    }
   ],
   "source": [
    "claimsdf.head()"
   ]
  },
  {
   "cell_type": "code",
   "execution_count": 83,
   "metadata": {},
   "outputs": [],
   "source": [
    "claimsdf.drop(columns=['empirical_frequencies'], inplace=True)"
   ]
  },
  {
   "cell_type": "markdown",
   "metadata": {},
   "source": [
    "## Poisson-GENERALIZED LINEAR MODEL"
   ]
  },
  {
   "cell_type": "markdown",
   "metadata": {},
   "source": [
    "- The feature components interact in a multiplicative way in our Poisson GLM. One of the main tasks is to analyze whether this multiplicative interaction is appropriate. For GLM modeling approach, as the frequencies are non-linearly related to Vehicle Age and Driver Age as we've seen in the EDA, we should partition them and then treat them as categorical variables.\n",
    "- We consider 3 continuous feature components (Area, BonusMalus, log-Density), 1 binary feature component (VehGas) and 5 categorical feature components (VehPower, VehAge, DrivAge, VehBrand, Region)\n",
    "- We'll dummy-encode the categorical features, in order to get a unique MLE for β\n",
    "- In total, we'll get a 42 variable model."
   ]
  },
  {
   "cell_type": "code",
   "execution_count": 84,
   "metadata": {
    "scrolled": true
   },
   "outputs": [],
   "source": [
    "claimsdf = pd.get_dummies(claimsdf, columns=['VehPower_', 'VehAge_', 'DrivAge_', 'VehBrand', 'Region'], drop_first=True)"
   ]
  },
  {
   "cell_type": "code",
   "execution_count": 85,
   "metadata": {
    "scrolled": true
   },
   "outputs": [
    {
     "data": {
      "text/html": [
       "<div>\n",
       "<style scoped>\n",
       "    .dataframe tbody tr th:only-of-type {\n",
       "        vertical-align: middle;\n",
       "    }\n",
       "\n",
       "    .dataframe tbody tr th {\n",
       "        vertical-align: top;\n",
       "    }\n",
       "\n",
       "    .dataframe thead th {\n",
       "        text-align: right;\n",
       "    }\n",
       "</style>\n",
       "<table border=\"1\" class=\"dataframe\">\n",
       "  <thead>\n",
       "    <tr style=\"text-align: right;\">\n",
       "      <th></th>\n",
       "      <th>ClaimNb</th>\n",
       "      <th>Exposure</th>\n",
       "      <th>Area</th>\n",
       "      <th>BonusMalus</th>\n",
       "      <th>VehGas_Regular</th>\n",
       "      <th>log_density</th>\n",
       "      <th>VehPower__5</th>\n",
       "      <th>VehPower__6</th>\n",
       "      <th>VehPower__7</th>\n",
       "      <th>VehPower__8</th>\n",
       "      <th>...</th>\n",
       "      <th>Region_4</th>\n",
       "      <th>Region_5</th>\n",
       "      <th>Region_6</th>\n",
       "      <th>Region_7</th>\n",
       "      <th>Region_8</th>\n",
       "      <th>Region_9</th>\n",
       "      <th>Region_10</th>\n",
       "      <th>Region_11</th>\n",
       "      <th>Region_12</th>\n",
       "      <th>Region_13</th>\n",
       "    </tr>\n",
       "  </thead>\n",
       "  <tbody>\n",
       "    <tr>\n",
       "      <th>0</th>\n",
       "      <td>1</td>\n",
       "      <td>0.10</td>\n",
       "      <td>4</td>\n",
       "      <td>50</td>\n",
       "      <td>1</td>\n",
       "      <td>7.104144</td>\n",
       "      <td>1</td>\n",
       "      <td>0</td>\n",
       "      <td>0</td>\n",
       "      <td>0</td>\n",
       "      <td>...</td>\n",
       "      <td>0</td>\n",
       "      <td>0</td>\n",
       "      <td>0</td>\n",
       "      <td>0</td>\n",
       "      <td>0</td>\n",
       "      <td>0</td>\n",
       "      <td>0</td>\n",
       "      <td>0</td>\n",
       "      <td>0</td>\n",
       "      <td>0</td>\n",
       "    </tr>\n",
       "    <tr>\n",
       "      <th>1</th>\n",
       "      <td>1</td>\n",
       "      <td>0.77</td>\n",
       "      <td>4</td>\n",
       "      <td>50</td>\n",
       "      <td>1</td>\n",
       "      <td>7.104144</td>\n",
       "      <td>1</td>\n",
       "      <td>0</td>\n",
       "      <td>0</td>\n",
       "      <td>0</td>\n",
       "      <td>...</td>\n",
       "      <td>0</td>\n",
       "      <td>0</td>\n",
       "      <td>0</td>\n",
       "      <td>0</td>\n",
       "      <td>0</td>\n",
       "      <td>0</td>\n",
       "      <td>0</td>\n",
       "      <td>0</td>\n",
       "      <td>0</td>\n",
       "      <td>0</td>\n",
       "    </tr>\n",
       "  </tbody>\n",
       "</table>\n",
       "<p>2 rows × 45 columns</p>\n",
       "</div>"
      ],
      "text/plain": [
       "   ClaimNb  Exposure  Area  BonusMalus  VehGas_Regular  log_density  \\\n",
       "0        1      0.10     4          50               1     7.104144   \n",
       "1        1      0.77     4          50               1     7.104144   \n",
       "\n",
       "   VehPower__5  VehPower__6  VehPower__7  VehPower__8  ...  Region_4  \\\n",
       "0            1            0            0            0  ...         0   \n",
       "1            1            0            0            0  ...         0   \n",
       "\n",
       "   Region_5  Region_6  Region_7  Region_8  Region_9  Region_10  Region_11  \\\n",
       "0         0         0         0         0         0          0          0   \n",
       "1         0         0         0         0         0          0          0   \n",
       "\n",
       "   Region_12  Region_13  \n",
       "0          0          0  \n",
       "1          0          0  \n",
       "\n",
       "[2 rows x 45 columns]"
      ]
     },
     "execution_count": 85,
     "metadata": {},
     "output_type": "execute_result"
    }
   ],
   "source": [
    "claimsdf.head(2)"
   ]
  },
  {
   "cell_type": "markdown",
   "metadata": {},
   "source": [
    "- REFERENCE LEVEL (Variables for wich the b0 parameter accounts for): `VehPower__4`, `VehAge__1`, `DrivAge__1`, `VehBrand_1`, `Region_1.0`"
   ]
  },
  {
   "cell_type": "markdown",
   "metadata": {},
   "source": [
    "### MODEL TRAINING"
   ]
  },
  {
   "cell_type": "markdown",
   "metadata": {},
   "source": [
    "- Maximizing the log-likelihood for parameter β is equivalent to minimizing the deviance loss for β. In this spirit, the deviance loss plays the role of the canonical objective function that should be minimized. b is the scaled Poisson deviance loss. "
   ]
  },
  {
   "cell_type": "markdown",
   "metadata": {},
   "source": [
    "- We randomly (uniformly) select 80% of data for training and leave 20% for testing:"
   ]
  },
  {
   "cell_type": "code",
   "execution_count": 117,
   "metadata": {},
   "outputs": [],
   "source": [
    "sample = np.random.rand(len(claimsdf)) < 0.8"
   ]
  },
  {
   "cell_type": "code",
   "execution_count": 118,
   "metadata": {},
   "outputs": [],
   "source": [
    "claimsdf_train = claimsdf[sample]"
   ]
  },
  {
   "cell_type": "code",
   "execution_count": 119,
   "metadata": {
    "scrolled": false
   },
   "outputs": [
    {
     "data": {
      "text/plain": [
       "(542280, 45)"
      ]
     },
     "execution_count": 119,
     "metadata": {},
     "output_type": "execute_result"
    }
   ],
   "source": [
    "claimsdf_train.shape"
   ]
  },
  {
   "cell_type": "code",
   "execution_count": 120,
   "metadata": {},
   "outputs": [],
   "source": [
    "claimsdf_test = claimsdf[~sample]"
   ]
  },
  {
   "cell_type": "code",
   "execution_count": 121,
   "metadata": {},
   "outputs": [
    {
     "data": {
      "text/plain": [
       "(135733, 45)"
      ]
     },
     "execution_count": 121,
     "metadata": {},
     "output_type": "execute_result"
    }
   ],
   "source": [
    "claimsdf_test.shape"
   ]
  },
  {
   "cell_type": "code",
   "execution_count": 122,
   "metadata": {},
   "outputs": [],
   "source": [
    "expr = \"\"\" Q('ClaimNb') ~ Q('Area') + Q('BonusMalus') + Q('log_density') + Q('VehGas_Regular') + \n",
    "                          Q('VehPower__5') + Q('VehPower__6') + Q('VehPower__7') + Q('VehPower__8') +\n",
    "                          Q('VehPower__9') + Q('VehPower__10') + Q('VehPower__11') + Q('VehPower__12') + \n",
    "                          Q('VehAge__2') + Q('VehAge__3') + Q('DrivAge__2') + Q('DrivAge__3') + \n",
    "                          Q('DrivAge__4') + Q('DrivAge__5') + Q('DrivAge__6') + Q('DrivAge__7') + Q('DrivAge__8') +\n",
    "                          Q('VehBrand_2') + Q('VehBrand_3') + Q('VehBrand_4') + Q('VehBrand_5') + Q('VehBrand_6') +\n",
    "                          Q('VehBrand_7') + Q('VehBrand_8') + Q('VehBrand_9') + Q('VehBrand_10') + Q('VehBrand_11') +\n",
    "                          Q('Region_2') + Q('Region_3') + Q('Region_4') + Q('Region_5') + Q('Region_6') + \n",
    "                          Q('Region_7') + Q('Region_8') + Q('Region_9') + Q('Region_10') + Q('Region_11') +\n",
    "                          Q('Region_12') \"\"\""
   ]
  },
  {
   "cell_type": "markdown",
   "metadata": {},
   "source": [
    "- Build the matrices for the specified model:"
   ]
  },
  {
   "cell_type": "code",
   "execution_count": 123,
   "metadata": {
    "scrolled": true
   },
   "outputs": [],
   "source": [
    "y_train, X_train = dmatrices(expr, claimsdf_train, return_type='dataframe')"
   ]
  },
  {
   "cell_type": "markdown",
   "metadata": {},
   "source": [
    "- Fit a Poisson-GLM to the TRAIN SET"
   ]
  },
  {
   "cell_type": "code",
   "execution_count": 124,
   "metadata": {},
   "outputs": [],
   "source": [
    "poisson_model1 = sm.GLM(y_train, X_train, exposure=claimsdf_train.Exposure, family=sm.families.Poisson()).fit()"
   ]
  },
  {
   "cell_type": "code",
   "execution_count": 126,
   "metadata": {
    "collapsed": true
   },
   "outputs": [
    {
     "name": "stdout",
     "output_type": "stream",
     "text": [
      "                 Generalized Linear Model Regression Results                  \n",
      "==============================================================================\n",
      "Dep. Variable:           Q('ClaimNb')   No. Observations:               542280\n",
      "Model:                            GLM   Df Residuals:                   542237\n",
      "Model Family:                 Poisson   Df Model:                           42\n",
      "Link Function:                    log   Scale:                          1.0000\n",
      "Method:                          IRLS   Log-Likelihood:            -1.1423e+05\n",
      "Date:                Tue, 05 Oct 2021   Deviance:                   1.7282e+05\n",
      "Time:                        11:30:43   Pearson chi2:                 1.34e+06\n",
      "No. Iterations:                     7                                         \n",
      "Covariance Type:            nonrobust                                         \n",
      "=======================================================================================\n",
      "                          coef    std err          z      P>|z|      [0.025      0.975]\n",
      "---------------------------------------------------------------------------------------\n",
      "Intercept              -3.4274      0.068    -50.302      0.000      -3.561      -3.294\n",
      "Q('Area')              -0.0009      0.018     -0.047      0.962      -0.036       0.034\n",
      "Q('BonusMalus')         0.0229      0.000     62.080      0.000       0.022       0.024\n",
      "Q('log_density')        0.0438      0.013      3.270      0.001       0.018       0.070\n",
      "Q('VehGas_Regular')     0.0505      0.013      3.943      0.000       0.025       0.076\n",
      "Q('VehPower__5')        0.1625      0.020      8.001      0.000       0.123       0.202\n",
      "Q('VehPower__6')        0.1932      0.020      9.550      0.000       0.154       0.233\n",
      "Q('VehPower__7')        0.1154      0.020      5.771      0.000       0.076       0.155\n",
      "Q('VehPower__8')       -0.0751      0.030     -2.489      0.013      -0.134      -0.016\n",
      "Q('VehPower__9')        0.2756      0.031      8.883      0.000       0.215       0.336\n",
      "Q('VehPower__10')       0.2550      0.031      8.307      0.000       0.195       0.315\n",
      "Q('VehPower__11')       0.1543      0.040      3.815      0.000       0.075       0.234\n",
      "Q('VehPower__12')       0.0169      0.045      0.376      0.707      -0.071       0.105\n",
      "Q('VehAge__2')         -0.4991      0.016    -31.079      0.000      -0.531      -0.468\n",
      "Q('VehAge__3')         -0.7189      0.020    -36.352      0.000      -0.758      -0.680\n",
      "Q('DrivAge__2')        -0.3366      0.050     -6.732      0.000      -0.435      -0.239\n",
      "Q('DrivAge__3')        -0.4998      0.049    -10.185      0.000      -0.596      -0.404\n",
      "Q('DrivAge__4')        -0.3557      0.048     -7.478      0.000      -0.449      -0.263\n",
      "Q('DrivAge__5')        -0.0646      0.048     -1.344      0.179      -0.159       0.030\n",
      "Q('DrivAge__6')        -0.1167      0.049     -2.399      0.016      -0.212      -0.021\n",
      "Q('DrivAge__7')        -0.1498      0.051     -2.963      0.003      -0.249      -0.051\n",
      "Q('DrivAge__8')        -0.0545      0.052     -1.054      0.292      -0.156       0.047\n",
      "Q('VehBrand_2')        -0.0017      0.017     -0.101      0.920      -0.035       0.032\n",
      "Q('VehBrand_3')        -0.0033      0.025     -0.136      0.892      -0.051       0.045\n",
      "Q('VehBrand_4')        -0.0047      0.033     -0.140      0.889      -0.070       0.061\n",
      "Q('VehBrand_5')         0.0603      0.028      2.155      0.031       0.005       0.115\n",
      "Q('VehBrand_6')         0.0101      0.032      0.318      0.750      -0.052       0.072\n",
      "Q('VehBrand_7')         0.0183      0.041      0.443      0.658      -0.063       0.099\n",
      "Q('VehBrand_8')         0.1442      0.044      3.264      0.001       0.058       0.231\n",
      "Q('VehBrand_9')         0.1511      0.020      7.629      0.000       0.112       0.190\n",
      "Q('VehBrand_10')        0.0533      0.046      1.160      0.246      -0.037       0.143\n",
      "Q('VehBrand_11')       -0.0922      0.087     -1.066      0.287      -0.262       0.077\n",
      "Q('Region_2')          -0.0772      0.049     -1.571      0.116      -0.174       0.019\n",
      "Q('Region_3')           0.0225      0.018      1.230      0.219      -0.013       0.058\n",
      "Q('Region_4')          -0.2042      0.039     -5.189      0.000      -0.281      -0.127\n",
      "Q('Region_5')          -0.1049      0.030     -3.453      0.001      -0.165      -0.045\n",
      "Q('Region_6')          -0.0959      0.039     -2.449      0.014      -0.173      -0.019\n",
      "Q('Region_7')          -0.0795      0.025     -3.161      0.002      -0.129      -0.030\n",
      "Q('Region_8')          -0.1012      0.027     -3.782      0.000      -0.154      -0.049\n",
      "Q('Region_9')           0.0416      0.025      1.666      0.096      -0.007       0.090\n",
      "Q('Region_10')          0.1341      0.071      1.901      0.057      -0.004       0.272\n",
      "Q('Region_11')         -0.0881      0.023     -3.915      0.000      -0.132      -0.044\n",
      "Q('Region_12')         -0.0658      0.028     -2.365      0.018      -0.120      -0.011\n",
      "=======================================================================================\n"
     ]
    }
   ],
   "source": [
    "print(poisson_model1.summary())"
   ]
  },
  {
   "cell_type": "markdown",
   "metadata": {},
   "source": [
    "- From the results of the `poisson_model1` we can see that the variables: `Area`, `VehPower__12`, `VehBrand_2`, `VehBrand_3`, `VehBrand_4`, `VehBrand_6`, `VehBrand_7`, `VehBrand_8`, `VehBrand_10`, `VehBrand_11`, `Region_12`: have a p-value bigger than 0.05 (for an assumed alpha=0.05), so we should consider its inclusion in the model, because they doesn't seem to be significant for frequency modelling.\n",
    "- As we saw in the correlation analysis, `Area` is highly correlated with `Density`, wich might explain why the first is not significant.\n",
    "- From the 11 `VehBrand` classes, 8 resulted non-siginificant."
   ]
  },
  {
   "cell_type": "markdown",
   "metadata": {},
   "source": [
    "#### DISPERSION:"
   ]
  },
  {
   "cell_type": "markdown",
   "metadata": {},
   "source": [
    "- Deviance statistics that accounts for potential over- or under-dispersion (φ != 1). In the Poisson model, by definition variance equal to mean (φ = 1). We can determine this parameter empirically by Pearson’s (distribution-free) dispersion estimate and and the deviance dispersion.\n",
    "- From the results of the `poisson_model1` we can see that the `scale` = 1, wich accounts for the Pearson's dispertion (Pearson's residuals/Residuals degrees of freedom), wich means that we can assume that the mean and variance are equal, the model is not overdispersed. "
   ]
  },
  {
   "cell_type": "markdown",
   "metadata": {},
   "source": [
    "- DEVIANCE DISPERTION:"
   ]
  },
  {
   "cell_type": "code",
   "execution_count": 96,
   "metadata": {
    "scrolled": true
   },
   "outputs": [
    {
     "data": {
      "text/plain": [
       "0.31778833768117626"
      ]
     },
     "execution_count": 96,
     "metadata": {},
     "output_type": "execute_result"
    }
   ],
   "source": [
    "sum((poisson_model1.resid_deviance) ** 2) / 542395"
   ]
  },
  {
   "cell_type": "code",
   "execution_count": 97,
   "metadata": {},
   "outputs": [
    {
     "data": {
      "text/plain": [
       "2.4360906512514946"
      ]
     },
     "execution_count": 97,
     "metadata": {},
     "output_type": "execute_result"
    }
   ],
   "source": [
    "(sum((poisson_model1.resid_pearson) ** 2)) / 542395"
   ]
  },
  {
   "cell_type": "markdown",
   "metadata": {},
   "source": [
    "#### TRAINING DEVIANCE-LOSS:"
   ]
  },
  {
   "cell_type": "code",
   "execution_count": 98,
   "metadata": {},
   "outputs": [
    {
     "data": {
      "text/plain": [
       "0.31780532964194214"
      ]
     },
     "execution_count": 98,
     "metadata": {},
     "output_type": "execute_result"
    }
   ],
   "source": [
    "loss_train = sum((poisson_model1.resid_deviance) ** 2) / X_train.shape[0]\n",
    "loss_train"
   ]
  },
  {
   "cell_type": "markdown",
   "metadata": {},
   "source": [
    "#### AKAIKE INFORMATION CRITERION\n",
    "- Akaike’s information criterion (AIC), which introduces a penalty term for over-fitting (to mimic an out-of-sample loss)"
   ]
  },
  {
   "cell_type": "code",
   "execution_count": 127,
   "metadata": {},
   "outputs": [
    {
     "data": {
      "text/plain": [
       "228541.37540844904"
      ]
     },
     "execution_count": 127,
     "metadata": {},
     "output_type": "execute_result"
    }
   ],
   "source": [
    "poisson_model1.aic"
   ]
  },
  {
   "cell_type": "markdown",
   "metadata": {},
   "source": [
    "#### X2-STATISTIC: NULL DEVIANCE - RESIDUAL DEVIANCE:"
   ]
  },
  {
   "cell_type": "code",
   "execution_count": 100,
   "metadata": {},
   "outputs": [
    {
     "data": {
      "text/plain": [
       "274814.06868109666"
      ]
     },
     "execution_count": 100,
     "metadata": {},
     "output_type": "execute_result"
    }
   ],
   "source": [
    "x2_statistic = (poisson_model1.null_deviance) - sum(poisson_model1.resid_deviance)\n",
    "x2_statistic"
   ]
  },
  {
   "cell_type": "markdown",
   "metadata": {},
   "source": [
    "#### ROOT MEAN SQUARE ERROR OF PREDICTION:"
   ]
  },
  {
   "cell_type": "code",
   "execution_count": 125,
   "metadata": {},
   "outputs": [],
   "source": [
    "y_test, X_test = dmatrices(expr, claimsdf_test, return_type='dataframe')"
   ]
  },
  {
   "cell_type": "code",
   "execution_count": 131,
   "metadata": {},
   "outputs": [],
   "source": [
    "poisson_model1_pred = poisson_model1.predict(X_test)"
   ]
  },
  {
   "cell_type": "markdown",
   "metadata": {},
   "source": [
    "- Let's create a dataframe with the predctions of the Poisson GLM:"
   ]
  },
  {
   "cell_type": "code",
   "execution_count": 150,
   "metadata": {},
   "outputs": [],
   "source": [
    "poisson_pred_df = pd.DataFrame(y_test)\n",
    "poisson_pred_df['predicted_ClaimNb'] = poisson_model1_pred"
   ]
  },
  {
   "cell_type": "code",
   "execution_count": 178,
   "metadata": {},
   "outputs": [],
   "source": [
    "rmse = []\n",
    "\n",
    "for _ in range(10):\n",
    "    p = poisson_pred_df.sample(n=135733)\n",
    "    rmse_ = ((((p[\"Q('ClaimNb')\"] - p['predicted_ClaimNb']) ** 2).sum())/13574) ** 0.5\n",
    "    rmse.append(rmse_)"
   ]
  },
  {
   "cell_type": "code",
   "execution_count": 188,
   "metadata": {
    "scrolled": false
   },
   "outputs": [
    {
     "data": {
      "text/plain": [
       "0.7850454180767814"
      ]
     },
     "execution_count": 188,
     "metadata": {},
     "output_type": "execute_result"
    }
   ],
   "source": [
    "poisson_rmse = sum(rmse)/len(rmse)\n",
    "poisson_rmse"
   ]
  },
  {
   "cell_type": "markdown",
   "metadata": {},
   "source": [
    "## Zero Inflated Poisson-GENERALIZED LINEAR MODEL"
   ]
  },
  {
   "cell_type": "code",
   "execution_count": 192,
   "metadata": {},
   "outputs": [
    {
     "name": "stderr",
     "output_type": "stream",
     "text": [
      "/home/julian/miniconda3/envs/ironcon/lib/python3.8/site-packages/statsmodels/base/model.py:566: ConvergenceWarning: Maximum Likelihood optimization failed to converge. Check mle_retvals\n",
      "  warnings.warn(\"Maximum Likelihood optimization failed to \"\n"
     ]
    },
    {
     "name": "stdout",
     "output_type": "stream",
     "text": [
      "Warning: Maximum number of iterations has been exceeded.\n",
      "         Current function value: 0.210410\n",
      "         Iterations: 35\n",
      "         Function evaluations: 41\n",
      "         Gradient evaluations: 41\n"
     ]
    },
    {
     "name": "stderr",
     "output_type": "stream",
     "text": [
      "/home/julian/miniconda3/envs/ironcon/lib/python3.8/site-packages/statsmodels/base/model.py:566: ConvergenceWarning: Maximum Likelihood optimization failed to converge. Check mle_retvals\n",
      "  warnings.warn(\"Maximum Likelihood optimization failed to \"\n"
     ]
    }
   ],
   "source": [
    "zip_model = sm.ZeroInflatedPoisson(endog=y_train, exog=X_train, exog_infl=X_train, exposure=claimsdf_train.Exposure, inflation='logit').fit()"
   ]
  },
  {
   "cell_type": "code",
   "execution_count": 193,
   "metadata": {
    "collapsed": true
   },
   "outputs": [
    {
     "name": "stdout",
     "output_type": "stream",
     "text": [
      "                     ZeroInflatedPoisson Regression Results                    \n",
      "===============================================================================\n",
      "Dep. Variable:            Q('ClaimNb')   No. Observations:               542280\n",
      "Model:             ZeroInflatedPoisson   Df Residuals:                   542237\n",
      "Method:                            MLE   Df Model:                           42\n",
      "Date:                 Tue, 05 Oct 2021   Pseudo R-squ.:                 0.02625\n",
      "Time:                         12:17:18   Log-Likelihood:            -1.1410e+05\n",
      "converged:                       False   LL-Null:                   -1.1718e+05\n",
      "Covariance Type:             nonrobust   LLR p-value:                     0.000\n",
      "===============================================================================================\n",
      "                                  coef    std err          z      P>|z|      [0.025      0.975]\n",
      "-----------------------------------------------------------------------------------------------\n",
      "inflate_Intercept               0.4016      0.231      1.735      0.083      -0.052       0.855\n",
      "inflate_Q('Area')              -0.0091      0.041     -0.222      0.824      -0.089       0.071\n",
      "inflate_Q('BonusMalus')        -0.0266      0.001    -19.544      0.000      -0.029      -0.024\n",
      "inflate_Q('log_density')        0.0480      0.031      1.573      0.116      -0.012       0.108\n",
      "inflate_Q('VehGas_Regular')     0.1021      0.030      3.420      0.001       0.044       0.161\n",
      "inflate_Q('VehPower__5')        0.0814      0.048      1.700      0.089      -0.012       0.175\n",
      "inflate_Q('VehPower__6')        0.0555      0.048      1.156      0.248      -0.039       0.150\n",
      "inflate_Q('VehPower__7')        0.0837      0.047      1.785      0.074      -0.008       0.176\n",
      "inflate_Q('VehPower__8')        0.1929      0.068      2.837      0.005       0.060       0.326\n",
      "inflate_Q('VehPower__9')        0.0481      0.070      0.691      0.490      -0.088       0.185\n",
      "inflate_Q('VehPower__10')       0.0534      0.071      0.756      0.450      -0.085       0.192\n",
      "inflate_Q('VehPower__11')       0.1002      0.091      1.104      0.270      -0.078       0.278\n",
      "inflate_Q('VehPower__12')       0.1221      0.098      1.241      0.215      -0.071       0.315\n",
      "inflate_Q('VehAge__2')          0.2870      0.044      6.526      0.000       0.201       0.373\n",
      "inflate_Q('VehAge__3')          0.4961      0.051      9.783      0.000       0.397       0.596\n",
      "inflate_Q('DrivAge__2')         0.1511      0.196      0.771      0.441      -0.233       0.535\n",
      "inflate_Q('DrivAge__3')         0.2715      0.183      1.485      0.138      -0.087       0.630\n",
      "inflate_Q('DrivAge__4')         0.2261      0.181      1.249      0.212      -0.129       0.581\n",
      "inflate_Q('DrivAge__5')         0.0761      0.182      0.417      0.676      -0.281       0.433\n",
      "inflate_Q('DrivAge__6')         0.1170      0.183      0.640      0.522      -0.241       0.476\n",
      "inflate_Q('DrivAge__7')         0.1253      0.185      0.676      0.499      -0.238       0.488\n",
      "inflate_Q('DrivAge__8')         0.0767      0.187      0.411      0.681      -0.289       0.443\n",
      "inflate_Q('VehBrand_2')         0.1090      0.038      2.831      0.005       0.034       0.184\n",
      "inflate_Q('VehBrand_3')         0.1184      0.056      2.116      0.034       0.009       0.228\n",
      "inflate_Q('VehBrand_4')         0.1119      0.075      1.497      0.134      -0.035       0.258\n",
      "inflate_Q('VehBrand_5')         0.0783      0.063      1.250      0.211      -0.044       0.201\n",
      "inflate_Q('VehBrand_6')         0.1203      0.071      1.704      0.088      -0.018       0.259\n",
      "inflate_Q('VehBrand_7')         0.1003      0.089      1.132      0.258      -0.073       0.274\n",
      "inflate_Q('VehBrand_8')         0.0783      0.097      0.808      0.419      -0.112       0.268\n",
      "inflate_Q('VehBrand_9')         0.0647      0.050      1.295      0.195      -0.033       0.163\n",
      "inflate_Q('VehBrand_10')        0.0956      0.100      0.958      0.338      -0.100       0.291\n",
      "inflate_Q('VehBrand_11')        0.1132      0.180      0.629      0.529      -0.239       0.466\n",
      "inflate_Q('Region_2')           0.1222      0.117      1.046      0.296      -0.107       0.351\n",
      "inflate_Q('Region_3')           0.0604      0.042      1.430      0.153      -0.022       0.143\n",
      "inflate_Q('Region_4')           0.1555      0.084      1.849      0.064      -0.009       0.320\n",
      "inflate_Q('Region_5')           0.1390      0.072      1.939      0.052      -0.001       0.279\n",
      "inflate_Q('Region_6')           0.1317      0.087      1.506      0.132      -0.040       0.303\n",
      "inflate_Q('Region_7')           0.1568      0.057      2.773      0.006       0.046       0.268\n",
      "inflate_Q('Region_8')           0.1642      0.062      2.662      0.008       0.043       0.285\n",
      "inflate_Q('Region_9')           0.0714      0.056      1.284      0.199      -0.038       0.180\n",
      "inflate_Q('Region_10')          0.0949      0.181      0.524      0.600      -0.260       0.450\n",
      "inflate_Q('Region_11')          0.0811      0.052      1.545      0.122      -0.022       0.184\n",
      "inflate_Q('Region_12')          0.1385      0.061      2.268      0.023       0.019       0.258\n",
      "Intercept                      -2.0247      0.072    -28.295      0.000      -2.165      -1.884\n",
      "Q('Area')                       0.1137      0.018      6.209      0.000       0.078       0.150\n",
      "Q('BonusMalus')                 0.0126      0.000     31.963      0.000       0.012       0.013\n",
      "Q('log_density')               -0.0512      0.014     -3.751      0.000      -0.078      -0.024\n",
      "Q('VehGas_Regular')             0.0599      0.013      4.554      0.000       0.034       0.086\n",
      "Q('VehPower__5')                0.0513      0.020      2.513      0.012       0.011       0.091\n",
      "Q('VehPower__6')                0.0781      0.020      3.854      0.000       0.038       0.118\n",
      "Q('VehPower__7')                0.0244      0.020      1.221      0.222      -0.015       0.064\n",
      "Q('VehPower__8')               -0.1921      0.031     -6.163      0.000      -0.253      -0.131\n",
      "Q('VehPower__9')                0.1135      0.032      3.497      0.000       0.050       0.177\n",
      "Q('VehPower__10')               0.1031      0.032      3.228      0.001       0.040       0.166\n",
      "Q('VehPower__11')               0.0012      0.042      0.028      0.978      -0.082       0.084\n",
      "Q('VehPower__12')              -0.0503      0.046     -1.098      0.272      -0.140       0.039\n",
      "Q('VehAge__2')                 -0.4771      0.016    -29.301      0.000      -0.509      -0.445\n",
      "Q('VehAge__3')                 -0.6578      0.020    -32.350      0.000      -0.698      -0.618\n",
      "Q('DrivAge__2')                -0.1066      0.053     -2.014      0.044      -0.210      -0.003\n",
      "Q('DrivAge__3')                -0.3594      0.053     -6.838      0.000      -0.462      -0.256\n",
      "Q('DrivAge__4')                -0.1750      0.051     -3.426      0.001      -0.275      -0.075\n",
      "Q('DrivAge__5')                -0.0117      0.052     -0.226      0.821      -0.113       0.090\n",
      "Q('DrivAge__6')                -0.0295      0.052     -0.565      0.572      -0.132       0.073\n",
      "Q('DrivAge__7')                -0.0763      0.054     -1.407      0.159      -0.183       0.030\n",
      "Q('DrivAge__8')                 0.0131      0.055      0.237      0.813      -0.096       0.122\n",
      "Q('VehBrand_2')                -0.0407      0.018     -2.318      0.020      -0.075      -0.006\n",
      "Q('VehBrand_3')                -0.0216      0.025     -0.856      0.392      -0.071       0.028\n",
      "Q('VehBrand_4')                -0.0413      0.034     -1.199      0.231      -0.109       0.026\n",
      "Q('VehBrand_5')                 0.0312      0.029      1.076      0.282      -0.026       0.088\n",
      "Q('VehBrand_6')                -0.0332      0.033     -1.008      0.314      -0.098       0.031\n",
      "Q('VehBrand_7')                -0.0126      0.043     -0.290      0.771      -0.098       0.072\n",
      "Q('VehBrand_8')                 0.0466      0.047      0.985      0.325      -0.046       0.139\n",
      "Q('VehBrand_9')                 0.1026      0.020      5.090      0.000       0.063       0.142\n",
      "Q('VehBrand_10')                0.0093      0.048      0.192      0.848      -0.086       0.104\n",
      "Q('VehBrand_11')               -0.0239      0.087     -0.276      0.783      -0.194       0.146\n",
      "Q('Region_2')                  -0.0436      0.049     -0.886      0.376      -0.140       0.053\n",
      "Q('Region_3')                  -0.0136      0.019     -0.724      0.469      -0.050       0.023\n",
      "Q('Region_4')                  -0.1000      0.040     -2.527      0.012      -0.178      -0.022\n",
      "Q('Region_5')                  -0.0806      0.031     -2.599      0.009      -0.141      -0.020\n",
      "Q('Region_6')                  -0.0667      0.040     -1.672      0.094      -0.145       0.011\n",
      "Q('Region_7')                  -0.0840      0.026     -3.223      0.001      -0.135      -0.033\n",
      "Q('Region_8')                  -0.0953      0.027     -3.467      0.001      -0.149      -0.041\n",
      "Q('Region_9')                   0.0119      0.026      0.461      0.645      -0.039       0.063\n",
      "Q('Region_10')                  0.0218      0.075      0.292      0.770      -0.125       0.168\n",
      "Q('Region_11')                  0.0105      0.023      0.457      0.648      -0.035       0.055\n",
      "Q('Region_12')                 -0.0655      0.029     -2.263      0.024      -0.122      -0.009\n",
      "===============================================================================================\n"
     ]
    }
   ],
   "source": [
    "print(zip_model.summary())"
   ]
  },
  {
   "cell_type": "markdown",
   "metadata": {},
   "source": [
    "- From the results of the `zip_poisson_model` we can see that the next variables have a p-value bigger than 0.05 (for an assumed alpha=0.05), so we should consider its inclusion in the model:\n",
    "\n",
    "- ZERO-INFLATION VARIABLES: The ones that the Logistic regression part of the ZIP model did't find useful for estimating the ϕ parameter:\n",
    "\n",
    "  `Intercept`, `Area`, `log_density` \n",
    "  \n",
    "  `VehPower_5`, `VehPower_6`, `VehPower__7`, `VehPower_9`, `VehPower_10`, `VehPower_11`,  `VehPower_12`\n",
    "  \n",
    "  `DrivAge_2`, `DrivAge_3`, `DrivAge_4`, `DrivAge_5`, `DrivAge_6`, `DrivAge_7`, `DrivAge_8`\n",
    "  \n",
    "  `VehBrand_3`, `VehBrand_4`, `VehBrand_5`, `VehBrand_6`, `VehBrand_7`, `VehBrand_8`, `VehBrand_9`, `VehBrand_10`, \n",
    "  `VehBrand_11` \n",
    "  \n",
    "  `Region_2`, `Region_3`, `Region_4`, `Region_5`, `Region_6`, `Region_9`, `Region_10`, `Region_11`\n",
    "  \n",
    "\n",
    "- VARIABLES did't find useful by the Poisson part of the ZIP model to estimate ClaimNb:\n",
    "\n",
    "   `VehBrand_3`, `VehBrand_4`, `VehBrand_5`, `VehBrand_7`, `VehBrand_8`, `VehBrand_9`, `VehBrand_10`,       \n",
    "   `VehBrand_11`\n",
    "    \n",
    "   `Region_2`, `Region_3`, `Region_6`, `Region_9`, `Region_10`, `Region_11`\n",
    " \n",
    "   `DrivAge_5`, `DrivAge_6`, `DrivAge_7`, `DrivAge_8`\n",
    " \n",
    "   `VehPower__7`, `VehPower_11`,  `VehPower_12`\n",
    " "
   ]
  },
  {
   "cell_type": "markdown",
   "metadata": {},
   "source": [
    "- For the logistic part, we'll cut: \n",
    "  `Intercept`, `Area`, `log_density`, `DriveAge` (rejected 7 out 8 classes), `Vehicle Brand` (rejected 9 of 11 classes), `Region` (rejected 8 out of 13), and `Veh_Power` (7 out of 9 classes)\n",
    "\n",
    "- For the Poisson part, we'll cut only `Vehicle Brand` (rejected 8 of 11 classes), wich is coincident with the results of the full Poisson model. We'll keep `Drivers Age`, although the rejected classes are the ones that account for the less observed frequencies. With respect to `Region`, we'll keep it because some of the rejected classes account for higer observe frequencies values, maybe the rejection come from the fact that there's a slightly correlation bewtween `Region` and `log_density` and `Area`."
   ]
  },
  {
   "cell_type": "markdown",
   "metadata": {},
   "source": [
    "#### AKAIKE INFORMATION CRITERION"
   ]
  },
  {
   "cell_type": "code",
   "execution_count": 194,
   "metadata": {
    "scrolled": true
   },
   "outputs": [
    {
     "data": {
      "text/plain": [
       "228288.53644409162"
      ]
     },
     "execution_count": 194,
     "metadata": {},
     "output_type": "execute_result"
    }
   ],
   "source": [
    "zip_model.aic"
   ]
  },
  {
   "cell_type": "markdown",
   "metadata": {},
   "source": [
    "#### ROOT MEAN SQUARE ERROR OF PREDICTION:"
   ]
  },
  {
   "cell_type": "code",
   "execution_count": 196,
   "metadata": {},
   "outputs": [],
   "source": [
    "y_test, X_test = dmatrices(expr, claimsdf_test, return_type='dataframe')"
   ]
  },
  {
   "cell_type": "code",
   "execution_count": 204,
   "metadata": {
    "scrolled": true
   },
   "outputs": [],
   "source": [
    "zip_model_pred = zip_model.predict(X_test, exog_infl=X_test, exposure=claimsdf_test.Exposure)"
   ]
  },
  {
   "cell_type": "markdown",
   "metadata": {},
   "source": [
    "- Let's create a dataframe with the predctions of the Zip GLM:"
   ]
  },
  {
   "cell_type": "code",
   "execution_count": 207,
   "metadata": {},
   "outputs": [],
   "source": [
    "zip_pred_df = pd.DataFrame(y_test)\n",
    "zip_pred_df['predicted_ClaimNb'] = zip_model_pred"
   ]
  },
  {
   "cell_type": "code",
   "execution_count": 214,
   "metadata": {},
   "outputs": [],
   "source": [
    "rmse_zip = []\n",
    "for _ in range(10):\n",
    "    zip_ = zip_pred_df.sample(n=135733)\n",
    "    rmse_ = ((((zip_[\"Q('ClaimNb')\"] - zip_['predicted_ClaimNb']) ** 2).sum())/13574) ** 0.5\n",
    "    rmse_zip.append(rmse_)    "
   ]
  },
  {
   "cell_type": "code",
   "execution_count": 216,
   "metadata": {
    "scrolled": true
   },
   "outputs": [
    {
     "data": {
      "text/plain": [
       "0.7450743707755763"
      ]
     },
     "execution_count": 216,
     "metadata": {},
     "output_type": "execute_result"
    }
   ],
   "source": [
    "zip_rmse = sum(rmse_zip)/len(rmse_zip)\n",
    "zip_rmse"
   ]
  },
  {
   "cell_type": "code",
   "execution_count": null,
   "metadata": {},
   "outputs": [],
   "source": []
  },
  {
   "cell_type": "markdown",
   "metadata": {},
   "source": [
    "### ZIP 2"
   ]
  },
  {
   "cell_type": "code",
   "execution_count": null,
   "metadata": {},
   "outputs": [],
   "source": [
    "\"\"\"Q('Region_2') + Q('Region_3') + Q('Region_4') + Q('Region_5') + Q('Region_6') + \n",
    " Q('Region_7') + Q('Region_8') + Q('Region_9') + Q('Region_10') + Q('Region_11') +\n",
    "Q('Region_12') + Q('DrivAge__2') + Q('DrivAge__3') + \n",
    "Q('DrivAge__4') + Q('DrivAge__5') + Q('DrivAge__6') + Q('DrivAge__7') + Q('DrivAge__8')\"\"\""
   ]
  },
  {
   "cell_type": "code",
   "execution_count": 221,
   "metadata": {},
   "outputs": [],
   "source": [
    "expr = \"\"\" Q('ClaimNb') ~ Q('Area') + Q('BonusMalus') + Q('log_density') + Q('VehGas_Regular') + \n",
    "                          Q('VehPower__5') + Q('VehPower__6') + Q('VehPower__7') + Q('VehPower__8') +\n",
    "                          Q('VehPower__9') + Q('VehPower__10') + Q('VehPower__11') + Q('VehPower__12') + \n",
    "                          Q('VehAge__2') + Q('VehAge__3')\n",
    "                           \"\"\""
   ]
  },
  {
   "cell_type": "code",
   "execution_count": 222,
   "metadata": {},
   "outputs": [],
   "source": [
    "y_train, X_train = dmatrices(expr, claimsdf_train, return_type='dataframe')"
   ]
  },
  {
   "cell_type": "markdown",
   "metadata": {},
   "source": [
    "- We define the train sets for the Logistic part of the model"
   ]
  },
  {
   "cell_type": "code",
   "execution_count": 223,
   "metadata": {},
   "outputs": [],
   "source": [
    "y_train2, X_train2 = dmatrices(expr, claimsdf_train, return_type='dataframe')"
   ]
  },
  {
   "cell_type": "code",
   "execution_count": 224,
   "metadata": {},
   "outputs": [],
   "source": [
    "X_train2.drop(columns=[\"Q('Area')\", \"Q('log_density')\", \"Q('VehPower__5')\", \"Q('VehPower__6')\", \"Q('VehPower__7')\", \"Q('VehPower__8')\", \"Q('VehPower__9')\", \"Q('VehPower__10')\", \"Q('VehPower__11')\", \"Q('VehPower__12')\"], inplace=True)"
   ]
  },
  {
   "cell_type": "code",
   "execution_count": 228,
   "metadata": {
    "scrolled": true
   },
   "outputs": [
    {
     "name": "stderr",
     "output_type": "stream",
     "text": [
      "/home/julian/miniconda3/envs/ironcon/lib/python3.8/site-packages/statsmodels/base/model.py:566: ConvergenceWarning: Maximum Likelihood optimization failed to converge. Check mle_retvals\n",
      "  warnings.warn(\"Maximum Likelihood optimization failed to \"\n"
     ]
    },
    {
     "name": "stdout",
     "output_type": "stream",
     "text": [
      "Warning: Maximum number of iterations has been exceeded.\n",
      "         Current function value: 0.211026\n",
      "         Iterations: 35\n",
      "         Function evaluations: 45\n",
      "         Gradient evaluations: 45\n"
     ]
    },
    {
     "name": "stderr",
     "output_type": "stream",
     "text": [
      "/home/julian/miniconda3/envs/ironcon/lib/python3.8/site-packages/statsmodels/base/model.py:566: ConvergenceWarning: Maximum Likelihood optimization failed to converge. Check mle_retvals\n",
      "  warnings.warn(\"Maximum Likelihood optimization failed to \"\n"
     ]
    }
   ],
   "source": [
    "zip_model2 = sm.ZeroInflatedPoisson(endog=y_train, exog=X_train, exog_infl=X_train2, exposure=claimsdf_train.Exposure, inflation='logit').fit()"
   ]
  },
  {
   "cell_type": "code",
   "execution_count": 226,
   "metadata": {
    "collapsed": true
   },
   "outputs": [
    {
     "name": "stdout",
     "output_type": "stream",
     "text": [
      "                     ZeroInflatedPoisson Regression Results                    \n",
      "===============================================================================\n",
      "Dep. Variable:            Q('ClaimNb')   No. Observations:               542280\n",
      "Model:             ZeroInflatedPoisson   Df Residuals:                   542265\n",
      "Method:                            MLE   Df Model:                           14\n",
      "Date:                 Tue, 05 Oct 2021   Pseudo R-squ.:                 0.02340\n",
      "Time:                         12:54:51   Log-Likelihood:            -1.1444e+05\n",
      "converged:                       False   LL-Null:                   -1.1718e+05\n",
      "Covariance Type:             nonrobust   LLR p-value:                     0.000\n",
      "===============================================================================================\n",
      "                                  coef    std err          z      P>|z|      [0.025      0.975]\n",
      "-----------------------------------------------------------------------------------------------\n",
      "inflate_Intercept               0.4079      0.056      7.249      0.000       0.298       0.518\n",
      "inflate_Q('BonusMalus')        -0.0141      0.001    -17.704      0.000      -0.016      -0.013\n",
      "inflate_Q('VehGas_Regular')     0.0830      0.025      3.264      0.001       0.033       0.133\n",
      "inflate_Q('VehAge__2')          0.3050      0.035      8.722      0.000       0.236       0.374\n",
      "inflate_Q('VehAge__3')          0.4503      0.039     11.578      0.000       0.374       0.527\n",
      "Intercept                      -2.1067      0.038    -55.686      0.000      -2.181      -2.033\n",
      "Q('Area')                       0.1328      0.018      7.216      0.000       0.097       0.169\n",
      "Q('BonusMalus')                 0.0133      0.000     40.593      0.000       0.013       0.014\n",
      "Q('log_density')               -0.0702      0.014     -5.184      0.000      -0.097      -0.044\n",
      "Q('VehGas_Regular')             0.1560      0.013     11.973      0.000       0.130       0.182\n",
      "Q('VehPower__5')               -0.0237      0.020     -1.176      0.240      -0.063       0.016\n",
      "Q('VehPower__6')                0.0290      0.020      1.440      0.150      -0.010       0.068\n",
      "Q('VehPower__7')               -0.0313      0.020     -1.578      0.115      -0.070       0.008\n",
      "Q('VehPower__8')               -0.1977      0.031     -6.481      0.000      -0.257      -0.138\n",
      "Q('VehPower__9')                0.0684      0.032      2.135      0.033       0.006       0.131\n",
      "Q('VehPower__10')               0.0796      0.032      2.507      0.012       0.017       0.142\n",
      "Q('VehPower__11')              -0.0017      0.042     -0.041      0.967      -0.084       0.080\n",
      "Q('VehPower__12')              -0.0434      0.044     -0.990      0.322      -0.129       0.042\n",
      "Q('VehAge__2')                 -0.4509      0.015    -29.246      0.000      -0.481      -0.421\n",
      "Q('VehAge__3')                 -0.6358      0.018    -34.841      0.000      -0.672      -0.600\n",
      "===============================================================================================\n"
     ]
    }
   ],
   "source": [
    "print(zip_model2.summary())"
   ]
  },
  {
   "cell_type": "code",
   "execution_count": 247,
   "metadata": {},
   "outputs": [
    {
     "data": {
      "text/plain": [
       "228900.74683430497"
      ]
     },
     "execution_count": 247,
     "metadata": {},
     "output_type": "execute_result"
    }
   ],
   "source": [
    "zip_model2.aic"
   ]
  },
  {
   "cell_type": "markdown",
   "metadata": {},
   "source": [
    "#### ROOT MEAN SQUARE ERROR OF PREDICTION:"
   ]
  },
  {
   "cell_type": "code",
   "execution_count": 230,
   "metadata": {},
   "outputs": [],
   "source": [
    "y_test, X_test = dmatrices(expr, claimsdf_test, return_type='dataframe')"
   ]
  },
  {
   "cell_type": "code",
   "execution_count": 244,
   "metadata": {},
   "outputs": [],
   "source": [
    "y_test2, X_test2 = dmatrices(expr, claimsdf_test, return_type='dataframe')"
   ]
  },
  {
   "cell_type": "code",
   "execution_count": 245,
   "metadata": {},
   "outputs": [],
   "source": [
    "X_test2.drop(columns=[\"Q('Area')\", \"Q('log_density')\", \"Q('VehPower__5')\", \"Q('VehPower__6')\", \"Q('VehPower__7')\", \"Q('VehPower__8')\", \"Q('VehPower__9')\", \"Q('VehPower__10')\", \"Q('VehPower__11')\", \"Q('VehPower__12')\"], inplace=True)"
   ]
  },
  {
   "cell_type": "code",
   "execution_count": 246,
   "metadata": {
    "scrolled": true
   },
   "outputs": [],
   "source": [
    "zip_model2_pred = zip_model2.predict(X_test, exog_infl=X_test2, exposure=claimsdf_test.Exposure)"
   ]
  },
  {
   "cell_type": "markdown",
   "metadata": {},
   "source": [
    "- Let's create a dataframe with the predctions of the Zip GLM:"
   ]
  },
  {
   "cell_type": "code",
   "execution_count": 249,
   "metadata": {},
   "outputs": [],
   "source": [
    "zip2_pred_df = pd.DataFrame(y_test)\n",
    "zip2_pred_df['predicted_ClaimNb'] = zip_model2_pred"
   ]
  },
  {
   "cell_type": "code",
   "execution_count": 250,
   "metadata": {},
   "outputs": [],
   "source": [
    "rmse_zip2 = []\n",
    "for _ in range(10):\n",
    "    zip2 = zip2_pred_df.sample(n=135733)\n",
    "    rmse_ = ((((zip2[\"Q('ClaimNb')\"] - zip2['predicted_ClaimNb']) ** 2).sum())/13574) ** 0.5\n",
    "    rmse_zip2.append(rmse_)    "
   ]
  },
  {
   "cell_type": "code",
   "execution_count": 252,
   "metadata": {
    "scrolled": true
   },
   "outputs": [
    {
     "data": {
      "text/plain": [
       "0.744998169692998"
      ]
     },
     "execution_count": 252,
     "metadata": {},
     "output_type": "execute_result"
    }
   ],
   "source": [
    "zip2_rmse = sum(rmse_zip2)/len(rmse_zip2)\n",
    "zip2_rmse"
   ]
  },
  {
   "cell_type": "code",
   "execution_count": null,
   "metadata": {},
   "outputs": [],
   "source": []
  },
  {
   "cell_type": "markdown",
   "metadata": {},
   "source": [
    "### MODEL SELECTION"
   ]
  },
  {
   "cell_type": "markdown",
   "metadata": {},
   "source": [
    "- The likelihood ratio test based on Posisson deviance can be applied recursively to a sequence of nested models. This leads to a step-wise reduction of model complexity, this is similar in spirit to the analysis of variance (ANOVA) in Listing 2.7, and it is often referred to as backward model selection"
   ]
  }
 ],
 "metadata": {
  "kernelspec": {
   "display_name": "ironcon",
   "language": "python",
   "name": "ironcon"
  },
  "language_info": {
   "codemirror_mode": {
    "name": "ipython",
    "version": 3
   },
   "file_extension": ".py",
   "mimetype": "text/x-python",
   "name": "python",
   "nbconvert_exporter": "python",
   "pygments_lexer": "ipython3",
   "version": "3.8.11"
  }
 },
 "nbformat": 4,
 "nbformat_minor": 4
}
