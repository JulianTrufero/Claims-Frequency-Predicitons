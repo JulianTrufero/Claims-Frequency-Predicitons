{
 "cells": [
  {
   "cell_type": "markdown",
   "metadata": {},
   "source": [
    "# STATISTICAL MODELLING"
   ]
  },
  {
   "cell_type": "markdown",
   "metadata": {},
   "source": [
    "### Assume that the claims count random variable N has a Poisson distribution with given years at risk v > 0 and expected frequency λ > 0. We aim at modeling the expected frequency λ > 0 such that it allows us to incorporate structural differences (heterogeneity) or systematic effects, between different insurance policies and risks.\n",
    "### v measures the volume of the aggregated portfolio. Aggregation property says that the aggregated portfolio has a compound Poisson distribution (with volume weighted expected frequency)"
   ]
  },
  {
   "cell_type": "code",
   "execution_count": 2,
   "metadata": {},
   "outputs": [],
   "source": [
    "import numpy as np\n",
    "import matplotlib.pyplot as plt\n",
    "import pandas as pd\n",
    "from patsy import dmatrices\n",
    "import seaborn as sns\n",
    "from sklearn.model_selection import train_test_split\n",
    "import statsmodels.api as sm\n",
    "from statsmodels.tools.eval_measures import rmse"
   ]
  },
  {
   "cell_type": "code",
   "execution_count": 4,
   "metadata": {},
   "outputs": [],
   "source": [
    "claimsdf = pd.read_csv('/home/julian/Cursos/Ironhack/Proyectos/ProyectoFinal/Claims-Frequency-Predictions/Notebooks/claimsdf_1.csv')"
   ]
  },
  {
   "cell_type": "code",
   "execution_count": 5,
   "metadata": {
    "scrolled": true
   },
   "outputs": [
    {
     "data": {
      "text/html": [
       "<div>\n",
       "<style scoped>\n",
       "    .dataframe tbody tr th:only-of-type {\n",
       "        vertical-align: middle;\n",
       "    }\n",
       "\n",
       "    .dataframe tbody tr th {\n",
       "        vertical-align: top;\n",
       "    }\n",
       "\n",
       "    .dataframe thead th {\n",
       "        text-align: right;\n",
       "    }\n",
       "</style>\n",
       "<table border=\"1\" class=\"dataframe\">\n",
       "  <thead>\n",
       "    <tr style=\"text-align: right;\">\n",
       "      <th></th>\n",
       "      <th>ClaimNb</th>\n",
       "      <th>Exposure</th>\n",
       "      <th>Area</th>\n",
       "      <th>BonusMalus</th>\n",
       "      <th>VehBrand</th>\n",
       "      <th>Region</th>\n",
       "      <th>empirical_frequencies</th>\n",
       "      <th>VehGas_Regular</th>\n",
       "      <th>VehPower_</th>\n",
       "      <th>VehAge_</th>\n",
       "      <th>DrivAge_</th>\n",
       "      <th>log_density</th>\n",
       "    </tr>\n",
       "  </thead>\n",
       "  <tbody>\n",
       "    <tr>\n",
       "      <th>0</th>\n",
       "      <td>1</td>\n",
       "      <td>0.10</td>\n",
       "      <td>4</td>\n",
       "      <td>50</td>\n",
       "      <td>9</td>\n",
       "      <td>1</td>\n",
       "      <td>10.000000</td>\n",
       "      <td>1</td>\n",
       "      <td>5</td>\n",
       "      <td>1</td>\n",
       "      <td>6</td>\n",
       "      <td>7.104144</td>\n",
       "    </tr>\n",
       "    <tr>\n",
       "      <th>1</th>\n",
       "      <td>1</td>\n",
       "      <td>0.77</td>\n",
       "      <td>4</td>\n",
       "      <td>50</td>\n",
       "      <td>9</td>\n",
       "      <td>1</td>\n",
       "      <td>1.298701</td>\n",
       "      <td>1</td>\n",
       "      <td>5</td>\n",
       "      <td>1</td>\n",
       "      <td>6</td>\n",
       "      <td>7.104144</td>\n",
       "    </tr>\n",
       "    <tr>\n",
       "      <th>2</th>\n",
       "      <td>1</td>\n",
       "      <td>0.75</td>\n",
       "      <td>2</td>\n",
       "      <td>50</td>\n",
       "      <td>9</td>\n",
       "      <td>5</td>\n",
       "      <td>1.333333</td>\n",
       "      <td>0</td>\n",
       "      <td>6</td>\n",
       "      <td>2</td>\n",
       "      <td>6</td>\n",
       "      <td>3.988984</td>\n",
       "    </tr>\n",
       "    <tr>\n",
       "      <th>3</th>\n",
       "      <td>1</td>\n",
       "      <td>0.09</td>\n",
       "      <td>2</td>\n",
       "      <td>50</td>\n",
       "      <td>9</td>\n",
       "      <td>7</td>\n",
       "      <td>11.111111</td>\n",
       "      <td>0</td>\n",
       "      <td>7</td>\n",
       "      <td>1</td>\n",
       "      <td>5</td>\n",
       "      <td>4.330733</td>\n",
       "    </tr>\n",
       "    <tr>\n",
       "      <th>4</th>\n",
       "      <td>1</td>\n",
       "      <td>0.84</td>\n",
       "      <td>2</td>\n",
       "      <td>50</td>\n",
       "      <td>9</td>\n",
       "      <td>7</td>\n",
       "      <td>1.190476</td>\n",
       "      <td>0</td>\n",
       "      <td>7</td>\n",
       "      <td>1</td>\n",
       "      <td>5</td>\n",
       "      <td>4.330733</td>\n",
       "    </tr>\n",
       "  </tbody>\n",
       "</table>\n",
       "</div>"
      ],
      "text/plain": [
       "   ClaimNb  Exposure  Area  BonusMalus  VehBrand  Region  \\\n",
       "0        1      0.10     4          50         9       1   \n",
       "1        1      0.77     4          50         9       1   \n",
       "2        1      0.75     2          50         9       5   \n",
       "3        1      0.09     2          50         9       7   \n",
       "4        1      0.84     2          50         9       7   \n",
       "\n",
       "   empirical_frequencies  VehGas_Regular  VehPower_  VehAge_  DrivAge_  \\\n",
       "0              10.000000               1          5        1         6   \n",
       "1               1.298701               1          5        1         6   \n",
       "2               1.333333               0          6        2         6   \n",
       "3              11.111111               0          7        1         5   \n",
       "4               1.190476               0          7        1         5   \n",
       "\n",
       "   log_density  \n",
       "0     7.104144  \n",
       "1     7.104144  \n",
       "2     3.988984  \n",
       "3     4.330733  \n",
       "4     4.330733  "
      ]
     },
     "execution_count": 5,
     "metadata": {},
     "output_type": "execute_result"
    }
   ],
   "source": [
    "claimsdf.head()"
   ]
  },
  {
   "cell_type": "code",
   "execution_count": 6,
   "metadata": {},
   "outputs": [],
   "source": [
    "claimsdf.drop(columns=['empirical_frequencies'], inplace=True)"
   ]
  },
  {
   "cell_type": "markdown",
   "metadata": {},
   "source": [
    "## Poisson-GENERALIZED LINEAR MODEL"
   ]
  },
  {
   "cell_type": "markdown",
   "metadata": {},
   "source": [
    "- The feature components interact in a multiplicative way in our Poisson GLM. One of the main tasks is to analyze whether this multiplicative interaction is appropriate. For GLM modeling approach, as the frequencies are non-linearly related to Vehicle Age and Driver Age as we've seen in the EDA, we should partition them and then treat them as categorical variables.\n",
    "- We consider 3 continuous feature components (Area, BonusMalus, log-Density), 1 binary feature component (VehGas) and 5 categorical feature components (VehPower, VehAge, DrivAge, VehBrand, Region)\n",
    "- We'll dummy-encode the categorical features, in order to get a unique MLE for β\n",
    "- In total, we'll get a 42 variable model."
   ]
  },
  {
   "cell_type": "code",
   "execution_count": 18,
   "metadata": {
    "scrolled": true
   },
   "outputs": [],
   "source": [
    "claimsdf = pd.get_dummies(claimsdf, columns=['VehPower_', 'VehAge_', 'DrivAge_', 'VehBrand', 'Region'], drop_first=True)"
   ]
  },
  {
   "cell_type": "code",
   "execution_count": 19,
   "metadata": {
    "scrolled": true
   },
   "outputs": [
    {
     "data": {
      "text/html": [
       "<div>\n",
       "<style scoped>\n",
       "    .dataframe tbody tr th:only-of-type {\n",
       "        vertical-align: middle;\n",
       "    }\n",
       "\n",
       "    .dataframe tbody tr th {\n",
       "        vertical-align: top;\n",
       "    }\n",
       "\n",
       "    .dataframe thead th {\n",
       "        text-align: right;\n",
       "    }\n",
       "</style>\n",
       "<table border=\"1\" class=\"dataframe\">\n",
       "  <thead>\n",
       "    <tr style=\"text-align: right;\">\n",
       "      <th></th>\n",
       "      <th>ClaimNb</th>\n",
       "      <th>Exposure</th>\n",
       "      <th>Area</th>\n",
       "      <th>BonusMalus</th>\n",
       "      <th>VehGas_Regular</th>\n",
       "      <th>log_density</th>\n",
       "      <th>VehPower__5</th>\n",
       "      <th>VehPower__6</th>\n",
       "      <th>VehPower__7</th>\n",
       "      <th>VehPower__8</th>\n",
       "      <th>...</th>\n",
       "      <th>Region_4</th>\n",
       "      <th>Region_5</th>\n",
       "      <th>Region_6</th>\n",
       "      <th>Region_7</th>\n",
       "      <th>Region_8</th>\n",
       "      <th>Region_9</th>\n",
       "      <th>Region_10</th>\n",
       "      <th>Region_11</th>\n",
       "      <th>Region_12</th>\n",
       "      <th>Region_13</th>\n",
       "    </tr>\n",
       "  </thead>\n",
       "  <tbody>\n",
       "    <tr>\n",
       "      <th>0</th>\n",
       "      <td>1</td>\n",
       "      <td>0.10</td>\n",
       "      <td>4</td>\n",
       "      <td>50</td>\n",
       "      <td>1</td>\n",
       "      <td>7.104144</td>\n",
       "      <td>1</td>\n",
       "      <td>0</td>\n",
       "      <td>0</td>\n",
       "      <td>0</td>\n",
       "      <td>...</td>\n",
       "      <td>0</td>\n",
       "      <td>0</td>\n",
       "      <td>0</td>\n",
       "      <td>0</td>\n",
       "      <td>0</td>\n",
       "      <td>0</td>\n",
       "      <td>0</td>\n",
       "      <td>0</td>\n",
       "      <td>0</td>\n",
       "      <td>0</td>\n",
       "    </tr>\n",
       "    <tr>\n",
       "      <th>1</th>\n",
       "      <td>1</td>\n",
       "      <td>0.77</td>\n",
       "      <td>4</td>\n",
       "      <td>50</td>\n",
       "      <td>1</td>\n",
       "      <td>7.104144</td>\n",
       "      <td>1</td>\n",
       "      <td>0</td>\n",
       "      <td>0</td>\n",
       "      <td>0</td>\n",
       "      <td>...</td>\n",
       "      <td>0</td>\n",
       "      <td>0</td>\n",
       "      <td>0</td>\n",
       "      <td>0</td>\n",
       "      <td>0</td>\n",
       "      <td>0</td>\n",
       "      <td>0</td>\n",
       "      <td>0</td>\n",
       "      <td>0</td>\n",
       "      <td>0</td>\n",
       "    </tr>\n",
       "  </tbody>\n",
       "</table>\n",
       "<p>2 rows × 45 columns</p>\n",
       "</div>"
      ],
      "text/plain": [
       "   ClaimNb  Exposure  Area  BonusMalus  VehGas_Regular  log_density  \\\n",
       "0        1      0.10     4          50               1     7.104144   \n",
       "1        1      0.77     4          50               1     7.104144   \n",
       "\n",
       "   VehPower__5  VehPower__6  VehPower__7  VehPower__8  ...  Region_4  \\\n",
       "0            1            0            0            0  ...         0   \n",
       "1            1            0            0            0  ...         0   \n",
       "\n",
       "   Region_5  Region_6  Region_7  Region_8  Region_9  Region_10  Region_11  \\\n",
       "0         0         0         0         0         0          0          0   \n",
       "1         0         0         0         0         0          0          0   \n",
       "\n",
       "   Region_12  Region_13  \n",
       "0          0          0  \n",
       "1          0          0  \n",
       "\n",
       "[2 rows x 45 columns]"
      ]
     },
     "execution_count": 19,
     "metadata": {},
     "output_type": "execute_result"
    }
   ],
   "source": [
    "claimsdf.head(2)"
   ]
  },
  {
   "cell_type": "markdown",
   "metadata": {},
   "source": [
    "- REFERENCE LEVEL (Variables for wich the b0 parameter accounts for): `VehPower__4`, `VehAge__1`, `DrivAge__1`, `VehBrand_1`, `Region_1.0`"
   ]
  },
  {
   "cell_type": "markdown",
   "metadata": {},
   "source": [
    "### MODEL TRAINING"
   ]
  },
  {
   "cell_type": "markdown",
   "metadata": {},
   "source": [
    "- Maximizing the log-likelihood for parameter β is equivalent to minimizing the deviance loss for β. In this spirit, the deviance loss plays the role of the canonical objective function that should be minimized. b is the scaled Poisson deviance loss. "
   ]
  },
  {
   "cell_type": "markdown",
   "metadata": {},
   "source": [
    "- We randomly (uniformly) select 80% of data for training and leave 20% for testing:"
   ]
  },
  {
   "cell_type": "code",
   "execution_count": 20,
   "metadata": {},
   "outputs": [],
   "source": [
    "sample = np.random.rand(len(claimsdf)) < 0.8"
   ]
  },
  {
   "cell_type": "code",
   "execution_count": 21,
   "metadata": {},
   "outputs": [],
   "source": [
    "claimsdf_train = claimsdf[sample]"
   ]
  },
  {
   "cell_type": "code",
   "execution_count": 22,
   "metadata": {
    "scrolled": false
   },
   "outputs": [
    {
     "data": {
      "text/plain": [
       "(541937, 45)"
      ]
     },
     "execution_count": 22,
     "metadata": {},
     "output_type": "execute_result"
    }
   ],
   "source": [
    "claimsdf_train.shape"
   ]
  },
  {
   "cell_type": "code",
   "execution_count": 23,
   "metadata": {},
   "outputs": [],
   "source": [
    "claimsdf_test = claimsdf[~sample]"
   ]
  },
  {
   "cell_type": "code",
   "execution_count": 24,
   "metadata": {},
   "outputs": [
    {
     "data": {
      "text/plain": [
       "(136076, 45)"
      ]
     },
     "execution_count": 24,
     "metadata": {},
     "output_type": "execute_result"
    }
   ],
   "source": [
    "claimsdf_test.shape"
   ]
  },
  {
   "cell_type": "code",
   "execution_count": 25,
   "metadata": {},
   "outputs": [],
   "source": [
    "expr = \"\"\" Q('ClaimNb') ~ Q('Area') + Q('BonusMalus') + Q('log_density') + Q('VehGas_Regular') + \n",
    "                          Q('VehPower__5') + Q('VehPower__6') + Q('VehPower__7') + Q('VehPower__8') +\n",
    "                          Q('VehPower__9') + Q('VehPower__10') + Q('VehPower__11') + Q('VehPower__12') + \n",
    "                          Q('VehAge__2') + Q('VehAge__3') + Q('DrivAge__2') + Q('DrivAge__3') + \n",
    "                          Q('DrivAge__4') + Q('DrivAge__5') + Q('DrivAge__6') + Q('DrivAge__7') + Q('DrivAge__8') +\n",
    "                          Q('VehBrand_2') + Q('VehBrand_3') + Q('VehBrand_4') + Q('VehBrand_5') + Q('VehBrand_6') +\n",
    "                          Q('VehBrand_7') + Q('VehBrand_8') + Q('VehBrand_9') + Q('VehBrand_10') + Q('VehBrand_11') +\n",
    "                          Q('Region_2') + Q('Region_3') + Q('Region_4') + Q('Region_5') + Q('Region_6') + \n",
    "                          Q('Region_7') + Q('Region_8') + Q('Region_9') + Q('Region_10') + Q('Region_11') +\n",
    "                          Q('Region_12') \"\"\""
   ]
  },
  {
   "cell_type": "markdown",
   "metadata": {},
   "source": [
    "- Build the matrices for the specified model:"
   ]
  },
  {
   "cell_type": "code",
   "execution_count": 27,
   "metadata": {
    "scrolled": true
   },
   "outputs": [],
   "source": [
    "y_train, X_train = dmatrices(expr, claimsdf_train, return_type='dataframe')"
   ]
  },
  {
   "cell_type": "markdown",
   "metadata": {},
   "source": [
    "- Fit a Poisson-GLM to the TRAIN SET"
   ]
  },
  {
   "cell_type": "code",
   "execution_count": 14,
   "metadata": {},
   "outputs": [],
   "source": [
    "poisson_model1 = sm.GLM(y_train, X_train, exposure=claimsdf_train.Exposure, family=sm.families.Poisson()).fit()"
   ]
  },
  {
   "cell_type": "code",
   "execution_count": 15,
   "metadata": {},
   "outputs": [
    {
     "name": "stdout",
     "output_type": "stream",
     "text": [
      "                 Generalized Linear Model Regression Results                  \n",
      "==============================================================================\n",
      "Dep. Variable:           Q('ClaimNb')   No. Observations:               542397\n",
      "Model:                            GLM   Df Residuals:                   542354\n",
      "Model Family:                 Poisson   Df Model:                           42\n",
      "Link Function:                    log   Scale:                          1.0000\n",
      "Method:                          IRLS   Log-Likelihood:            -1.1384e+05\n",
      "Date:                Mon, 04 Oct 2021   Deviance:                   1.7232e+05\n",
      "Time:                        18:17:52   Pearson chi2:                 1.32e+06\n",
      "No. Iterations:                     7                                         \n",
      "Covariance Type:            nonrobust                                         \n",
      "=======================================================================================\n",
      "                          coef    std err          z      P>|z|      [0.025      0.975]\n",
      "---------------------------------------------------------------------------------------\n",
      "Intercept              -3.4260      0.069    -49.818      0.000      -3.561      -3.291\n",
      "Q('Area')               0.0107      0.018      0.595      0.552      -0.025       0.046\n",
      "Q('BonusMalus')         0.0225      0.000     61.129      0.000       0.022       0.023\n",
      "Q('log_density')        0.0354      0.013      2.637      0.008       0.009       0.062\n",
      "Q('VehGas_Regular')     0.0603      0.013      4.706      0.000       0.035       0.085\n",
      "Q('VehPower__5')        0.1785      0.020      8.728      0.000       0.138       0.219\n",
      "Q('VehPower__6')        0.2193      0.020     10.778      0.000       0.179       0.259\n",
      "Q('VehPower__7')        0.1274      0.020      6.329      0.000       0.088       0.167\n",
      "Q('VehPower__8')       -0.0481      0.030     -1.597      0.110      -0.107       0.011\n",
      "Q('VehPower__9')        0.2846      0.031      9.147      0.000       0.224       0.346\n",
      "Q('VehPower__10')       0.2435      0.031      7.833      0.000       0.183       0.304\n",
      "Q('VehPower__11')       0.1774      0.041      4.374      0.000       0.098       0.257\n",
      "Q('VehPower__12')       0.0232      0.045      0.517      0.605      -0.065       0.111\n",
      "Q('VehAge__2')         -0.4916      0.016    -30.508      0.000      -0.523      -0.460\n",
      "Q('VehAge__3')         -0.6962      0.020    -35.120      0.000      -0.735      -0.657\n",
      "Q('DrivAge__2')        -0.3538      0.051     -6.970      0.000      -0.453      -0.254\n",
      "Q('DrivAge__3')        -0.4903      0.050     -9.864      0.000      -0.588      -0.393\n",
      "Q('DrivAge__4')        -0.3613      0.048     -7.486      0.000      -0.456      -0.267\n",
      "Q('DrivAge__5')        -0.0643      0.049     -1.320      0.187      -0.160       0.031\n",
      "Q('DrivAge__6')        -0.1354      0.049     -2.745      0.006      -0.232      -0.039\n",
      "Q('DrivAge__7')        -0.1508      0.051     -2.947      0.003      -0.251      -0.051\n",
      "Q('DrivAge__8')        -0.0733      0.052     -1.398      0.162      -0.176       0.029\n",
      "Q('VehBrand_2')        -0.0080      0.017     -0.466      0.641      -0.042       0.026\n",
      "Q('VehBrand_3')         0.0204      0.024      0.836      0.403      -0.027       0.068\n",
      "Q('VehBrand_4')        -0.0275      0.034     -0.810      0.418      -0.094       0.039\n",
      "Q('VehBrand_5')         0.0529      0.028      1.884      0.060      -0.002       0.108\n",
      "Q('VehBrand_6')        -0.0197      0.032     -0.612      0.540      -0.083       0.043\n",
      "Q('VehBrand_7')         0.0614      0.041      1.503      0.133      -0.019       0.141\n",
      "Q('VehBrand_8')         0.1227      0.045      2.739      0.006       0.035       0.211\n",
      "Q('VehBrand_9')         0.1702      0.020      8.596      0.000       0.131       0.209\n",
      "Q('VehBrand_10')        0.0551      0.046      1.195      0.232      -0.035       0.145\n",
      "Q('VehBrand_11')       -0.1381      0.088     -1.567      0.117      -0.311       0.035\n",
      "Q('Region_2')          -0.0647      0.049     -1.320      0.187      -0.161       0.031\n",
      "Q('Region_3')           0.0252      0.018      1.372      0.170      -0.011       0.061\n",
      "Q('Region_4')          -0.2033      0.039     -5.166      0.000      -0.280      -0.126\n",
      "Q('Region_5')          -0.0901      0.030     -2.978      0.003      -0.149      -0.031\n",
      "Q('Region_6')          -0.0476      0.038     -1.238      0.216      -0.123       0.028\n",
      "Q('Region_7')          -0.1017      0.026     -3.988      0.000      -0.152      -0.052\n",
      "Q('Region_8')          -0.0964      0.027     -3.593      0.000      -0.149      -0.044\n",
      "Q('Region_9')           0.0480      0.025      1.916      0.055      -0.001       0.097\n",
      "Q('Region_10')          0.1563      0.071      2.200      0.028       0.017       0.296\n",
      "Q('Region_11')         -0.0746      0.023     -3.314      0.001      -0.119      -0.030\n",
      "Q('Region_12')         -0.0482      0.028     -1.738      0.082      -0.103       0.006\n",
      "=======================================================================================\n"
     ]
    }
   ],
   "source": [
    "print(poisson_model1.summary())"
   ]
  },
  {
   "cell_type": "markdown",
   "metadata": {},
   "source": [
    "- From the results of the `poisson_model1` we can see that the variables: `Area`, `VehPower__12`, `VehBrand_2`, `VehBrand_3`, `VehBrand_4`, `VehBrand_6`, `VehBrand_7`, `VehBrand_8`, `VehBrand_10`, `VehBrand_11`, `Region_12`: have a p-value bigger than 0.05 (for an assumed alpha=0.05), so we should consider its inclusion in the model, because they doesn't seem to be significant for frequency modelling.\n",
    "- As we saw in the correlation analysis, `Area` is highly correlated with `Density`, wich might explain why the first is not significant.\n",
    "- From the 11 `VehBrand` classes, 8 resulted non-siginificant."
   ]
  },
  {
   "cell_type": "markdown",
   "metadata": {},
   "source": [
    "#### DISPERSION:"
   ]
  },
  {
   "cell_type": "markdown",
   "metadata": {},
   "source": [
    "- Deviance statistics that accounts for potential over- or under-dispersion (φ != 1). In the Poisson model, by definition variance equal to mean (φ = 1). We can determine this parameter empirically by Pearson’s (distribution-free) dispersion estimate and and the deviance dispersion.\n",
    "- From the results of the `poisson_model1` we can see that the `scale` = 1, wich accounts for the Pearson's dispertion (Pearson's residuals/Residuals degrees of freedom), wich means that we can assume that the mean and variance are equal, the model is not overdispersed. "
   ]
  },
  {
   "cell_type": "markdown",
   "metadata": {},
   "source": [
    "- DEVIANCE DISPERTION:"
   ]
  },
  {
   "cell_type": "code",
   "execution_count": 16,
   "metadata": {},
   "outputs": [
    {
     "data": {
      "text/plain": [
       "0.31770810751737816"
      ]
     },
     "execution_count": 16,
     "metadata": {},
     "output_type": "execute_result"
    }
   ],
   "source": [
    "sum((poisson_model1.resid_deviance) ** 2) / 542395"
   ]
  },
  {
   "cell_type": "code",
   "execution_count": 17,
   "metadata": {},
   "outputs": [
    {
     "data": {
      "text/plain": [
       "2.4275883196464054"
      ]
     },
     "execution_count": 17,
     "metadata": {},
     "output_type": "execute_result"
    }
   ],
   "source": [
    "(sum((poisson_model1.resid_pearson) ** 2)) / 542395"
   ]
  },
  {
   "cell_type": "markdown",
   "metadata": {},
   "source": [
    "#### TRAINING DEVIANCE-LOSS:"
   ]
  },
  {
   "cell_type": "code",
   "execution_count": 18,
   "metadata": {},
   "outputs": [
    {
     "data": {
      "text/plain": [
       "0.31770693602082667"
      ]
     },
     "execution_count": 18,
     "metadata": {},
     "output_type": "execute_result"
    }
   ],
   "source": [
    "loss_train = sum((poisson_model1.resid_deviance) ** 2) / X_train.shape[0]\n",
    "loss_train"
   ]
  },
  {
   "cell_type": "markdown",
   "metadata": {},
   "source": [
    "#### AKAIKE INFORMATION CRITERION\n",
    "- Akaike’s information criterion (AIC), which introduces a penalty term for over-fitting (to mimic an out-of-sample loss)"
   ]
  },
  {
   "cell_type": "code",
   "execution_count": 19,
   "metadata": {},
   "outputs": [
    {
     "data": {
      "text/plain": [
       "227773.02917851752"
      ]
     },
     "execution_count": 19,
     "metadata": {},
     "output_type": "execute_result"
    }
   ],
   "source": [
    "poisson_model1.aic"
   ]
  },
  {
   "cell_type": "markdown",
   "metadata": {},
   "source": [
    "#### X2-STATISTIC: NULL DEVIANCE - RESIDUAL DEVIANCE:"
   ]
  },
  {
   "cell_type": "code",
   "execution_count": 20,
   "metadata": {},
   "outputs": [
    {
     "data": {
      "text/plain": [
       "274700.6579827171"
      ]
     },
     "execution_count": 20,
     "metadata": {},
     "output_type": "execute_result"
    }
   ],
   "source": [
    "x2_statistic = (poisson_model1.null_deviance) - sum(poisson_model1.resid_deviance)\n",
    "x2_statistic"
   ]
  },
  {
   "cell_type": "markdown",
   "metadata": {},
   "source": [
    "#### ROOT MEAN SQUARE ERROR:"
   ]
  },
  {
   "cell_type": "code",
   "execution_count": 59,
   "metadata": {},
   "outputs": [],
   "source": [
    "\"\"\"y_test, X_test = dmatrices(expr, claimsdf_test, return_type='dataframe')\n",
    "poisson_model1_pred = poisson_model1.predict(X_test)\n",
    "pred_test1=poisson_model1_pred[:13562]\n",
    "y_test1=y_test[:13562]\"\"\""
   ]
  },
  {
   "cell_type": "markdown",
   "metadata": {},
   "source": [
    "## Zero Inflated Poisson-GENERALIZED LINEAR MODEL"
   ]
  },
  {
   "cell_type": "code",
   "execution_count": null,
   "metadata": {},
   "outputs": [],
   "source": [
    "zip_poisson_model = sm.ZeroInflatedPoisson(endog=y_train, exog=X_train, exog_infl=X_train, exposure=claimsdf_train.Exposure, inflation='logit').fit()"
   ]
  },
  {
   "cell_type": "code",
   "execution_count": 33,
   "metadata": {
    "collapsed": true
   },
   "outputs": [
    {
     "name": "stdout",
     "output_type": "stream",
     "text": [
      "                     ZeroInflatedPoisson Regression Results                    \n",
      "===============================================================================\n",
      "Dep. Variable:            Q('ClaimNb')   No. Observations:               541937\n",
      "Model:             ZeroInflatedPoisson   Df Residuals:                   541894\n",
      "Method:                            MLE   Df Model:                           42\n",
      "Date:                 Tue, 05 Oct 2021   Pseudo R-squ.:                 0.02579\n",
      "Time:                         00:19:09   Log-Likelihood:            -1.1380e+05\n",
      "converged:                       False   LL-Null:                   -1.1681e+05\n",
      "Covariance Type:             nonrobust   LLR p-value:                     0.000\n",
      "===============================================================================================\n",
      "                                  coef    std err          z      P>|z|      [0.025      0.975]\n",
      "-----------------------------------------------------------------------------------------------\n",
      "inflate_Intercept               0.3936      0.239      1.650      0.099      -0.074       0.861\n",
      "inflate_Q('Area')              -0.0195      0.041     -0.474      0.635      -0.100       0.061\n",
      "inflate_Q('BonusMalus')        -0.0249      0.001    -18.156      0.000      -0.028      -0.022\n",
      "inflate_Q('log_density')        0.0353      0.031      1.145      0.252      -0.025       0.096\n",
      "inflate_Q('VehGas_Regular')     0.1014      0.030      3.331      0.001       0.042       0.161\n",
      "inflate_Q('VehPower__5')        0.0732      0.049      1.499      0.134      -0.022       0.169\n",
      "inflate_Q('VehPower__6')        0.0532      0.049      1.086      0.277      -0.043       0.149\n",
      "inflate_Q('VehPower__7')        0.0767      0.048      1.606      0.108      -0.017       0.170\n",
      "inflate_Q('VehPower__8')        0.1900      0.069      2.741      0.006       0.054       0.326\n",
      "inflate_Q('VehPower__9')        0.0486      0.071      0.688      0.491      -0.090       0.187\n",
      "inflate_Q('VehPower__10')       0.0650      0.073      0.895      0.371      -0.077       0.207\n",
      "inflate_Q('VehPower__11')       0.1099      0.094      1.167      0.243      -0.075       0.294\n",
      "inflate_Q('VehPower__12')       0.1264      0.101      1.253      0.210      -0.071       0.324\n",
      "inflate_Q('VehAge__2')          0.2849      0.045      6.334      0.000       0.197       0.373\n",
      "inflate_Q('VehAge__3')          0.4847      0.052      9.392      0.000       0.384       0.586\n",
      "inflate_Q('DrivAge__2')         0.1528      0.200      0.764      0.445      -0.239       0.545\n",
      "inflate_Q('DrivAge__3')         0.2603      0.188      1.382      0.167      -0.109       0.629\n",
      "inflate_Q('DrivAge__4')         0.2186      0.187      1.168      0.243      -0.148       0.585\n",
      "inflate_Q('DrivAge__5')         0.0673      0.189      0.357      0.721      -0.302       0.437\n",
      "inflate_Q('DrivAge__6')         0.1130      0.189      0.597      0.550      -0.258       0.484\n",
      "inflate_Q('DrivAge__7')         0.1311      0.191      0.685      0.493      -0.244       0.506\n",
      "inflate_Q('DrivAge__8')         0.0863      0.193      0.447      0.655      -0.292       0.465\n",
      "inflate_Q('VehBrand_2')         0.1078      0.039      2.763      0.006       0.031       0.184\n",
      "inflate_Q('VehBrand_3')         0.1150      0.057      2.019      0.044       0.003       0.227\n",
      "inflate_Q('VehBrand_4')         0.1004      0.075      1.338      0.181      -0.047       0.247\n",
      "inflate_Q('VehBrand_5')         0.0786      0.064      1.234      0.217      -0.046       0.203\n",
      "inflate_Q('VehBrand_6')         0.1211      0.072      1.688      0.091      -0.020       0.262\n",
      "inflate_Q('VehBrand_7')         0.1081      0.091      1.183      0.237      -0.071       0.287\n",
      "inflate_Q('VehBrand_8')         0.0744      0.097      0.763      0.446      -0.117       0.265\n",
      "inflate_Q('VehBrand_9')         0.0719      0.051      1.405      0.160      -0.028       0.172\n",
      "inflate_Q('VehBrand_10')        0.1000      0.102      0.982      0.326      -0.100       0.300\n",
      "inflate_Q('VehBrand_11')        0.1156      0.185      0.623      0.533      -0.248       0.479\n",
      "inflate_Q('Region_2')           0.1168      0.116      1.007      0.314      -0.110       0.344\n",
      "inflate_Q('Region_3')           0.0664      0.043      1.546      0.122      -0.018       0.151\n",
      "inflate_Q('Region_4')           0.1559      0.086      1.811      0.070      -0.013       0.325\n",
      "inflate_Q('Region_5')           0.1210      0.073      1.666      0.096      -0.021       0.263\n",
      "inflate_Q('Region_6')           0.1189      0.088      1.355      0.175      -0.053       0.291\n",
      "inflate_Q('Region_7')           0.1548      0.058      2.686      0.007       0.042       0.268\n",
      "inflate_Q('Region_8')           0.1712      0.063      2.711      0.007       0.047       0.295\n",
      "inflate_Q('Region_9')           0.0747      0.057      1.317      0.188      -0.036       0.186\n",
      "inflate_Q('Region_10')          0.1004      0.190      0.528      0.598      -0.272       0.473\n",
      "inflate_Q('Region_11')          0.0702      0.054      1.295      0.195      -0.036       0.177\n",
      "inflate_Q('Region_12')          0.1413      0.062      2.268      0.023       0.019       0.263\n",
      "Intercept                      -2.0027      0.072    -27.834      0.000      -2.144      -1.862\n",
      "Q('Area')                       0.1125      0.018      6.142      0.000       0.077       0.148\n",
      "Q('BonusMalus')                 0.0129      0.000     32.439      0.000       0.012       0.014\n",
      "Q('log_density')               -0.0628      0.014     -4.603      0.000      -0.090      -0.036\n",
      "Q('VehGas_Regular')             0.0721      0.013      5.483      0.000       0.046       0.098\n",
      "Q('VehPower__5')                0.0584      0.020      2.858      0.004       0.018       0.098\n",
      "Q('VehPower__6')                0.0882      0.020      4.350      0.000       0.048       0.128\n",
      "Q('VehPower__7')                0.0303      0.020      1.518      0.129      -0.009       0.069\n",
      "Q('VehPower__8')               -0.1867      0.031     -5.991      0.000      -0.248      -0.126\n",
      "Q('VehPower__9')                0.1203      0.032      3.722      0.000       0.057       0.184\n",
      "Q('VehPower__10')               0.0829      0.032      2.562      0.010       0.019       0.146\n",
      "Q('VehPower__11')              -0.0164      0.043     -0.382      0.702      -0.101       0.068\n",
      "Q('VehPower__12')              -0.0603      0.046     -1.313      0.189      -0.150       0.030\n",
      "Q('VehAge__2')                 -0.4782      0.016    -29.324      0.000      -0.510      -0.446\n",
      "Q('VehAge__3')                 -0.6432      0.020    -31.709      0.000      -0.683      -0.603\n",
      "Q('DrivAge__2')                -0.1036      0.053     -1.943      0.052      -0.208       0.001\n",
      "Q('DrivAge__3')                -0.3307      0.053     -6.260      0.000      -0.434      -0.227\n",
      "Q('DrivAge__4')                -0.1627      0.051     -3.162      0.002      -0.263      -0.062\n",
      "Q('DrivAge__5')                -0.0081      0.052     -0.155      0.877      -0.110       0.094\n",
      "Q('DrivAge__6')                -0.0304      0.053     -0.578      0.564      -0.134       0.073\n",
      "Q('DrivAge__7')                -0.0809      0.055     -1.482      0.138      -0.188       0.026\n",
      "Q('DrivAge__8')                 0.0041      0.056      0.074      0.941      -0.105       0.114\n",
      "Q('VehBrand_2')                -0.0377      0.018     -2.152      0.031      -0.072      -0.003\n",
      "Q('VehBrand_3')                -0.0301      0.025     -1.190      0.234      -0.080       0.019\n",
      "Q('VehBrand_4')                -0.0202      0.034     -0.596      0.551      -0.087       0.046\n",
      "Q('VehBrand_5')                 0.0301      0.029      1.038      0.299      -0.027       0.087\n",
      "Q('VehBrand_6')                -0.0327      0.033     -0.993      0.321      -0.097       0.032\n",
      "Q('VehBrand_7')                -0.0179      0.044     -0.405      0.685      -0.104       0.069\n",
      "Q('VehBrand_8')                 0.0518      0.047      1.098      0.272      -0.041       0.144\n",
      "Q('VehBrand_9')                 0.1066      0.020      5.278      0.000       0.067       0.146\n",
      "Q('VehBrand_10')                0.0063      0.048      0.131      0.896      -0.089       0.101\n",
      "Q('VehBrand_11')               -0.0296      0.086     -0.343      0.732      -0.199       0.140\n",
      "Q('Region_2')                  -0.0367      0.049     -0.750      0.453      -0.133       0.059\n",
      "Q('Region_3')                  -0.0121      0.019     -0.642      0.521      -0.049       0.025\n",
      "Q('Region_4')                  -0.0978      0.039     -2.476      0.013      -0.175      -0.020\n",
      "Q('Region_5')                  -0.0489      0.031     -1.591      0.112      -0.109       0.011\n",
      "Q('Region_6')                  -0.0468      0.040     -1.183      0.237      -0.124       0.031\n",
      "Q('Region_7')                  -0.0840      0.026     -3.224      0.001      -0.135      -0.033\n",
      "Q('Region_8')                  -0.1070      0.028     -3.862      0.000      -0.161      -0.053\n",
      "Q('Region_9')                   0.0028      0.026      0.107      0.915      -0.048       0.054\n",
      "Q('Region_10')                  0.0125      0.077      0.163      0.871      -0.138       0.163\n",
      "Q('Region_11')                  0.0379      0.023      1.656      0.098      -0.007       0.083\n",
      "Q('Region_12')                 -0.0682      0.029     -2.343      0.019      -0.125      -0.011\n",
      "===============================================================================================\n"
     ]
    }
   ],
   "source": [
    "print(zip_poisson_model.summary())"
   ]
  },
  {
   "cell_type": "markdown",
   "metadata": {},
   "source": [
    "- From the results of the `zip_poisson_model` we can see that the next variables have a p-value bigger than 0.05 (for an assumed alpha=0.05), so we should consider its inclusion in the model:\n",
    "\n",
    "- ZERO-INFLATION VARIABLES: The ones that the Logistic regression part of the ZIP model did't find useful for estimating the ϕ parameter:\n",
    "\n",
    "  `Intercept`, `Area`, `log_density` \n",
    "  \n",
    "  `VehPower_5`, `VehPower_6`, `VehPower__7`, `VehPower_9`, `VehPower_10`, `VehPower_11`,  `VehPower_12`\n",
    "  \n",
    "  `DrivAge_2`, `DrivAge_3`, `DrivAge_4`, `DrivAge_5`, `DrivAge_6`, `DrivAge_7`, `DrivAge_8`\n",
    "  \n",
    "  `VehBrand_3`, `VehBrand_4`, `VehBrand_5`, `VehBrand_6`, `VehBrand_7`, `VehBrand_8`, `VehBrand_9`, `VehBrand_10`, \n",
    "  `VehBrand_11` \n",
    "  \n",
    "  `Region_2`, `Region_3`, `Region_4`, `Region_5`, `Region_6`, `Region_9`, `Region_10`, `Region_11`\n",
    "  \n",
    "\n",
    "- VARIABLES used by the Poisson part of the ZIP model to estimate ClaimNb:\n",
    "\n",
    "   `VehBrand_3`, `VehBrand_4`, `VehBrand_5`, `VehBrand_7`, `VehBrand_8`, `VehBrand_9`, `VehBrand_10`,       \n",
    "   `VehBrand_11`\n",
    "    \n",
    "   `Region_2`, `Region_3`, `Region_6`, `Region_9`, `Region_10`, `Region_11`\n",
    " \n",
    "   `DrivAge_5`, `DrivAge_6`, `DrivAge_7`, `DrivAge_8`\n",
    " \n",
    "   `VehPower__7`, `VehPower_11`,  `VehPower_12`\n",
    " "
   ]
  },
  {
   "cell_type": "markdown",
   "metadata": {},
   "source": [
    "- For the logistic part, we'll cut: \n",
    "  `Intercept`, `Area`, `log_density`, `DriveAge` (rejected 7 out 8 classes), `Vehicle Brand` (rejected 9 of 11 classes), `Region` (rejected 8 out of 13), and `Veh_Power` (7 out of 9 classes)\n",
    "\n",
    "- For the Poisson part, we'll cut only `Vehicle Brand` (rejected 8 of 11 classes), wich is coincident with the results of the full Poisson model. We'll keep `Drivers Age`, although the rejected classes are the ones that account for the less observed frequencies. With respect to `Region`, we'll keep it because some of the rejected classes account for higer observe frequencies values, maybe the rejection come from the fact that there's a slightly correlation bewtween `Region` and `log_density` and `Area`."
   ]
  },
  {
   "cell_type": "code",
   "execution_count": 34,
   "metadata": {},
   "outputs": [
    {
     "data": {
      "text/plain": [
       "227679.03056086283"
      ]
     },
     "execution_count": 34,
     "metadata": {},
     "output_type": "execute_result"
    }
   ],
   "source": [
    "zip_poisson_model.aic"
   ]
  },
  {
   "cell_type": "code",
   "execution_count": null,
   "metadata": {},
   "outputs": [],
   "source": []
  },
  {
   "cell_type": "code",
   "execution_count": null,
   "metadata": {},
   "outputs": [],
   "source": []
  },
  {
   "cell_type": "code",
   "execution_count": 68,
   "metadata": {},
   "outputs": [],
   "source": [
    "expr = \"\"\" Q('ClaimNb') ~ Q('Area') + Q('BonusMalus') + Q('log_density') + Q('VehGas_Regular') + \n",
    "                          Q('VehPower__5') + Q('VehPower__6') + Q('VehPower__7') + Q('VehPower__8') +\n",
    "                          Q('VehPower__9') + Q('VehPower__10') + Q('VehPower__11') + Q('VehPower__12') + \n",
    "                          Q('VehAge__2') + Q('VehAge__3') + Q('DrivAge__2') + Q('DrivAge__3') + \n",
    "                          Q('DrivAge__4') + Q('DrivAge__5') + Q('DrivAge__6') + Q('DrivAge__7') + Q('DrivAge__8') +\n",
    "                          Q('Region_2') + Q('Region_3') + Q('Region_4') + Q('Region_5') + Q('Region_6') + \n",
    "                          Q('Region_7') + Q('Region_8') + Q('Region_9') + Q('Region_10') + Q('Region_11') +\n",
    "                          Q('Region_12') \"\"\""
   ]
  },
  {
   "cell_type": "code",
   "execution_count": 69,
   "metadata": {
    "scrolled": true
   },
   "outputs": [],
   "source": [
    "y_train, X_train = dmatrices(expr, claimsdf_train, return_type='dataframe')"
   ]
  },
  {
   "cell_type": "code",
   "execution_count": 70,
   "metadata": {},
   "outputs": [],
   "source": [
    "y_train2, X_train2 = dmatrices(expr, claimsdf_train, return_type='dataframe')"
   ]
  },
  {
   "cell_type": "code",
   "execution_count": null,
   "metadata": {},
   "outputs": [],
   "source": []
  },
  {
   "cell_type": "code",
   "execution_count": 71,
   "metadata": {},
   "outputs": [],
   "source": [
    "X_train2.drop(columns=[\"Q('Area')\", \"Q('log_density')\", \"Q('DrivAge__4')\", \"Q('DrivAge__5')\", \"Q('DrivAge__6')\", \"Q('DrivAge__7')\", \"Q('DrivAge__8')\", \"Q('Region_2')\", \"Q('Region_3')\", \"Q('Region_4')\", \"Q('Region_5')\",\n",
    "       \"Q('Region_6')\", \"Q('Region_7')\", \"Q('Region_8')\", \"Q('Region_9')\",\n",
    "       \"Q('Region_10')\", \"Q('Region_11')\", \"Q('Region_12')\", \"Q('VehPower__5')\", \"Q('VehPower__6')\", \"Q('VehPower__7')\", \"Q('VehPower__8')\", \"Q('VehPower__9')\", \"Q('VehPower__10')\", \"Q('VehPower__11')\", \"Q('VehPower__12')\"], inplace=True)"
   ]
  },
  {
   "cell_type": "code",
   "execution_count": 64,
   "metadata": {},
   "outputs": [],
   "source": []
  },
  {
   "cell_type": "code",
   "execution_count": 74,
   "metadata": {},
   "outputs": [
    {
     "name": "stderr",
     "output_type": "stream",
     "text": [
      "/home/julian/miniconda3/envs/ironcon/lib/python3.8/site-packages/statsmodels/base/model.py:566: ConvergenceWarning: Maximum Likelihood optimization failed to converge. Check mle_retvals\n",
      "  warnings.warn(\"Maximum Likelihood optimization failed to \"\n"
     ]
    },
    {
     "name": "stdout",
     "output_type": "stream",
     "text": [
      "Warning: Maximum number of iterations has been exceeded.\n",
      "         Current function value: 0.210128\n",
      "         Iterations: 35\n",
      "         Function evaluations: 42\n",
      "         Gradient evaluations: 42\n"
     ]
    },
    {
     "name": "stderr",
     "output_type": "stream",
     "text": [
      "/home/julian/miniconda3/envs/ironcon/lib/python3.8/site-packages/statsmodels/base/model.py:566: ConvergenceWarning: Maximum Likelihood optimization failed to converge. Check mle_retvals\n",
      "  warnings.warn(\"Maximum Likelihood optimization failed to \"\n"
     ]
    }
   ],
   "source": [
    "zip_poisson_model = sm.ZeroInflatedPoisson(endog=y_train, exog=X_train, exog_infl=X_train2, exposure=claimsdf_train.Exposure, inflation='logit').fit()"
   ]
  },
  {
   "cell_type": "code",
   "execution_count": 75,
   "metadata": {},
   "outputs": [
    {
     "name": "stdout",
     "output_type": "stream",
     "text": [
      "                     ZeroInflatedPoisson Regression Results                    \n",
      "===============================================================================\n",
      "Dep. Variable:            Q('ClaimNb')   No. Observations:               541937\n",
      "Model:             ZeroInflatedPoisson   Df Residuals:                   541904\n",
      "Method:                            MLE   Df Model:                           32\n",
      "Date:                 Tue, 05 Oct 2021   Pseudo R-squ.:                 0.02511\n",
      "Time:                         01:25:29   Log-Likelihood:            -1.1388e+05\n",
      "converged:                       False   LL-Null:                   -1.1681e+05\n",
      "Covariance Type:             nonrobust   LLR p-value:                     0.000\n",
      "===============================================================================================\n",
      "                                  coef    std err          z      P>|z|      [0.025      0.975]\n",
      "-----------------------------------------------------------------------------------------------\n",
      "inflate_Intercept               0.3884      0.063      6.117      0.000       0.264       0.513\n",
      "inflate_Q('BonusMalus')        -0.0149      0.001    -15.284      0.000      -0.017      -0.013\n",
      "inflate_Q('VehGas_Regular')     0.0858      0.026      3.276      0.001       0.034       0.137\n",
      "inflate_Q('VehAge__2')          0.2950      0.036      8.192      0.000       0.224       0.366\n",
      "inflate_Q('VehAge__3')          0.4270      0.040     10.667      0.000       0.349       0.505\n",
      "inflate_Q('DrivAge__2')         0.0935      0.074      1.256      0.209      -0.052       0.239\n",
      "inflate_Q('DrivAge__3')         0.1883      0.051      3.697      0.000       0.088       0.288\n",
      "Intercept                      -1.9598      0.072    -27.247      0.000      -2.101      -1.819\n",
      "Q('Area')                       0.1762      0.018      9.544      0.000       0.140       0.212\n",
      "Q('BonusMalus')                 0.0144      0.000     35.830      0.000       0.014       0.015\n",
      "Q('log_density')               -0.1101      0.014     -8.022      0.000      -0.137      -0.083\n",
      "Q('VehGas_Regular')             0.1247      0.013      9.496      0.000       0.099       0.150\n",
      "Q('VehPower__5')               -0.0083      0.020     -0.413      0.680      -0.048       0.031\n",
      "Q('VehPower__6')                0.0312      0.020      1.547      0.122      -0.008       0.071\n",
      "Q('VehPower__7')               -0.0311      0.020     -1.566      0.117      -0.070       0.008\n",
      "Q('VehPower__8')               -0.1940      0.030     -6.398      0.000      -0.253      -0.135\n",
      "Q('VehPower__9')                0.0729      0.032      2.275      0.023       0.010       0.136\n",
      "Q('VehPower__10')               0.0560      0.032      1.745      0.081      -0.007       0.119\n",
      "Q('VehPower__11')              -0.0190      0.042     -0.451      0.652      -0.102       0.064\n",
      "Q('VehPower__12')              -0.0512      0.044     -1.172      0.241      -0.137       0.034\n",
      "Q('VehAge__2')                 -0.4545      0.016    -29.114      0.000      -0.485      -0.424\n",
      "Q('VehAge__3')                 -0.6374      0.019    -34.145      0.000      -0.674      -0.601\n",
      "Q('DrivAge__2')                -0.0240      0.054     -0.441      0.659      -0.131       0.083\n",
      "Q('DrivAge__3')                -0.2521      0.054     -4.674      0.000      -0.358      -0.146\n",
      "Q('DrivAge__4')                -0.2888      0.053     -5.468      0.000      -0.392      -0.185\n",
      "Q('DrivAge__5')                 0.0427      0.053      0.801      0.423      -0.062       0.147\n",
      "Q('DrivAge__6')                -0.0408      0.054     -0.757      0.449      -0.146       0.065\n",
      "Q('DrivAge__7')                -0.0941      0.056     -1.688      0.091      -0.203       0.015\n",
      "Q('DrivAge__8')                 0.0031      0.057      0.055      0.956      -0.108       0.115\n",
      "Q('Region_2')                  -0.0355      0.049     -0.724      0.469      -0.132       0.061\n",
      "Q('Region_3')                  -0.0090      0.019     -0.481      0.630      -0.046       0.028\n",
      "Q('Region_4')                  -0.0892      0.039     -2.299      0.022      -0.165      -0.013\n",
      "Q('Region_5')                  -0.0508      0.031     -1.648      0.099      -0.111       0.010\n",
      "Q('Region_6')                  -0.0548      0.040     -1.386      0.166      -0.132       0.023\n",
      "Q('Region_7')                  -0.1341      0.026     -5.091      0.000      -0.186      -0.082\n",
      "Q('Region_8')                  -0.1141      0.028     -4.126      0.000      -0.168      -0.060\n",
      "Q('Region_9')                  -0.0623      0.026     -2.370      0.018      -0.114      -0.011\n",
      "Q('Region_10')                  0.0120      0.078      0.153      0.878      -0.141       0.165\n",
      "Q('Region_11')                  0.0881      0.023      3.890      0.000       0.044       0.132\n",
      "Q('Region_12')                 -0.1075      0.029     -3.689      0.000      -0.165      -0.050\n",
      "===============================================================================================\n"
     ]
    }
   ],
   "source": [
    "print(zip_poisson_model.summary())"
   ]
  },
  {
   "cell_type": "code",
   "execution_count": 76,
   "metadata": {},
   "outputs": [
    {
     "data": {
      "text/plain": [
       "227818.01696923067"
      ]
     },
     "execution_count": 76,
     "metadata": {},
     "output_type": "execute_result"
    }
   ],
   "source": [
    "zip_poisson_model.aic"
   ]
  },
  {
   "cell_type": "markdown",
   "metadata": {},
   "source": [
    "### MODEL SELECTION"
   ]
  },
  {
   "cell_type": "markdown",
   "metadata": {},
   "source": [
    "- The likelihood ratio test based on Posisson deviance can be applied recursively to a sequence of nested models. This leads to a step-wise reduction of model complexity, this is similar in spirit to the analysis of variance (ANOVA) in Listing 2.7, and it is often referred to as backward model selection"
   ]
  }
 ],
 "metadata": {
  "kernelspec": {
   "display_name": "ironcon",
   "language": "python",
   "name": "ironcon"
  },
  "language_info": {
   "codemirror_mode": {
    "name": "ipython",
    "version": 3
   },
   "file_extension": ".py",
   "mimetype": "text/x-python",
   "name": "python",
   "nbconvert_exporter": "python",
   "pygments_lexer": "ipython3",
   "version": "3.8.11"
  }
 },
 "nbformat": 4,
 "nbformat_minor": 4
}
