{
 "cells": [
  {
   "cell_type": "markdown",
   "metadata": {},
   "source": [
    "# STATISTICAL MODELLING"
   ]
  },
  {
   "cell_type": "markdown",
   "metadata": {},
   "source": [
    "### Assume that the claims count random variable N has a Poisson distribution with given years at risk v > 0 and expected frequency λ > 0. We aim at modeling the expected frequency λ > 0 such that it allows us to incorporate structural differences (heterogeneity) or systematic effects, between different insurance policies and risks.\n",
    "### v measures the volume of the aggregated portfolio. Aggregation property says that the aggregated portfolio has a compound Poisson distribution (with volume weighted expected frequency)"
   ]
  },
  {
   "cell_type": "code",
   "execution_count": 1,
   "metadata": {},
   "outputs": [],
   "source": [
    "import numpy as np\n",
    "import matplotlib.pyplot as plt\n",
    "import pandas as pd\n",
    "from patsy import dmatrices\n",
    "import seaborn as sns\n",
    "from sklearn import preprocessing\n",
    "from sklearn.model_selection import train_test_split\n",
    "import statsmodels.api as sm\n",
    "from statsmodels.tools.eval_measures import rmse"
   ]
  },
  {
   "cell_type": "code",
   "execution_count": 2,
   "metadata": {},
   "outputs": [],
   "source": [
    "claimsdf = pd.read_csv('/home/julian/Cursos/Ironhack/Proyectos/ProyectoFinal/Claims-Frequency-Predictions/Notebooks/claimsdf_1.csv')"
   ]
  },
  {
   "cell_type": "code",
   "execution_count": 3,
   "metadata": {
    "scrolled": true
   },
   "outputs": [
    {
     "data": {
      "text/html": [
       "<div>\n",
       "<style scoped>\n",
       "    .dataframe tbody tr th:only-of-type {\n",
       "        vertical-align: middle;\n",
       "    }\n",
       "\n",
       "    .dataframe tbody tr th {\n",
       "        vertical-align: top;\n",
       "    }\n",
       "\n",
       "    .dataframe thead th {\n",
       "        text-align: right;\n",
       "    }\n",
       "</style>\n",
       "<table border=\"1\" class=\"dataframe\">\n",
       "  <thead>\n",
       "    <tr style=\"text-align: right;\">\n",
       "      <th></th>\n",
       "      <th>ClaimNb</th>\n",
       "      <th>Exposure</th>\n",
       "      <th>Area</th>\n",
       "      <th>BonusMalus</th>\n",
       "      <th>VehBrand</th>\n",
       "      <th>Region</th>\n",
       "      <th>empirical_frequencies</th>\n",
       "      <th>VehGas_Regular</th>\n",
       "      <th>VehPower_</th>\n",
       "      <th>VehAge_</th>\n",
       "      <th>DrivAge_</th>\n",
       "      <th>log_density</th>\n",
       "    </tr>\n",
       "  </thead>\n",
       "  <tbody>\n",
       "    <tr>\n",
       "      <th>0</th>\n",
       "      <td>1</td>\n",
       "      <td>0.10</td>\n",
       "      <td>4</td>\n",
       "      <td>50</td>\n",
       "      <td>9</td>\n",
       "      <td>1</td>\n",
       "      <td>10.000000</td>\n",
       "      <td>1</td>\n",
       "      <td>5</td>\n",
       "      <td>1</td>\n",
       "      <td>6</td>\n",
       "      <td>7.104144</td>\n",
       "    </tr>\n",
       "    <tr>\n",
       "      <th>1</th>\n",
       "      <td>1</td>\n",
       "      <td>0.77</td>\n",
       "      <td>4</td>\n",
       "      <td>50</td>\n",
       "      <td>9</td>\n",
       "      <td>1</td>\n",
       "      <td>1.298701</td>\n",
       "      <td>1</td>\n",
       "      <td>5</td>\n",
       "      <td>1</td>\n",
       "      <td>6</td>\n",
       "      <td>7.104144</td>\n",
       "    </tr>\n",
       "    <tr>\n",
       "      <th>2</th>\n",
       "      <td>1</td>\n",
       "      <td>0.75</td>\n",
       "      <td>2</td>\n",
       "      <td>50</td>\n",
       "      <td>9</td>\n",
       "      <td>5</td>\n",
       "      <td>1.333333</td>\n",
       "      <td>0</td>\n",
       "      <td>6</td>\n",
       "      <td>2</td>\n",
       "      <td>6</td>\n",
       "      <td>3.988984</td>\n",
       "    </tr>\n",
       "    <tr>\n",
       "      <th>3</th>\n",
       "      <td>1</td>\n",
       "      <td>0.09</td>\n",
       "      <td>2</td>\n",
       "      <td>50</td>\n",
       "      <td>9</td>\n",
       "      <td>7</td>\n",
       "      <td>11.111111</td>\n",
       "      <td>0</td>\n",
       "      <td>7</td>\n",
       "      <td>1</td>\n",
       "      <td>5</td>\n",
       "      <td>4.330733</td>\n",
       "    </tr>\n",
       "    <tr>\n",
       "      <th>4</th>\n",
       "      <td>1</td>\n",
       "      <td>0.84</td>\n",
       "      <td>2</td>\n",
       "      <td>50</td>\n",
       "      <td>9</td>\n",
       "      <td>7</td>\n",
       "      <td>1.190476</td>\n",
       "      <td>0</td>\n",
       "      <td>7</td>\n",
       "      <td>1</td>\n",
       "      <td>5</td>\n",
       "      <td>4.330733</td>\n",
       "    </tr>\n",
       "  </tbody>\n",
       "</table>\n",
       "</div>"
      ],
      "text/plain": [
       "   ClaimNb  Exposure  Area  BonusMalus  VehBrand  Region  \\\n",
       "0        1      0.10     4          50         9       1   \n",
       "1        1      0.77     4          50         9       1   \n",
       "2        1      0.75     2          50         9       5   \n",
       "3        1      0.09     2          50         9       7   \n",
       "4        1      0.84     2          50         9       7   \n",
       "\n",
       "   empirical_frequencies  VehGas_Regular  VehPower_  VehAge_  DrivAge_  \\\n",
       "0              10.000000               1          5        1         6   \n",
       "1               1.298701               1          5        1         6   \n",
       "2               1.333333               0          6        2         6   \n",
       "3              11.111111               0          7        1         5   \n",
       "4               1.190476               0          7        1         5   \n",
       "\n",
       "   log_density  \n",
       "0     7.104144  \n",
       "1     7.104144  \n",
       "2     3.988984  \n",
       "3     4.330733  \n",
       "4     4.330733  "
      ]
     },
     "execution_count": 3,
     "metadata": {},
     "output_type": "execute_result"
    }
   ],
   "source": [
    "claimsdf.head()"
   ]
  },
  {
   "cell_type": "code",
   "execution_count": 4,
   "metadata": {},
   "outputs": [],
   "source": [
    "claimsdf.drop(columns=['empirical_frequencies'], inplace=True)"
   ]
  },
  {
   "cell_type": "markdown",
   "metadata": {},
   "source": [
    "## Poisson-GENERALIZED LINEAR MODEL"
   ]
  },
  {
   "cell_type": "markdown",
   "metadata": {},
   "source": [
    "- The feature components interact in a multiplicative way in our Poisson GLM. One of the main tasks is to analyze whether this multiplicative interaction is appropriate. For GLM modeling approach, as the frequencies are non-linearly related to Vehicle Age and Driver Age as we've seen in the EDA, we should partition them and then treat them as categorical variables.\n",
    "- As we consider 3 continuous feature components (Area, BonusMalus, log-Density), 1 binary feature component (VehGas) and 5 categorical feature components (VehPower, VehAge, DrivAge, VehBrand, Region) that we dummy-encoded, we get a feature space dimension q = 3 + 1 + 8 + 2 + 7 + 10 + 11 = 42."
   ]
  },
  {
   "cell_type": "code",
   "execution_count": 5,
   "metadata": {
    "scrolled": true
   },
   "outputs": [],
   "source": [
    "claimsdf = pd.get_dummies(claimsdf, columns=['VehPower_', 'VehAge_', 'DrivAge_', 'VehBrand', 'Region'], drop_first=True)"
   ]
  },
  {
   "cell_type": "code",
   "execution_count": 6,
   "metadata": {
    "scrolled": true
   },
   "outputs": [
    {
     "data": {
      "text/html": [
       "<div>\n",
       "<style scoped>\n",
       "    .dataframe tbody tr th:only-of-type {\n",
       "        vertical-align: middle;\n",
       "    }\n",
       "\n",
       "    .dataframe tbody tr th {\n",
       "        vertical-align: top;\n",
       "    }\n",
       "\n",
       "    .dataframe thead th {\n",
       "        text-align: right;\n",
       "    }\n",
       "</style>\n",
       "<table border=\"1\" class=\"dataframe\">\n",
       "  <thead>\n",
       "    <tr style=\"text-align: right;\">\n",
       "      <th></th>\n",
       "      <th>ClaimNb</th>\n",
       "      <th>Exposure</th>\n",
       "      <th>Area</th>\n",
       "      <th>BonusMalus</th>\n",
       "      <th>VehGas_Regular</th>\n",
       "      <th>log_density</th>\n",
       "      <th>VehPower__5</th>\n",
       "      <th>VehPower__6</th>\n",
       "      <th>VehPower__7</th>\n",
       "      <th>VehPower__8</th>\n",
       "      <th>...</th>\n",
       "      <th>Region_4</th>\n",
       "      <th>Region_5</th>\n",
       "      <th>Region_6</th>\n",
       "      <th>Region_7</th>\n",
       "      <th>Region_8</th>\n",
       "      <th>Region_9</th>\n",
       "      <th>Region_10</th>\n",
       "      <th>Region_11</th>\n",
       "      <th>Region_12</th>\n",
       "      <th>Region_13</th>\n",
       "    </tr>\n",
       "  </thead>\n",
       "  <tbody>\n",
       "    <tr>\n",
       "      <th>0</th>\n",
       "      <td>1</td>\n",
       "      <td>0.10</td>\n",
       "      <td>4</td>\n",
       "      <td>50</td>\n",
       "      <td>1</td>\n",
       "      <td>7.104144</td>\n",
       "      <td>1</td>\n",
       "      <td>0</td>\n",
       "      <td>0</td>\n",
       "      <td>0</td>\n",
       "      <td>...</td>\n",
       "      <td>0</td>\n",
       "      <td>0</td>\n",
       "      <td>0</td>\n",
       "      <td>0</td>\n",
       "      <td>0</td>\n",
       "      <td>0</td>\n",
       "      <td>0</td>\n",
       "      <td>0</td>\n",
       "      <td>0</td>\n",
       "      <td>0</td>\n",
       "    </tr>\n",
       "    <tr>\n",
       "      <th>1</th>\n",
       "      <td>1</td>\n",
       "      <td>0.77</td>\n",
       "      <td>4</td>\n",
       "      <td>50</td>\n",
       "      <td>1</td>\n",
       "      <td>7.104144</td>\n",
       "      <td>1</td>\n",
       "      <td>0</td>\n",
       "      <td>0</td>\n",
       "      <td>0</td>\n",
       "      <td>...</td>\n",
       "      <td>0</td>\n",
       "      <td>0</td>\n",
       "      <td>0</td>\n",
       "      <td>0</td>\n",
       "      <td>0</td>\n",
       "      <td>0</td>\n",
       "      <td>0</td>\n",
       "      <td>0</td>\n",
       "      <td>0</td>\n",
       "      <td>0</td>\n",
       "    </tr>\n",
       "  </tbody>\n",
       "</table>\n",
       "<p>2 rows × 45 columns</p>\n",
       "</div>"
      ],
      "text/plain": [
       "   ClaimNb  Exposure  Area  BonusMalus  VehGas_Regular  log_density  \\\n",
       "0        1      0.10     4          50               1     7.104144   \n",
       "1        1      0.77     4          50               1     7.104144   \n",
       "\n",
       "   VehPower__5  VehPower__6  VehPower__7  VehPower__8  ...  Region_4  \\\n",
       "0            1            0            0            0  ...         0   \n",
       "1            1            0            0            0  ...         0   \n",
       "\n",
       "   Region_5  Region_6  Region_7  Region_8  Region_9  Region_10  Region_11  \\\n",
       "0         0         0         0         0         0          0          0   \n",
       "1         0         0         0         0         0          0          0   \n",
       "\n",
       "   Region_12  Region_13  \n",
       "0          0          0  \n",
       "1          0          0  \n",
       "\n",
       "[2 rows x 45 columns]"
      ]
     },
     "execution_count": 6,
     "metadata": {},
     "output_type": "execute_result"
    }
   ],
   "source": [
    "claimsdf.head(2)"
   ]
  },
  {
   "cell_type": "markdown",
   "metadata": {},
   "source": [
    "- REFERENCE LEVEL (Variables for wich the b0 parameter accounts for): `VehPower__4`, `VehAge__1`, `DrivAge__1`, `VehBrand_1`, `Region_1.0`"
   ]
  },
  {
   "cell_type": "markdown",
   "metadata": {},
   "source": [
    "### MODEL TRAINING"
   ]
  },
  {
   "cell_type": "markdown",
   "metadata": {},
   "source": [
    "- Maximizing the log-likelihood for parameter β is equivalent to minimizing the deviance loss for β. In this spirit, the deviance loss plays the role of the canonical objective function that should be minimized. b is the scaled Poisson deviance loss. "
   ]
  },
  {
   "cell_type": "markdown",
   "metadata": {},
   "source": [
    "- We randomly (uniformly) select 80% of data for training and leave 20% for testing:"
   ]
  },
  {
   "cell_type": "code",
   "execution_count": 7,
   "metadata": {},
   "outputs": [],
   "source": [
    "sample = np.random.rand(len(claimsdf)) < 0.8"
   ]
  },
  {
   "cell_type": "code",
   "execution_count": 8,
   "metadata": {},
   "outputs": [],
   "source": [
    "claimsdf_train = claimsdf[sample]"
   ]
  },
  {
   "cell_type": "code",
   "execution_count": 9,
   "metadata": {
    "scrolled": true
   },
   "outputs": [
    {
     "data": {
      "text/plain": [
       "(542397, 45)"
      ]
     },
     "execution_count": 9,
     "metadata": {},
     "output_type": "execute_result"
    }
   ],
   "source": [
    "claimsdf_train.shape"
   ]
  },
  {
   "cell_type": "code",
   "execution_count": 10,
   "metadata": {},
   "outputs": [],
   "source": [
    "claimsdf_test = claimsdf[~sample]"
   ]
  },
  {
   "cell_type": "code",
   "execution_count": 11,
   "metadata": {},
   "outputs": [
    {
     "data": {
      "text/plain": [
       "(135616, 45)"
      ]
     },
     "execution_count": 11,
     "metadata": {},
     "output_type": "execute_result"
    }
   ],
   "source": [
    "claimsdf_test.shape"
   ]
  },
  {
   "cell_type": "code",
   "execution_count": 12,
   "metadata": {},
   "outputs": [],
   "source": [
    "expr = \"\"\" Q('ClaimNb') ~ Q('Area') + Q('BonusMalus') + Q('log_density') + Q('VehGas_Regular') + \n",
    "                          Q('VehPower__5') + Q('VehPower__6') + Q('VehPower__7') + Q('VehPower__8') +\n",
    "                          Q('VehPower__9') + Q('VehPower__10') + Q('VehPower__11') + Q('VehPower__12') + \n",
    "                          Q('VehAge__2') + Q('VehAge__3') + Q('DrivAge__2') + Q('DrivAge__3') + \n",
    "                          Q('DrivAge__4') + Q('DrivAge__5') + Q('DrivAge__6') + Q('DrivAge__7') + Q('DrivAge__8') +\n",
    "                          Q('VehBrand_2') + Q('VehBrand_3') + Q('VehBrand_4') + Q('VehBrand_5') + Q('VehBrand_6') +\n",
    "                          Q('VehBrand_7') + Q('VehBrand_8') + Q('VehBrand_9') + Q('VehBrand_10') + Q('VehBrand_11') +\n",
    "                          Q('Region_2') + Q('Region_3') + Q('Region_4') + Q('Region_5') + Q('Region_6') + \n",
    "                          Q('Region_7') + Q('Region_8') + Q('Region_9') + Q('Region_10') + Q('Region_11') +\n",
    "                          Q('Region_12') \"\"\""
   ]
  },
  {
   "cell_type": "markdown",
   "metadata": {},
   "source": [
    "- Build the matrices for the specified model:"
   ]
  },
  {
   "cell_type": "code",
   "execution_count": 13,
   "metadata": {
    "scrolled": true
   },
   "outputs": [],
   "source": [
    "y_train, X_train = dmatrices(expr, claimsdf_train, return_type='dataframe')"
   ]
  },
  {
   "cell_type": "markdown",
   "metadata": {},
   "source": [
    "- Fit a Poisson-GLM to the TRAIN SET"
   ]
  },
  {
   "cell_type": "code",
   "execution_count": 14,
   "metadata": {},
   "outputs": [],
   "source": [
    "poisson_model1 = sm.GLM(y_train, X_train, exposure=claimsdf_train.Exposure, family=sm.families.Poisson()).fit()"
   ]
  },
  {
   "cell_type": "code",
   "execution_count": 15,
   "metadata": {},
   "outputs": [
    {
     "name": "stdout",
     "output_type": "stream",
     "text": [
      "                 Generalized Linear Model Regression Results                  \n",
      "==============================================================================\n",
      "Dep. Variable:           Q('ClaimNb')   No. Observations:               542397\n",
      "Model:                            GLM   Df Residuals:                   542354\n",
      "Model Family:                 Poisson   Df Model:                           42\n",
      "Link Function:                    log   Scale:                          1.0000\n",
      "Method:                          IRLS   Log-Likelihood:            -1.1384e+05\n",
      "Date:                Mon, 04 Oct 2021   Deviance:                   1.7232e+05\n",
      "Time:                        18:17:52   Pearson chi2:                 1.32e+06\n",
      "No. Iterations:                     7                                         \n",
      "Covariance Type:            nonrobust                                         \n",
      "=======================================================================================\n",
      "                          coef    std err          z      P>|z|      [0.025      0.975]\n",
      "---------------------------------------------------------------------------------------\n",
      "Intercept              -3.4260      0.069    -49.818      0.000      -3.561      -3.291\n",
      "Q('Area')               0.0107      0.018      0.595      0.552      -0.025       0.046\n",
      "Q('BonusMalus')         0.0225      0.000     61.129      0.000       0.022       0.023\n",
      "Q('log_density')        0.0354      0.013      2.637      0.008       0.009       0.062\n",
      "Q('VehGas_Regular')     0.0603      0.013      4.706      0.000       0.035       0.085\n",
      "Q('VehPower__5')        0.1785      0.020      8.728      0.000       0.138       0.219\n",
      "Q('VehPower__6')        0.2193      0.020     10.778      0.000       0.179       0.259\n",
      "Q('VehPower__7')        0.1274      0.020      6.329      0.000       0.088       0.167\n",
      "Q('VehPower__8')       -0.0481      0.030     -1.597      0.110      -0.107       0.011\n",
      "Q('VehPower__9')        0.2846      0.031      9.147      0.000       0.224       0.346\n",
      "Q('VehPower__10')       0.2435      0.031      7.833      0.000       0.183       0.304\n",
      "Q('VehPower__11')       0.1774      0.041      4.374      0.000       0.098       0.257\n",
      "Q('VehPower__12')       0.0232      0.045      0.517      0.605      -0.065       0.111\n",
      "Q('VehAge__2')         -0.4916      0.016    -30.508      0.000      -0.523      -0.460\n",
      "Q('VehAge__3')         -0.6962      0.020    -35.120      0.000      -0.735      -0.657\n",
      "Q('DrivAge__2')        -0.3538      0.051     -6.970      0.000      -0.453      -0.254\n",
      "Q('DrivAge__3')        -0.4903      0.050     -9.864      0.000      -0.588      -0.393\n",
      "Q('DrivAge__4')        -0.3613      0.048     -7.486      0.000      -0.456      -0.267\n",
      "Q('DrivAge__5')        -0.0643      0.049     -1.320      0.187      -0.160       0.031\n",
      "Q('DrivAge__6')        -0.1354      0.049     -2.745      0.006      -0.232      -0.039\n",
      "Q('DrivAge__7')        -0.1508      0.051     -2.947      0.003      -0.251      -0.051\n",
      "Q('DrivAge__8')        -0.0733      0.052     -1.398      0.162      -0.176       0.029\n",
      "Q('VehBrand_2')        -0.0080      0.017     -0.466      0.641      -0.042       0.026\n",
      "Q('VehBrand_3')         0.0204      0.024      0.836      0.403      -0.027       0.068\n",
      "Q('VehBrand_4')        -0.0275      0.034     -0.810      0.418      -0.094       0.039\n",
      "Q('VehBrand_5')         0.0529      0.028      1.884      0.060      -0.002       0.108\n",
      "Q('VehBrand_6')        -0.0197      0.032     -0.612      0.540      -0.083       0.043\n",
      "Q('VehBrand_7')         0.0614      0.041      1.503      0.133      -0.019       0.141\n",
      "Q('VehBrand_8')         0.1227      0.045      2.739      0.006       0.035       0.211\n",
      "Q('VehBrand_9')         0.1702      0.020      8.596      0.000       0.131       0.209\n",
      "Q('VehBrand_10')        0.0551      0.046      1.195      0.232      -0.035       0.145\n",
      "Q('VehBrand_11')       -0.1381      0.088     -1.567      0.117      -0.311       0.035\n",
      "Q('Region_2')          -0.0647      0.049     -1.320      0.187      -0.161       0.031\n",
      "Q('Region_3')           0.0252      0.018      1.372      0.170      -0.011       0.061\n",
      "Q('Region_4')          -0.2033      0.039     -5.166      0.000      -0.280      -0.126\n",
      "Q('Region_5')          -0.0901      0.030     -2.978      0.003      -0.149      -0.031\n",
      "Q('Region_6')          -0.0476      0.038     -1.238      0.216      -0.123       0.028\n",
      "Q('Region_7')          -0.1017      0.026     -3.988      0.000      -0.152      -0.052\n",
      "Q('Region_8')          -0.0964      0.027     -3.593      0.000      -0.149      -0.044\n",
      "Q('Region_9')           0.0480      0.025      1.916      0.055      -0.001       0.097\n",
      "Q('Region_10')          0.1563      0.071      2.200      0.028       0.017       0.296\n",
      "Q('Region_11')         -0.0746      0.023     -3.314      0.001      -0.119      -0.030\n",
      "Q('Region_12')         -0.0482      0.028     -1.738      0.082      -0.103       0.006\n",
      "=======================================================================================\n"
     ]
    }
   ],
   "source": [
    "print(poisson_model1.summary())"
   ]
  },
  {
   "cell_type": "markdown",
   "metadata": {},
   "source": [
    "- From the results of the `poisson_model1` we can see that the variables: `Area`, `VehPower__12`, `VehBrand_2`, `VehBrand_3`, `VehBrand_4`, `VehBrand_6`, `VehBrand_7`, `VehBrand_8`, `VehBrand_10`, `VehBrand_11`, `Region_10.0`, `Region_12.0`: have a p-value bigger than 0.05 (for an assumed alpha=0.05), so we should consider its inclusion in the model, because they doesn't seem to be significant for frequency modelling.\n",
    "- As we saw in the correlation analysis, `Area` is highly correlated with `Density`, wich might explain why the first is not significant.\n",
    "- From the 11 `VehBrand` classes, 8 resulted non-siginificant."
   ]
  },
  {
   "cell_type": "markdown",
   "metadata": {},
   "source": [
    "#### DISPERSION:"
   ]
  },
  {
   "cell_type": "markdown",
   "metadata": {},
   "source": [
    "- Deviance statistics that accounts for potential over- or under-dispersion (φ != 1). In the Poisson model, by definition variance equal to mean (φ = 1). We can determine this parameter empirically by Pearson’s (distribution-free) dispersion estimate and and the deviance dispersion.\n",
    "- From the results of the `poisson_model1` we can see that the `scale` = 1, wich accounts for the Pearson's dispertion (Pearson's residuals/Residuals degrees of freedom), wich means that we can assume that the mean and variance are equal, the model is not overdispersed. "
   ]
  },
  {
   "cell_type": "markdown",
   "metadata": {},
   "source": [
    "- DEVIANCE DISPERTION:"
   ]
  },
  {
   "cell_type": "code",
   "execution_count": 16,
   "metadata": {},
   "outputs": [
    {
     "data": {
      "text/plain": [
       "0.31770810751737816"
      ]
     },
     "execution_count": 16,
     "metadata": {},
     "output_type": "execute_result"
    }
   ],
   "source": [
    "sum((poisson_model1.resid_deviance) ** 2) / 542395"
   ]
  },
  {
   "cell_type": "code",
   "execution_count": 17,
   "metadata": {},
   "outputs": [
    {
     "data": {
      "text/plain": [
       "2.4275883196464054"
      ]
     },
     "execution_count": 17,
     "metadata": {},
     "output_type": "execute_result"
    }
   ],
   "source": [
    "(sum((poisson_model1.resid_pearson) ** 2)) / 542395"
   ]
  },
  {
   "cell_type": "markdown",
   "metadata": {},
   "source": [
    "#### TRAINING DEVIANCE-LOSS:"
   ]
  },
  {
   "cell_type": "code",
   "execution_count": 18,
   "metadata": {},
   "outputs": [
    {
     "data": {
      "text/plain": [
       "0.31770693602082667"
      ]
     },
     "execution_count": 18,
     "metadata": {},
     "output_type": "execute_result"
    }
   ],
   "source": [
    "loss_train = sum((poisson_model1.resid_deviance) ** 2) / X_train.shape[0]\n",
    "loss_train"
   ]
  },
  {
   "cell_type": "markdown",
   "metadata": {},
   "source": [
    "#### AKAIKE INFORMATION CRITERION"
   ]
  },
  {
   "cell_type": "code",
   "execution_count": 19,
   "metadata": {},
   "outputs": [
    {
     "data": {
      "text/plain": [
       "227773.02917851752"
      ]
     },
     "execution_count": 19,
     "metadata": {},
     "output_type": "execute_result"
    }
   ],
   "source": [
    "poisson_model1.aic"
   ]
  },
  {
   "cell_type": "markdown",
   "metadata": {},
   "source": [
    "#### X2-STATISTIC: NULL DEVIANCE - RESIDUAL DEVIANCE:"
   ]
  },
  {
   "cell_type": "code",
   "execution_count": 20,
   "metadata": {},
   "outputs": [
    {
     "data": {
      "text/plain": [
       "274700.6579827171"
      ]
     },
     "execution_count": 20,
     "metadata": {},
     "output_type": "execute_result"
    }
   ],
   "source": [
    "x2_statistic = (poisson_model1.null_deviance) - sum(poisson_model1.resid_deviance)\n",
    "x2_statistic"
   ]
  },
  {
   "cell_type": "markdown",
   "metadata": {},
   "source": [
    "#### ROOT MEAN SQUARE ERROR:"
   ]
  },
  {
   "cell_type": "code",
   "execution_count": 59,
   "metadata": {},
   "outputs": [],
   "source": [
    "\"\"\"y_test, X_test = dmatrices(expr, claimsdf_test, return_type='dataframe')\n",
    "poisson_model1_pred = poisson_model1.predict(X_test)\n",
    "pred_test1=poisson_model1_pred[:13562]\n",
    "y_test1=y_test[:13562]\"\"\""
   ]
  },
  {
   "cell_type": "markdown",
   "metadata": {},
   "source": [
    "## Zero Inflated Poisson-GENERALIZED LINEAR MODEL"
   ]
  },
  {
   "cell_type": "code",
   "execution_count": 78,
   "metadata": {},
   "outputs": [
    {
     "name": "stderr",
     "output_type": "stream",
     "text": [
      "/home/julian/miniconda3/envs/ironcon/lib/python3.8/site-packages/statsmodels/base/model.py:566: ConvergenceWarning: Maximum Likelihood optimization failed to converge. Check mle_retvals\n",
      "  warnings.warn(\"Maximum Likelihood optimization failed to \"\n"
     ]
    },
    {
     "name": "stdout",
     "output_type": "stream",
     "text": [
      "Warning: Maximum number of iterations has been exceeded.\n",
      "         Current function value: 0.209716\n",
      "         Iterations: 35\n",
      "         Function evaluations: 41\n",
      "         Gradient evaluations: 41\n"
     ]
    },
    {
     "name": "stderr",
     "output_type": "stream",
     "text": [
      "/home/julian/miniconda3/envs/ironcon/lib/python3.8/site-packages/statsmodels/base/model.py:566: ConvergenceWarning: Maximum Likelihood optimization failed to converge. Check mle_retvals\n",
      "  warnings.warn(\"Maximum Likelihood optimization failed to \"\n"
     ]
    }
   ],
   "source": [
    "zip_poisson_model = sm.ZeroInflatedPoisson(endog=y_train, exog=X_train, exog_infl=X_train, exposure=claimsdf_train.Exposure, inflation='logit').fit()"
   ]
  },
  {
   "cell_type": "code",
   "execution_count": 79,
   "metadata": {},
   "outputs": [
    {
     "name": "stdout",
     "output_type": "stream",
     "text": [
      "                     ZeroInflatedPoisson Regression Results                    \n",
      "===============================================================================\n",
      "Dep. Variable:            Q('ClaimNb')   No. Observations:               542397\n",
      "Model:             ZeroInflatedPoisson   Df Residuals:                   542354\n",
      "Method:                            MLE   Df Model:                           42\n",
      "Date:                 Mon, 04 Oct 2021   Pseudo R-squ.:                 0.02549\n",
      "Time:                         18:50:51   Log-Likelihood:            -1.1375e+05\n",
      "converged:                       False   LL-Null:                   -1.1672e+05\n",
      "Covariance Type:             nonrobust   LLR p-value:                     0.000\n",
      "===============================================================================================\n",
      "                                  coef    std err          z      P>|z|      [0.025      0.975]\n",
      "-----------------------------------------------------------------------------------------------\n",
      "inflate_Intercept               0.3933      0.270      1.457      0.145      -0.136       0.922\n",
      "inflate_Q('Area')              -0.0371      0.046     -0.808      0.419      -0.127       0.053\n",
      "inflate_Q('BonusMalus')        -0.0264      0.002    -16.394      0.000      -0.030      -0.023\n",
      "inflate_Q('log_density')        0.0300      0.034      0.873      0.383      -0.037       0.097\n",
      "inflate_Q('VehGas_Regular')     0.0924      0.034      2.729      0.006       0.026       0.159\n",
      "inflate_Q('VehPower__5')        0.0736      0.055      1.328      0.184      -0.035       0.182\n",
      "inflate_Q('VehPower__6')        0.0469      0.055      0.847      0.397      -0.062       0.156\n",
      "inflate_Q('VehPower__7')        0.0830      0.054      1.533      0.125      -0.023       0.189\n",
      "inflate_Q('VehPower__8')        0.1863      0.077      2.422      0.015       0.036       0.337\n",
      "inflate_Q('VehPower__9')        0.0524      0.079      0.661      0.508      -0.103       0.208\n",
      "inflate_Q('VehPower__10')       0.0615      0.081      0.754      0.451      -0.098       0.221\n",
      "inflate_Q('VehPower__11')       0.0946      0.102      0.927      0.354      -0.105       0.295\n",
      "inflate_Q('VehPower__12')       0.1224      0.112      1.091      0.275      -0.098       0.342\n",
      "inflate_Q('VehAge__2')          0.2941      0.053      5.580      0.000       0.191       0.397\n",
      "inflate_Q('VehAge__3')          0.4812      0.060      8.047      0.000       0.364       0.598\n",
      "inflate_Q('DrivAge__2')         0.1541      0.234      0.658      0.510      -0.305       0.613\n",
      "inflate_Q('DrivAge__3')         0.2614      0.212      1.235      0.217      -0.153       0.676\n",
      "inflate_Q('DrivAge__4')         0.2419      0.210      1.153      0.249      -0.169       0.653\n",
      "inflate_Q('DrivAge__5')         0.0641      0.212      0.303      0.762      -0.350       0.479\n",
      "inflate_Q('DrivAge__6')         0.1122      0.212      0.529      0.597      -0.303       0.528\n",
      "inflate_Q('DrivAge__7')         0.1224      0.214      0.571      0.568      -0.298       0.542\n",
      "inflate_Q('DrivAge__8')         0.0793      0.216      0.367      0.714      -0.344       0.503\n",
      "inflate_Q('VehBrand_2')         0.1068      0.043      2.473      0.013       0.022       0.192\n",
      "inflate_Q('VehBrand_3')         0.1055      0.063      1.681      0.093      -0.018       0.229\n",
      "inflate_Q('VehBrand_4')         0.1191      0.085      1.408      0.159      -0.047       0.285\n",
      "inflate_Q('VehBrand_5')         0.0800      0.070      1.138      0.255      -0.058       0.218\n",
      "inflate_Q('VehBrand_6')         0.1311      0.080      1.636      0.102      -0.026       0.288\n",
      "inflate_Q('VehBrand_7')         0.0947      0.098      0.966      0.334      -0.097       0.287\n",
      "inflate_Q('VehBrand_8')         0.0838      0.109      0.768      0.442      -0.130       0.297\n",
      "inflate_Q('VehBrand_9')         0.0583      0.058      0.999      0.318      -0.056       0.173\n",
      "inflate_Q('VehBrand_10')        0.0969      0.111      0.870      0.385      -0.121       0.315\n",
      "inflate_Q('VehBrand_11')        0.1157      0.207      0.559      0.576      -0.290       0.521\n",
      "inflate_Q('Region_2')           0.1213      0.130      0.931      0.352      -0.134       0.377\n",
      "inflate_Q('Region_3')           0.0643      0.048      1.341      0.180      -0.030       0.158\n",
      "inflate_Q('Region_4')           0.1576      0.096      1.642      0.101      -0.031       0.346\n",
      "inflate_Q('Region_5')           0.1265      0.081      1.562      0.118      -0.032       0.285\n",
      "inflate_Q('Region_6')           0.1187      0.096      1.234      0.217      -0.070       0.307\n",
      "inflate_Q('Region_7')           0.1674      0.064      2.622      0.009       0.042       0.293\n",
      "inflate_Q('Region_8')           0.1701      0.070      2.426      0.015       0.033       0.308\n",
      "inflate_Q('Region_9')           0.0747      0.063      1.194      0.232      -0.048       0.197\n",
      "inflate_Q('Region_10')          0.0951      0.205      0.464      0.642      -0.306       0.496\n",
      "inflate_Q('Region_11')          0.0685      0.062      1.110      0.267      -0.052       0.189\n",
      "inflate_Q('Region_12')          0.1364      0.069      1.991      0.046       0.002       0.271\n",
      "Intercept                      -2.0280      0.072    -28.183      0.000      -2.169      -1.887\n",
      "Q('Area')                       0.1318      0.018      7.262      0.000       0.096       0.167\n",
      "Q('BonusMalus')                 0.0129      0.000     32.743      0.000       0.012       0.014\n",
      "Q('log_density')               -0.0795      0.013     -5.892      0.000      -0.106      -0.053\n",
      "Q('VehGas_Regular')             0.0730      0.013      5.613      0.000       0.048       0.099\n",
      "Q('VehPower__5')                0.0603      0.020      2.986      0.003       0.021       0.100\n",
      "Q('VehPower__6')                0.0923      0.020      4.600      0.000       0.053       0.132\n",
      "Q('VehPower__7')                0.0255      0.020      1.290      0.197      -0.013       0.064\n",
      "Q('VehPower__8')               -0.1803      0.031     -5.877      0.000      -0.240      -0.120\n",
      "Q('VehPower__9')                0.1135      0.032      3.535      0.000       0.051       0.176\n",
      "Q('VehPower__10')               0.0844      0.032      2.648      0.008       0.022       0.147\n",
      "Q('VehPower__11')               0.0064      0.042      0.153      0.878      -0.076       0.088\n",
      "Q('VehPower__12')              -0.0493      0.045     -1.092      0.275      -0.138       0.039\n",
      "Q('VehAge__2')                 -0.4761      0.016    -29.585      0.000      -0.508      -0.445\n",
      "Q('VehAge__3')                 -0.6507      0.020    -32.437      0.000      -0.690      -0.611\n",
      "Q('DrivAge__2')                -0.1001      0.054     -1.866      0.062      -0.205       0.005\n",
      "Q('DrivAge__3')                -0.3388      0.053     -6.369      0.000      -0.443      -0.235\n",
      "Q('DrivAge__4')                -0.1918      0.052     -3.699      0.000      -0.293      -0.090\n",
      "Q('DrivAge__5')                 0.0022      0.052      0.042      0.966      -0.101       0.105\n",
      "Q('DrivAge__6')                -0.0409      0.053     -0.772      0.440      -0.145       0.063\n",
      "Q('DrivAge__7')                -0.0670      0.055     -1.222      0.222      -0.174       0.040\n",
      "Q('DrivAge__8')                 0.0077      0.056      0.137      0.891      -0.102       0.118\n",
      "Q('VehBrand_2')                -0.0361      0.017     -2.076      0.038      -0.070      -0.002\n",
      "Q('VehBrand_3')                -0.0040      0.025     -0.160      0.873      -0.053       0.045\n",
      "Q('VehBrand_4')                -0.0569      0.035     -1.646      0.100      -0.125       0.011\n",
      "Q('VehBrand_5')                 0.0233      0.029      0.808      0.419      -0.033       0.080\n",
      "Q('VehBrand_6')                -0.0576      0.033     -1.744      0.081      -0.122       0.007\n",
      "Q('VehBrand_7')                 0.0074      0.043      0.173      0.863      -0.076       0.091\n",
      "Q('VehBrand_8')                 0.0347      0.047      0.731      0.465      -0.058       0.128\n",
      "Q('VehBrand_9')                 0.1260      0.020      6.336      0.000       0.087       0.165\n",
      "Q('VehBrand_10')                0.0078      0.048      0.162      0.871      -0.087       0.102\n",
      "Q('VehBrand_11')               -0.0286      0.085     -0.335      0.738      -0.196       0.139\n",
      "Q('Region_2')                  -0.0388      0.049     -0.798      0.425      -0.134       0.057\n",
      "Q('Region_3')                  -0.0043      0.019     -0.230      0.818      -0.041       0.032\n",
      "Q('Region_4')                  -0.1004      0.039     -2.580      0.010      -0.177      -0.024\n",
      "Q('Region_5')                  -0.0735      0.030     -2.414      0.016      -0.133      -0.014\n",
      "Q('Region_6')                  -0.0441      0.039     -1.134      0.257      -0.120       0.032\n",
      "Q('Region_7')                  -0.1165      0.026     -4.457      0.000      -0.168      -0.065\n",
      "Q('Region_8')                  -0.0940      0.027     -3.450      0.001      -0.147      -0.041\n",
      "Q('Region_9')                   0.0119      0.026      0.466      0.642      -0.038       0.062\n",
      "Q('Region_10')                  0.0232      0.075      0.309      0.757      -0.124       0.170\n",
      "Q('Region_11')                  0.0292      0.023      1.294      0.196      -0.015       0.073\n",
      "Q('Region_12')                 -0.0580      0.029     -2.035      0.042      -0.114      -0.002\n",
      "===============================================================================================\n"
     ]
    }
   ],
   "source": [
    "print(zip_poisson_model.summary())"
   ]
  },
  {
   "cell_type": "markdown",
   "metadata": {},
   "source": [
    "'Region_11'\n",
    "'Region_10'\n",
    "'Region_9'\n",
    "'Region_6'\n",
    "'Region_3'\n",
    "'Region_2'\n",
    "'VehBrand_11'\n",
    "'VehBrand_10'\n",
    "'VehBrand_8'\n",
    "'VehBrand_7'\n",
    "'VehBrand_5'\n",
    "'VehBrand_4'\n",
    "'VehBrand_3'\n",
    "'DrivAge__8'\n",
    "'DrivAge__7'\n",
    "'DrivAge__6'\n",
    "'DrivAge__5'\n",
    "'VehPower__12'\n",
    "'VehPower__11'\n",
    "'VehPower__7'\n",
    "\n",
    "inflate_Intercept               0.3933      0.270      1.457      0.145      -0.136       0.922\n",
    "inflate_Q('Area')\n",
    "inflate_Q('log_density')  \n",
    "inflate_Q('VehPower__5')        0.0736      0.055      1.328      0.184      -0.035       0.182\n",
    "inflate_Q('VehPower__6')        0.0469      0.055      0.847      0.397      -0.062       0.156\n",
    "inflate_Q('VehPower__7')  \n",
    "inflate_Q('VehPower__9')        0.0524      0.079      0.661      0.508      -0.103       0.208\n",
    "inflate_Q('VehPower__10')       0.0615      0.081      0.754      0.451      -0.098       0.221\n",
    "inflate_Q('VehPower__11')       0.0946      0.102      0.927      0.354      -0.105       0.295\n",
    "inflate_Q('VehPower__12') \n",
    "inflate_Q('DrivAge__2')         0.1541      0.234      0.658      0.510      -0.305       0.613\n",
    "inflate_Q('DrivAge__3')         0.2614      0.212      1.235      0.217      -0.153       0.676\n",
    "inflate_Q('DrivAge__4')         0.2419      0.210      1.153      0.249      -0.169       0.653\n",
    "inflate_Q('DrivAge__5')         0.0641      0.212      0.303      0.762      -0.350       0.479\n",
    "inflate_Q('DrivAge__6')         0.1122      0.212      0.529      0.597      -0.303       0.528\n",
    "inflate_Q('DrivAge__7')         0.1224      0.214      0.571      0.568      -0.298       0.542\n",
    "inflate_Q('DrivAge__8') \n",
    "inflate_Q('VehBrand_3')         0.1055      0.063      1.681      0.093      -0.018       0.229\n",
    "inflate_Q('VehBrand_4')         0.1191      0.085      1.408      0.159      -0.047       0.285\n",
    "inflate_Q('VehBrand_5')         0.0800      0.070      1.138      0.255      -0.058       0.218\n",
    "inflate_Q('VehBrand_6')         0.1311      0.080      1.636      0.102      -0.026       0.288\n",
    "inflate_Q('VehBrand_7')         0.0947      0.098      0.966      0.334      -0.097       0.287\n",
    "inflate_Q('VehBrand_8')         0.0838      0.109      0.768      0.442      -0.130       0.297\n",
    "inflate_Q('VehBrand_9')         0.0583      0.058      0.999      0.318      -0.056       0.173\n",
    "inflate_Q('VehBrand_10')        0.0969      0.111      0.870      0.385      -0.121       0.315\n",
    "inflate_Q('VehBrand_11')        0.1157      0.207      0.559      0.576      -0.290       0.521\n",
    "inflate_Q('Region_2')           0.1213      0.130      0.931      0.352      -0.134       0.377\n",
    "inflate_Q('Region_3')           0.0643      0.048      1.341      0.180      -0.030       0.158\n",
    "inflate_Q('Region_4')           0.1576      0.096      1.642      0.101      -0.031       0.346\n",
    "inflate_Q('Region_5')           0.1265      0.081      1.562      0.118      -0.032       0.285\n",
    "inflate_Q('Region_6')    \n",
    "\n",
    "inflate_Q('Region_9')           0.0747      0.063      1.194      0.232      -0.048       0.197\n",
    "inflate_Q('Region_10')          0.0951      0.205      0.464      0.642      -0.306       0.496\n",
    "inflate_Q('Region_11')\n",
    "\n",
    "\n",
    "- From the results of the `zip_poisson_model` we can see that the variables: `Area`, `VehPower__12`, `VehBrand_2`, `VehBrand_3`, `VehBrand_4`, `VehBrand_6`, `VehBrand_7`, `VehBrand_8`, `VehBrand_10`, `VehBrand_11`, `Region_10.0`, `Region_12.0`: have a p-value bigger than 0.05 (for an assumed alpha=0.05), so we should consider its inclusion in the model, because they doesn't seem to be significant for frequency modelling.\n",
    "- As we saw in the correlation analysis, `Area` is highly correlated with `Density`, wich might explain why the first is not significant.\n",
    "- From the 11 `VehBrand` classes, 8 resulted non-siginificant."
   ]
  },
  {
   "cell_type": "code",
   "execution_count": 81,
   "metadata": {},
   "outputs": [
    {
     "data": {
      "text/plain": [
       "227584.9486195171"
      ]
     },
     "execution_count": 81,
     "metadata": {},
     "output_type": "execute_result"
    }
   ],
   "source": [
    "zip_poisson_model.aic"
   ]
  },
  {
   "cell_type": "markdown",
   "metadata": {},
   "source": [
    "### MODEL SELECTION"
   ]
  },
  {
   "cell_type": "markdown",
   "metadata": {},
   "source": [
    "- The likelihood ratio test based on Posisson deviance can be applied recursively to a sequence of nested models. This leads to a step-wise reduction of model complexity, this is similar in spirit to the analysis of variance (ANOVA) in Listing 2.7, and it is often referred to as backward model selection"
   ]
  }
 ],
 "metadata": {
  "kernelspec": {
   "display_name": "ironcon",
   "language": "python",
   "name": "ironcon"
  },
  "language_info": {
   "codemirror_mode": {
    "name": "ipython",
    "version": 3
   },
   "file_extension": ".py",
   "mimetype": "text/x-python",
   "name": "python",
   "nbconvert_exporter": "python",
   "pygments_lexer": "ipython3",
   "version": "3.8.11"
  }
 },
 "nbformat": 4,
 "nbformat_minor": 4
}
