{
 "cells": [
  {
   "cell_type": "markdown",
   "metadata": {},
   "source": [
    "# STATISTICAL MODELLING"
   ]
  },
  {
   "cell_type": "markdown",
   "metadata": {},
   "source": [
    "### Assume that the claims count random variable N has a Poisson distribution with given years at risk v > 0 and expected frequency λ > 0. We aim at modeling the expected frequency λ > 0 such that it allows us to incorporate structural differences (heterogeneity) or systematic effects, between different insurance policies and risks.\n",
    "### v measures the volume of the aggregated portfolio. Aggregation property says that the aggregated portfolio has a compound Poisson distribution (with volume weighted expected frequency)"
   ]
  },
  {
   "cell_type": "code",
   "execution_count": 137,
   "metadata": {},
   "outputs": [],
   "source": [
    "import numpy as np\n",
    "import matplotlib.pyplot as plt\n",
    "import pandas as pd\n",
    "from patsy import dmatrices\n",
    "import seaborn as sns\n",
    "from sklearn import preprocessing\n",
    "from sklearn.model_selection import train_test_split\n",
    "import statsmodels.api as sm"
   ]
  },
  {
   "cell_type": "code",
   "execution_count": 138,
   "metadata": {},
   "outputs": [],
   "source": [
    "claimsdf = pd.read_csv('/home/julian/Cursos/Ironhack/Proyectos/ProyectoFinal/Claims-Frequency-Predictions/Notebooks/claimsdf_1.csv')"
   ]
  },
  {
   "cell_type": "code",
   "execution_count": 139,
   "metadata": {},
   "outputs": [
    {
     "data": {
      "text/html": [
       "<div>\n",
       "<style scoped>\n",
       "    .dataframe tbody tr th:only-of-type {\n",
       "        vertical-align: middle;\n",
       "    }\n",
       "\n",
       "    .dataframe tbody tr th {\n",
       "        vertical-align: top;\n",
       "    }\n",
       "\n",
       "    .dataframe thead th {\n",
       "        text-align: right;\n",
       "    }\n",
       "</style>\n",
       "<table border=\"1\" class=\"dataframe\">\n",
       "  <thead>\n",
       "    <tr style=\"text-align: right;\">\n",
       "      <th></th>\n",
       "      <th>ClaimNb</th>\n",
       "      <th>Exposure</th>\n",
       "      <th>Area</th>\n",
       "      <th>BonusMalus</th>\n",
       "      <th>VehBrand</th>\n",
       "      <th>Region</th>\n",
       "      <th>empirical_frequencies</th>\n",
       "      <th>VehGas_Regular</th>\n",
       "      <th>VehPower_</th>\n",
       "      <th>VehAge_</th>\n",
       "      <th>DrivAge_</th>\n",
       "      <th>log_density</th>\n",
       "    </tr>\n",
       "  </thead>\n",
       "  <tbody>\n",
       "    <tr>\n",
       "      <th>0</th>\n",
       "      <td>1</td>\n",
       "      <td>0.10</td>\n",
       "      <td>4</td>\n",
       "      <td>50</td>\n",
       "      <td>9</td>\n",
       "      <td>1</td>\n",
       "      <td>10.000000</td>\n",
       "      <td>1</td>\n",
       "      <td>5</td>\n",
       "      <td>1</td>\n",
       "      <td>6</td>\n",
       "      <td>7.104144</td>\n",
       "    </tr>\n",
       "    <tr>\n",
       "      <th>1</th>\n",
       "      <td>1</td>\n",
       "      <td>0.77</td>\n",
       "      <td>4</td>\n",
       "      <td>50</td>\n",
       "      <td>9</td>\n",
       "      <td>1</td>\n",
       "      <td>1.298701</td>\n",
       "      <td>1</td>\n",
       "      <td>5</td>\n",
       "      <td>1</td>\n",
       "      <td>6</td>\n",
       "      <td>7.104144</td>\n",
       "    </tr>\n",
       "    <tr>\n",
       "      <th>2</th>\n",
       "      <td>1</td>\n",
       "      <td>0.75</td>\n",
       "      <td>2</td>\n",
       "      <td>50</td>\n",
       "      <td>9</td>\n",
       "      <td>5</td>\n",
       "      <td>1.333333</td>\n",
       "      <td>0</td>\n",
       "      <td>6</td>\n",
       "      <td>2</td>\n",
       "      <td>6</td>\n",
       "      <td>3.988984</td>\n",
       "    </tr>\n",
       "    <tr>\n",
       "      <th>3</th>\n",
       "      <td>1</td>\n",
       "      <td>0.09</td>\n",
       "      <td>2</td>\n",
       "      <td>50</td>\n",
       "      <td>9</td>\n",
       "      <td>7</td>\n",
       "      <td>11.111111</td>\n",
       "      <td>0</td>\n",
       "      <td>7</td>\n",
       "      <td>1</td>\n",
       "      <td>5</td>\n",
       "      <td>4.330733</td>\n",
       "    </tr>\n",
       "    <tr>\n",
       "      <th>4</th>\n",
       "      <td>1</td>\n",
       "      <td>0.84</td>\n",
       "      <td>2</td>\n",
       "      <td>50</td>\n",
       "      <td>9</td>\n",
       "      <td>7</td>\n",
       "      <td>1.190476</td>\n",
       "      <td>0</td>\n",
       "      <td>7</td>\n",
       "      <td>1</td>\n",
       "      <td>5</td>\n",
       "      <td>4.330733</td>\n",
       "    </tr>\n",
       "  </tbody>\n",
       "</table>\n",
       "</div>"
      ],
      "text/plain": [
       "   ClaimNb  Exposure  Area  BonusMalus  VehBrand  Region  \\\n",
       "0        1      0.10     4          50         9       1   \n",
       "1        1      0.77     4          50         9       1   \n",
       "2        1      0.75     2          50         9       5   \n",
       "3        1      0.09     2          50         9       7   \n",
       "4        1      0.84     2          50         9       7   \n",
       "\n",
       "   empirical_frequencies  VehGas_Regular  VehPower_  VehAge_  DrivAge_  \\\n",
       "0              10.000000               1          5        1         6   \n",
       "1               1.298701               1          5        1         6   \n",
       "2               1.333333               0          6        2         6   \n",
       "3              11.111111               0          7        1         5   \n",
       "4               1.190476               0          7        1         5   \n",
       "\n",
       "   log_density  \n",
       "0     7.104144  \n",
       "1     7.104144  \n",
       "2     3.988984  \n",
       "3     4.330733  \n",
       "4     4.330733  "
      ]
     },
     "execution_count": 139,
     "metadata": {},
     "output_type": "execute_result"
    }
   ],
   "source": [
    "claimsdf.head()"
   ]
  },
  {
   "cell_type": "code",
   "execution_count": 140,
   "metadata": {},
   "outputs": [],
   "source": [
    "claimsdf.drop(columns=['empirical_frequencies'], inplace=True)"
   ]
  },
  {
   "cell_type": "markdown",
   "metadata": {},
   "source": [
    "## Poisson-GENERALIZED LINEAR MODEL"
   ]
  },
  {
   "cell_type": "markdown",
   "metadata": {},
   "source": [
    "- The feature components interact in a multiplicative way in our Poisson GLM. One of the main tasks is to analyze whether this multiplicative interaction is appropriate. For GLM modeling approach, as the frequencies are non-linearly related to Vehicle Age and Driver Age as we've seen in the EDA, we should partition them and then treat them as categorical variables.\n",
    "- As we consider 3 continuous feature components (Area, BonusMalus, log-Density), 1 binary feature component (VehGas) and 5 categorical feature components (VehPower, VehAge, DrivAge, VehBrand, Region) that we dummy-encoded, we get a feature space dimension q = 3 + 1 + 8 + 2 + 7 + 10 + 11 = 42."
   ]
  },
  {
   "cell_type": "code",
   "execution_count": 141,
   "metadata": {
    "scrolled": true
   },
   "outputs": [],
   "source": [
    "claimsdf = pd.get_dummies(claimsdf, columns=['VehPower_', 'VehAge_', 'DrivAge_', 'VehBrand', 'Region'], drop_first=True)"
   ]
  },
  {
   "cell_type": "code",
   "execution_count": 142,
   "metadata": {},
   "outputs": [
    {
     "data": {
      "text/html": [
       "<div>\n",
       "<style scoped>\n",
       "    .dataframe tbody tr th:only-of-type {\n",
       "        vertical-align: middle;\n",
       "    }\n",
       "\n",
       "    .dataframe tbody tr th {\n",
       "        vertical-align: top;\n",
       "    }\n",
       "\n",
       "    .dataframe thead th {\n",
       "        text-align: right;\n",
       "    }\n",
       "</style>\n",
       "<table border=\"1\" class=\"dataframe\">\n",
       "  <thead>\n",
       "    <tr style=\"text-align: right;\">\n",
       "      <th></th>\n",
       "      <th>ClaimNb</th>\n",
       "      <th>Exposure</th>\n",
       "      <th>Area</th>\n",
       "      <th>BonusMalus</th>\n",
       "      <th>VehGas_Regular</th>\n",
       "      <th>log_density</th>\n",
       "      <th>VehPower__5</th>\n",
       "      <th>VehPower__6</th>\n",
       "      <th>VehPower__7</th>\n",
       "      <th>VehPower__8</th>\n",
       "      <th>...</th>\n",
       "      <th>Region_4</th>\n",
       "      <th>Region_5</th>\n",
       "      <th>Region_6</th>\n",
       "      <th>Region_7</th>\n",
       "      <th>Region_8</th>\n",
       "      <th>Region_9</th>\n",
       "      <th>Region_10</th>\n",
       "      <th>Region_11</th>\n",
       "      <th>Region_12</th>\n",
       "      <th>Region_13</th>\n",
       "    </tr>\n",
       "  </thead>\n",
       "  <tbody>\n",
       "    <tr>\n",
       "      <th>0</th>\n",
       "      <td>1</td>\n",
       "      <td>0.10</td>\n",
       "      <td>4</td>\n",
       "      <td>50</td>\n",
       "      <td>1</td>\n",
       "      <td>7.104144</td>\n",
       "      <td>1</td>\n",
       "      <td>0</td>\n",
       "      <td>0</td>\n",
       "      <td>0</td>\n",
       "      <td>...</td>\n",
       "      <td>0</td>\n",
       "      <td>0</td>\n",
       "      <td>0</td>\n",
       "      <td>0</td>\n",
       "      <td>0</td>\n",
       "      <td>0</td>\n",
       "      <td>0</td>\n",
       "      <td>0</td>\n",
       "      <td>0</td>\n",
       "      <td>0</td>\n",
       "    </tr>\n",
       "    <tr>\n",
       "      <th>1</th>\n",
       "      <td>1</td>\n",
       "      <td>0.77</td>\n",
       "      <td>4</td>\n",
       "      <td>50</td>\n",
       "      <td>1</td>\n",
       "      <td>7.104144</td>\n",
       "      <td>1</td>\n",
       "      <td>0</td>\n",
       "      <td>0</td>\n",
       "      <td>0</td>\n",
       "      <td>...</td>\n",
       "      <td>0</td>\n",
       "      <td>0</td>\n",
       "      <td>0</td>\n",
       "      <td>0</td>\n",
       "      <td>0</td>\n",
       "      <td>0</td>\n",
       "      <td>0</td>\n",
       "      <td>0</td>\n",
       "      <td>0</td>\n",
       "      <td>0</td>\n",
       "    </tr>\n",
       "  </tbody>\n",
       "</table>\n",
       "<p>2 rows × 45 columns</p>\n",
       "</div>"
      ],
      "text/plain": [
       "   ClaimNb  Exposure  Area  BonusMalus  VehGas_Regular  log_density  \\\n",
       "0        1      0.10     4          50               1     7.104144   \n",
       "1        1      0.77     4          50               1     7.104144   \n",
       "\n",
       "   VehPower__5  VehPower__6  VehPower__7  VehPower__8  ...  Region_4  \\\n",
       "0            1            0            0            0  ...         0   \n",
       "1            1            0            0            0  ...         0   \n",
       "\n",
       "   Region_5  Region_6  Region_7  Region_8  Region_9  Region_10  Region_11  \\\n",
       "0         0         0         0         0         0          0          0   \n",
       "1         0         0         0         0         0          0          0   \n",
       "\n",
       "   Region_12  Region_13  \n",
       "0          0          0  \n",
       "1          0          0  \n",
       "\n",
       "[2 rows x 45 columns]"
      ]
     },
     "execution_count": 142,
     "metadata": {},
     "output_type": "execute_result"
    }
   ],
   "source": [
    "claimsdf.head(2)"
   ]
  },
  {
   "cell_type": "markdown",
   "metadata": {},
   "source": [
    "- REFERENCE LEVEL (Variables for wich the b0 parameter accounts for): `VehPower__4`, `VehAge__1`, `DrivAge__1`, `VehBrand_1`, `Region_1.0`"
   ]
  },
  {
   "cell_type": "markdown",
   "metadata": {},
   "source": [
    "### MODEL TRAINING"
   ]
  },
  {
   "cell_type": "markdown",
   "metadata": {},
   "source": [
    "- Maximizing the log-likelihood for parameter β is equivalent to minimizing the deviance loss for β. In this spirit, the deviance loss plays the role of the canonical objective function that should be minimized. b is the scaled Poisson deviance loss. "
   ]
  },
  {
   "cell_type": "markdown",
   "metadata": {},
   "source": [
    "- We randomly (uniformly) select 80% of data for training and leave 20% for testing:"
   ]
  },
  {
   "cell_type": "code",
   "execution_count": 143,
   "metadata": {},
   "outputs": [],
   "source": [
    "sample = np.random.rand(len(claimsdf)) < 0.8"
   ]
  },
  {
   "cell_type": "code",
   "execution_count": 144,
   "metadata": {},
   "outputs": [],
   "source": [
    "claimsdf_train = claimsdf[sample]"
   ]
  },
  {
   "cell_type": "code",
   "execution_count": 145,
   "metadata": {
    "scrolled": true
   },
   "outputs": [
    {
     "data": {
      "text/plain": [
       "(542824, 45)"
      ]
     },
     "execution_count": 145,
     "metadata": {},
     "output_type": "execute_result"
    }
   ],
   "source": [
    "claimsdf_train.shape"
   ]
  },
  {
   "cell_type": "code",
   "execution_count": 146,
   "metadata": {},
   "outputs": [],
   "source": [
    "claimsdf_test = claimsdf[~sample]"
   ]
  },
  {
   "cell_type": "code",
   "execution_count": 147,
   "metadata": {},
   "outputs": [
    {
     "data": {
      "text/plain": [
       "(135189, 45)"
      ]
     },
     "execution_count": 147,
     "metadata": {},
     "output_type": "execute_result"
    }
   ],
   "source": [
    "claimsdf_test.shape"
   ]
  },
  {
   "cell_type": "code",
   "execution_count": 151,
   "metadata": {},
   "outputs": [],
   "source": [
    "expr = \"\"\" Q('ClaimNb') ~ Q('Area') + Q('BonusMalus') + Q('log_density') + Q('VehGas_Regular') + \n",
    "                          Q('VehPower__5') + Q('VehPower__6') + Q('VehPower__7') + Q('VehPower__8') +\n",
    "                          Q('VehPower__9') + Q('VehPower__10') + Q('VehPower__11') + Q('VehPower__12') + \n",
    "                          Q('VehAge__2') + Q('VehAge__3') + Q('DrivAge__2') + Q('DrivAge__3') + \n",
    "                          Q('DrivAge__4') + Q('DrivAge__5') + Q('DrivAge__6') + Q('DrivAge__7') + Q('DrivAge__8') +\n",
    "                          Q('VehBrand_2') + Q('VehBrand_3') + Q('VehBrand_4') + Q('VehBrand_5') + Q('VehBrand_6') +\n",
    "                          Q('VehBrand_7') + Q('VehBrand_8') + Q('VehBrand_9') + Q('VehBrand_10') + Q('VehBrand_11') +\n",
    "                          Q('Region_2') + Q('Region_3') + Q('Region_4') + Q('Region_5') + Q('Region_6') + \n",
    "                          Q('Region_7') + Q('Region_8') + Q('Region_9') + Q('Region_10') + Q('Region_11') +\n",
    "                          Q('Region_12') \"\"\""
   ]
  },
  {
   "cell_type": "markdown",
   "metadata": {},
   "source": [
    "- Build the matrices for the specified model:"
   ]
  },
  {
   "cell_type": "code",
   "execution_count": 152,
   "metadata": {
    "scrolled": true
   },
   "outputs": [],
   "source": [
    "y_train, X_train = dmatrices(expr, claimsdf_train, return_type='dataframe')"
   ]
  },
  {
   "cell_type": "markdown",
   "metadata": {},
   "source": [
    "- Fit a Poisson-GLM to the TRAIN SET"
   ]
  },
  {
   "cell_type": "code",
   "execution_count": 153,
   "metadata": {},
   "outputs": [],
   "source": [
    "poisson_model1 = sm.GLM(y_train, X_train, exposure=claimsdf_train.Exposure, family=sm.families.Poisson()).fit()"
   ]
  },
  {
   "cell_type": "code",
   "execution_count": 154,
   "metadata": {},
   "outputs": [
    {
     "name": "stdout",
     "output_type": "stream",
     "text": [
      "                 Generalized Linear Model Regression Results                  \n",
      "==============================================================================\n",
      "Dep. Variable:           Q('ClaimNb')   No. Observations:               542824\n",
      "Model:                            GLM   Df Residuals:                   542781\n",
      "Model Family:                 Poisson   Df Model:                           42\n",
      "Link Function:                    log   Scale:                          1.0000\n",
      "Method:                          IRLS   Log-Likelihood:            -1.1395e+05\n",
      "Date:                Mon, 04 Oct 2021   Deviance:                   1.7253e+05\n",
      "Time:                        00:32:23   Pearson chi2:                 1.33e+06\n",
      "No. Iterations:                     7                                         \n",
      "Covariance Type:            nonrobust                                         \n",
      "=======================================================================================\n",
      "                          coef    std err          z      P>|z|      [0.025      0.975]\n",
      "---------------------------------------------------------------------------------------\n",
      "Intercept              -3.3770      0.068    -49.693      0.000      -3.510      -3.244\n",
      "Q('Area')              -0.0084      0.018     -0.465      0.642      -0.044       0.027\n",
      "Q('BonusMalus')         0.0224      0.000     60.311      0.000       0.022       0.023\n",
      "Q('log_density')        0.0523      0.013      3.891      0.000       0.026       0.079\n",
      "Q('VehGas_Regular')     0.0457      0.013      3.566      0.000       0.021       0.071\n",
      "Q('VehPower__5')        0.1672      0.020      8.222      0.000       0.127       0.207\n",
      "Q('VehPower__6')        0.1992      0.020      9.847      0.000       0.160       0.239\n",
      "Q('VehPower__7')        0.1155      0.020      5.770      0.000       0.076       0.155\n",
      "Q('VehPower__8')       -0.0856      0.030     -2.829      0.005      -0.145      -0.026\n",
      "Q('VehPower__9')        0.2601      0.031      8.353      0.000       0.199       0.321\n",
      "Q('VehPower__10')       0.2498      0.031      8.082      0.000       0.189       0.310\n",
      "Q('VehPower__11')       0.1440      0.041      3.524      0.000       0.064       0.224\n",
      "Q('VehPower__12')      -0.0029      0.045     -0.064      0.949      -0.091       0.086\n",
      "Q('VehAge__2')         -0.5129      0.016    -31.925      0.000      -0.544      -0.481\n",
      "Q('VehAge__3')         -0.7166      0.020    -36.272      0.000      -0.755      -0.678\n",
      "Q('DrivAge__2')        -0.3935      0.050     -7.932      0.000      -0.491      -0.296\n",
      "Q('DrivAge__3')        -0.5293      0.049    -10.900      0.000      -0.624      -0.434\n",
      "Q('DrivAge__4')        -0.4026      0.047     -8.548      0.000      -0.495      -0.310\n",
      "Q('DrivAge__5')        -0.1187      0.048     -2.495      0.013      -0.212      -0.025\n",
      "Q('DrivAge__6')        -0.1765      0.048     -3.662      0.000      -0.271      -0.082\n",
      "Q('DrivAge__7')        -0.1928      0.050     -3.848      0.000      -0.291      -0.095\n",
      "Q('DrivAge__8')        -0.0810      0.051     -1.581      0.114      -0.181       0.019\n",
      "Q('VehBrand_2')        -0.0028      0.017     -0.164      0.869      -0.036       0.031\n",
      "Q('VehBrand_3')        -0.0142      0.025     -0.576      0.564      -0.062       0.034\n",
      "Q('VehBrand_4')        -0.0123      0.034     -0.366      0.714      -0.078       0.053\n",
      "Q('VehBrand_5')         0.0385      0.028      1.366      0.172      -0.017       0.094\n",
      "Q('VehBrand_6')        -0.0058      0.032     -0.183      0.855      -0.068       0.057\n",
      "Q('VehBrand_7')         0.0472      0.041      1.143      0.253      -0.034       0.128\n",
      "Q('VehBrand_8')         0.1103      0.045      2.444      0.015       0.022       0.199\n",
      "Q('VehBrand_9')         0.1493      0.020      7.531      0.000       0.110       0.188\n",
      "Q('VehBrand_10')        0.0669      0.046      1.469      0.142      -0.022       0.156\n",
      "Q('VehBrand_11')       -0.0858      0.085     -1.006      0.315      -0.253       0.081\n",
      "Q('Region_2')          -0.0676      0.050     -1.366      0.172      -0.165       0.029\n",
      "Q('Region_3')           0.0293      0.018      1.591      0.112      -0.007       0.065\n",
      "Q('Region_4')          -0.1825      0.039     -4.672      0.000      -0.259      -0.106\n",
      "Q('Region_5')          -0.0802      0.030     -2.650      0.008      -0.140      -0.021\n",
      "Q('Region_6')          -0.0347      0.038     -0.903      0.366      -0.110       0.041\n",
      "Q('Region_7')          -0.0680      0.025     -2.695      0.007      -0.117      -0.019\n",
      "Q('Region_8')          -0.0981      0.027     -3.644      0.000      -0.151      -0.045\n",
      "Q('Region_9')           0.0567      0.025      2.268      0.023       0.008       0.106\n",
      "Q('Region_10')          0.0947      0.073      1.298      0.194      -0.048       0.238\n",
      "Q('Region_11')         -0.0666      0.022     -2.961      0.003      -0.111      -0.023\n",
      "Q('Region_12')         -0.0661      0.028     -2.362      0.018      -0.121      -0.011\n",
      "=======================================================================================\n"
     ]
    }
   ],
   "source": [
    "print(poisson_model1.summary())"
   ]
  },
  {
   "cell_type": "markdown",
   "metadata": {},
   "source": [
    "- From the results of the `poisson_model1` we can see that the variables: `Area`, `VehPower__12`, `VehBrand_2`, `VehBrand_3`, `VehBrand_4`, `VehBrand_6`, `VehBrand_7`, `VehBrand_8`, `VehBrand_10`, `VehBrand_11`, `Region_10.0`, `Region_12.0`: have a p-value bigger than 0.05 (for an assumed alpha=0.05), so we should consider its inclusion in the model, because they doesn't seem to be significant for frequency modelling.\n",
    "- As we saw in the correlation analysis, `Area` is highly correlated with `Density`, wich might explain why the first is not significant.\n",
    "- From the 11 `VehBrand` classes, 8 resulted non-siginificant."
   ]
  },
  {
   "cell_type": "markdown",
   "metadata": {},
   "source": [
    "#### DISPERSION:"
   ]
  },
  {
   "cell_type": "markdown",
   "metadata": {},
   "source": [
    "- Deviance statistics that accounts for potential over- or under-dispersion (φ != 1). In the Poisson model, by definition variance equal to mean (φ = 1). We can determine this parameter empirically by Pearson’s (distribution-free) dispersion estimate and and the deviance dispersion.\n",
    "- From the results of the `poisson_model1` we can see that the `scale` = 1, wich accounts for the Pearson's dispertion (Pearson's residuals/Residuals degrees of freedom), wich means that we can assume that the mean and variance are equal, the model is not overdispersed. "
   ]
  },
  {
   "cell_type": "markdown",
   "metadata": {},
   "source": [
    "- DEVIANCE DISPERTION:"
   ]
  },
  {
   "cell_type": "code",
   "execution_count": 155,
   "metadata": {},
   "outputs": [
    {
     "data": {
      "text/plain": [
       "0.3180802682495545"
      ]
     },
     "execution_count": 155,
     "metadata": {},
     "output_type": "execute_result"
    }
   ],
   "source": [
    "sum((poisson_model1.resid_deviance) ** 2) / 542395"
   ]
  },
  {
   "cell_type": "code",
   "execution_count": 156,
   "metadata": {},
   "outputs": [
    {
     "data": {
      "text/plain": [
       "2.455144263994352"
      ]
     },
     "execution_count": 156,
     "metadata": {},
     "output_type": "execute_result"
    }
   ],
   "source": [
    "(sum((poisson_model1.resid_pearson) ** 2)) / 542395"
   ]
  },
  {
   "cell_type": "markdown",
   "metadata": {},
   "source": [
    "#### TRAINING DEVIANCE-LOSS:"
   ]
  },
  {
   "cell_type": "code",
   "execution_count": 157,
   "metadata": {},
   "outputs": [
    {
     "data": {
      "text/plain": [
       "0.31782888578474255"
      ]
     },
     "execution_count": 157,
     "metadata": {},
     "output_type": "execute_result"
    }
   ],
   "source": [
    "loss_train = sum((poisson_model1.resid_deviance) ** 2) / X_train.shape[0]\n",
    "loss_train"
   ]
  },
  {
   "cell_type": "markdown",
   "metadata": {},
   "source": [
    "#### AKAIKE INFORMATION CRITERION"
   ]
  },
  {
   "cell_type": "code",
   "execution_count": 158,
   "metadata": {},
   "outputs": [
    {
     "data": {
      "text/plain": [
       "227977.10124344594"
      ]
     },
     "execution_count": 158,
     "metadata": {},
     "output_type": "execute_result"
    }
   ],
   "source": [
    "poisson_model1.aic"
   ]
  },
  {
   "cell_type": "markdown",
   "metadata": {},
   "source": [
    "#### X2-STATISTIC: NULL DEVIANCE - RESIDUAL DEVIANCE:"
   ]
  },
  {
   "cell_type": "code",
   "execution_count": 159,
   "metadata": {},
   "outputs": [
    {
     "data": {
      "text/plain": [
       "274990.2812031713"
      ]
     },
     "execution_count": 159,
     "metadata": {},
     "output_type": "execute_result"
    }
   ],
   "source": [
    "x2_statistic = (poisson_model1.null_deviance) - sum(poisson_model1.resid_deviance)\n",
    "x2_statistic"
   ]
  },
  {
   "cell_type": "markdown",
   "metadata": {},
   "source": [
    "#### TEST DEVIANCE-LOSS:"
   ]
  },
  {
   "cell_type": "markdown",
   "metadata": {},
   "source": [
    "- Let's fit the Poisson-GLM for the TEST SET"
   ]
  },
  {
   "cell_type": "code",
   "execution_count": 91,
   "metadata": {},
   "outputs": [],
   "source": [
    "y_test, X_test = dmatrices(expr, claimsdf_test, return_type='dataframe')"
   ]
  },
  {
   "cell_type": "code",
   "execution_count": 98,
   "metadata": {},
   "outputs": [],
   "source": [
    "poisson_model1_pred = poisson_model1.predict(X_test)"
   ]
  },
  {
   "cell_type": "code",
   "execution_count": 100,
   "metadata": {},
   "outputs": [
    {
     "data": {
      "text/plain": [
       "8         0.162967\n",
       "15        0.421076\n",
       "21        0.188405\n",
       "24        0.416727\n",
       "26        0.416727\n",
       "            ...   \n",
       "677994    0.129835\n",
       "677998    0.257288\n",
       "678000    0.095059\n",
       "678003    0.206458\n",
       "678009    0.451774\n",
       "Length: 135575, dtype: float64"
      ]
     },
     "execution_count": 100,
     "metadata": {},
     "output_type": "execute_result"
    }
   ],
   "source": [
    "poisson_model1_pred"
   ]
  },
  {
   "cell_type": "markdown",
   "metadata": {},
   "source": [
    "## Zero Inflated Poisson-GENERALIZED LINEAR MODEL"
   ]
  },
  {
   "cell_type": "code",
   "execution_count": 160,
   "metadata": {},
   "outputs": [
    {
     "name": "stderr",
     "output_type": "stream",
     "text": [
      "/home/julian/miniconda3/envs/ironcon/lib/python3.8/site-packages/statsmodels/base/model.py:566: ConvergenceWarning: Maximum Likelihood optimization failed to converge. Check mle_retvals\n",
      "  warnings.warn(\"Maximum Likelihood optimization failed to \"\n"
     ]
    },
    {
     "name": "stdout",
     "output_type": "stream",
     "text": [
      "Warning: Maximum number of iterations has been exceeded.\n",
      "         Current function value: 0.209651\n",
      "         Iterations: 35\n",
      "         Function evaluations: 41\n",
      "         Gradient evaluations: 41\n"
     ]
    },
    {
     "name": "stderr",
     "output_type": "stream",
     "text": [
      "/home/julian/miniconda3/envs/ironcon/lib/python3.8/site-packages/statsmodels/base/model.py:566: ConvergenceWarning: Maximum Likelihood optimization failed to converge. Check mle_retvals\n",
      "  warnings.warn(\"Maximum Likelihood optimization failed to \"\n"
     ]
    }
   ],
   "source": [
    "zip_poisson_model = sm.ZeroInflatedPoisson(endog=y_train, exog=X_train, exposure=claimsdf_train.Exposure, exog_infl=X_train, inflation='logit').fit()"
   ]
  },
  {
   "cell_type": "code",
   "execution_count": 161,
   "metadata": {},
   "outputs": [
    {
     "name": "stdout",
     "output_type": "stream",
     "text": [
      "                     ZeroInflatedPoisson Regression Results                    \n",
      "===============================================================================\n",
      "Dep. Variable:            Q('ClaimNb')   No. Observations:               542824\n",
      "Model:             ZeroInflatedPoisson   Df Residuals:                   542781\n",
      "Method:                            MLE   Df Model:                           42\n",
      "Date:                 Mon, 04 Oct 2021   Pseudo R-squ.:                 0.02579\n",
      "Time:                         01:15:48   Log-Likelihood:            -1.1380e+05\n",
      "converged:                       False   LL-Null:                   -1.1682e+05\n",
      "Covariance Type:             nonrobust   LLR p-value:                     0.000\n",
      "===============================================================================================\n",
      "                                  coef    std err          z      P>|z|      [0.025      0.975]\n",
      "-----------------------------------------------------------------------------------------------\n",
      "inflate_Intercept               0.3877      0.202      1.924      0.054      -0.007       0.783\n",
      "inflate_Q('Area')              -0.0052      0.038     -0.136      0.892      -0.080       0.070\n",
      "inflate_Q('BonusMalus')        -0.0231      0.001    -19.136      0.000      -0.025      -0.021\n",
      "inflate_Q('log_density')        0.0355      0.029      1.240      0.215      -0.021       0.092\n",
      "inflate_Q('VehGas_Regular')     0.1003      0.028      3.585      0.000       0.045       0.155\n",
      "inflate_Q('VehPower__5')        0.0771      0.045      1.725      0.085      -0.011       0.165\n",
      "inflate_Q('VehPower__6')        0.0512      0.045      1.144      0.253      -0.037       0.139\n",
      "inflate_Q('VehPower__7')        0.0776      0.044      1.769      0.077      -0.008       0.163\n",
      "inflate_Q('VehPower__8')        0.1995      0.064      3.114      0.002       0.074       0.325\n",
      "inflate_Q('VehPower__9')        0.0553      0.066      0.842      0.400      -0.073       0.184\n",
      "inflate_Q('VehPower__10')       0.0538      0.067      0.807      0.420      -0.077       0.185\n",
      "inflate_Q('VehPower__11')       0.0997      0.086      1.158      0.247      -0.069       0.268\n",
      "inflate_Q('VehPower__12')       0.1212      0.093      1.303      0.193      -0.061       0.304\n",
      "inflate_Q('VehAge__2')          0.2951      0.040      7.320      0.000       0.216       0.374\n",
      "inflate_Q('VehAge__3')          0.4761      0.047     10.181      0.000       0.384       0.568\n",
      "inflate_Q('DrivAge__2')         0.1590      0.163      0.974      0.330      -0.161       0.479\n",
      "inflate_Q('DrivAge__3')         0.2633      0.154      1.714      0.086      -0.038       0.564\n",
      "inflate_Q('DrivAge__4')         0.2295      0.152      1.510      0.131      -0.068       0.527\n",
      "inflate_Q('DrivAge__5')         0.0728      0.153      0.475      0.635      -0.228       0.373\n",
      "inflate_Q('DrivAge__6')         0.1217      0.154      0.790      0.430      -0.180       0.424\n",
      "inflate_Q('DrivAge__7')         0.1224      0.156      0.783      0.434      -0.184       0.429\n",
      "inflate_Q('DrivAge__8')         0.0689      0.158      0.436      0.663      -0.241       0.379\n",
      "inflate_Q('VehBrand_2')         0.1072      0.036      2.965      0.003       0.036       0.178\n",
      "inflate_Q('VehBrand_3')         0.1215      0.052      2.315      0.021       0.019       0.224\n",
      "inflate_Q('VehBrand_4')         0.1105      0.070      1.574      0.115      -0.027       0.248\n",
      "inflate_Q('VehBrand_5')         0.0858      0.059      1.452      0.146      -0.030       0.202\n",
      "inflate_Q('VehBrand_6')         0.1206      0.067      1.809      0.070      -0.010       0.251\n",
      "inflate_Q('VehBrand_7')         0.0968      0.084      1.151      0.250      -0.068       0.262\n",
      "inflate_Q('VehBrand_8')         0.0832      0.093      0.899      0.369      -0.098       0.265\n",
      "inflate_Q('VehBrand_9')         0.0686      0.046      1.486      0.137      -0.022       0.159\n",
      "inflate_Q('VehBrand_10')        0.0923      0.094      0.987      0.324      -0.091       0.276\n",
      "inflate_Q('VehBrand_11')        0.1129      0.167      0.675      0.499      -0.215       0.441\n",
      "inflate_Q('Region_2')           0.1203      0.109      1.107      0.268      -0.093       0.333\n",
      "inflate_Q('Region_3')           0.0641      0.040      1.616      0.106      -0.014       0.142\n",
      "inflate_Q('Region_4')           0.1523      0.079      1.929      0.054      -0.002       0.307\n",
      "inflate_Q('Region_5')           0.1269      0.067      1.900      0.057      -0.004       0.258\n",
      "inflate_Q('Region_6')           0.1150      0.081      1.421      0.155      -0.044       0.273\n",
      "inflate_Q('Region_7')           0.1515      0.053      2.845      0.004       0.047       0.256\n",
      "inflate_Q('Region_8')           0.1694      0.058      2.919      0.004       0.056       0.283\n",
      "inflate_Q('Region_9')           0.0655      0.053      1.246      0.213      -0.037       0.168\n",
      "inflate_Q('Region_10')          0.0992      0.174      0.570      0.569      -0.242       0.441\n",
      "inflate_Q('Region_11')          0.0846      0.049      1.715      0.086      -0.012       0.181\n",
      "inflate_Q('Region_12')          0.1386      0.058      2.400      0.016       0.025       0.252\n",
      "Intercept                      -1.9981      0.072    -27.709      0.000      -2.139      -1.857\n",
      "Q('Area')                       0.1083      0.018      5.861      0.000       0.072       0.144\n",
      "Q('BonusMalus')                 0.0127      0.000     32.043      0.000       0.012       0.014\n",
      "Q('log_density')               -0.0468      0.014     -3.398      0.001      -0.074      -0.020\n",
      "Q('VehGas_Regular')             0.0536      0.013      4.046      0.000       0.028       0.080\n",
      "Q('VehPower__5')                0.0569      0.021      2.766      0.006       0.017       0.097\n",
      "Q('VehPower__6')                0.0831      0.020      4.075      0.000       0.043       0.123\n",
      "Q('VehPower__7')                0.0258      0.020      1.280      0.200      -0.014       0.065\n",
      "Q('VehPower__8')               -0.1881      0.031     -5.998      0.000      -0.250      -0.127\n",
      "Q('VehPower__9')                0.1020      0.033      3.111      0.002       0.038       0.166\n",
      "Q('VehPower__10')               0.0975      0.032      3.012      0.003       0.034       0.161\n",
      "Q('VehPower__11')              -0.0041      0.043     -0.096      0.924      -0.088       0.080\n",
      "Q('VehPower__12')              -0.0551      0.046     -1.195      0.232      -0.146       0.035\n",
      "Q('VehAge__2')                 -0.4749      0.016    -28.944      0.000      -0.507      -0.443\n",
      "Q('VehAge__3')                 -0.6374      0.020    -31.216      0.000      -0.677      -0.597\n",
      "Q('DrivAge__2')                -0.1115      0.053     -2.091      0.037      -0.216      -0.007\n",
      "Q('DrivAge__3')                -0.3322      0.053     -6.287      0.000      -0.436      -0.229\n",
      "Q('DrivAge__4')                -0.1741      0.051     -3.386      0.001      -0.275      -0.073\n",
      "Q('DrivAge__5')                -0.0251      0.052     -0.483      0.629      -0.127       0.077\n",
      "Q('DrivAge__6')                -0.0439      0.053     -0.833      0.405      -0.147       0.059\n",
      "Q('DrivAge__7')                -0.0745      0.055     -1.365      0.172      -0.181       0.032\n",
      "Q('DrivAge__8')                 0.0290      0.056      0.521      0.603      -0.080       0.138\n",
      "Q('VehBrand_2')                -0.0422      0.018     -2.393      0.017      -0.077      -0.008\n",
      "Q('VehBrand_3')                -0.0280      0.025     -1.100      0.271      -0.078       0.022\n",
      "Q('VehBrand_4')                -0.0409      0.035     -1.179      0.238      -0.109       0.027\n",
      "Q('VehBrand_5')                 0.0161      0.029      0.548      0.584      -0.041       0.074\n",
      "Q('VehBrand_6')                -0.0403      0.033     -1.210      0.226      -0.106       0.025\n",
      "Q('VehBrand_7')                 0.0030      0.044      0.069      0.945      -0.083       0.089\n",
      "Q('VehBrand_8')                 0.0290      0.048      0.601      0.548      -0.066       0.124\n",
      "Q('VehBrand_9')                 0.1075      0.020      5.300      0.000       0.068       0.147\n",
      "Q('VehBrand_10')                0.0169      0.048      0.350      0.726      -0.078       0.112\n",
      "Q('VehBrand_11')               -0.0227      0.086     -0.263      0.792      -0.191       0.146\n",
      "Q('Region_2')                  -0.0406      0.050     -0.812      0.417      -0.138       0.057\n",
      "Q('Region_3')                  -0.0174      0.019     -0.916      0.360      -0.055       0.020\n",
      "Q('Region_4')                  -0.0900      0.040     -2.273      0.023      -0.168      -0.012\n",
      "Q('Region_5')                  -0.0642      0.031     -2.071      0.038      -0.125      -0.003\n",
      "Q('Region_6')                  -0.0366      0.040     -0.924      0.355      -0.114       0.041\n",
      "Q('Region_7')                  -0.0772      0.026     -2.944      0.003      -0.129      -0.026\n",
      "Q('Region_8')                  -0.0935      0.028     -3.361      0.001      -0.148      -0.039\n",
      "Q('Region_9')                   0.0170      0.026      0.652      0.515      -0.034       0.068\n",
      "Q('Region_10')                  0.0123      0.076      0.161      0.872      -0.138       0.162\n",
      "Q('Region_11')                  0.0313      0.023      1.358      0.175      -0.014       0.076\n",
      "Q('Region_12')                 -0.0700      0.029     -2.396      0.017      -0.127      -0.013\n",
      "===============================================================================================\n"
     ]
    }
   ],
   "source": [
    "print(zip_poisson_model.summary())"
   ]
  },
  {
   "cell_type": "code",
   "execution_count": 163,
   "metadata": {},
   "outputs": [
    {
     "data": {
      "text/plain": [
       "227692.73244537582"
      ]
     },
     "execution_count": 163,
     "metadata": {},
     "output_type": "execute_result"
    }
   ],
   "source": [
    "zip_poisson_model.aic"
   ]
  },
  {
   "cell_type": "code",
   "execution_count": 164,
   "metadata": {},
   "outputs": [
    {
     "ename": "AttributeError",
     "evalue": "'ZeroInflatedPoissonResults' object has no attribute 'resid_deviance'",
     "output_type": "error",
     "traceback": [
      "\u001b[0;31m---------------------------------------------------------------------------\u001b[0m",
      "\u001b[0;31mAttributeError\u001b[0m                            Traceback (most recent call last)",
      "\u001b[0;32m<ipython-input-164-64a32d0ad4a8>\u001b[0m in \u001b[0;36m<module>\u001b[0;34m\u001b[0m\n\u001b[0;32m----> 1\u001b[0;31m \u001b[0mloss_train\u001b[0m \u001b[0;34m=\u001b[0m \u001b[0msum\u001b[0m\u001b[0;34m(\u001b[0m\u001b[0;34m(\u001b[0m\u001b[0mzip_poisson_model\u001b[0m\u001b[0;34m.\u001b[0m\u001b[0mresid_deviance\u001b[0m\u001b[0;34m)\u001b[0m \u001b[0;34m**\u001b[0m \u001b[0;36m2\u001b[0m\u001b[0;34m)\u001b[0m \u001b[0;34m/\u001b[0m \u001b[0mX_train\u001b[0m\u001b[0;34m.\u001b[0m\u001b[0mshape\u001b[0m\u001b[0;34m[\u001b[0m\u001b[0;36m0\u001b[0m\u001b[0;34m]\u001b[0m\u001b[0;34m\u001b[0m\u001b[0;34m\u001b[0m\u001b[0m\n\u001b[0m\u001b[1;32m      2\u001b[0m \u001b[0mloss_train\u001b[0m\u001b[0;34m\u001b[0m\u001b[0;34m\u001b[0m\u001b[0m\n",
      "\u001b[0;32m~/miniconda3/envs/ironcon/lib/python3.8/site-packages/statsmodels/base/wrapper.py\u001b[0m in \u001b[0;36m__getattribute__\u001b[0;34m(self, attr)\u001b[0m\n\u001b[1;32m     32\u001b[0m             \u001b[0;32mpass\u001b[0m\u001b[0;34m\u001b[0m\u001b[0;34m\u001b[0m\u001b[0m\n\u001b[1;32m     33\u001b[0m \u001b[0;34m\u001b[0m\u001b[0m\n\u001b[0;32m---> 34\u001b[0;31m         \u001b[0mobj\u001b[0m \u001b[0;34m=\u001b[0m \u001b[0mgetattr\u001b[0m\u001b[0;34m(\u001b[0m\u001b[0mresults\u001b[0m\u001b[0;34m,\u001b[0m \u001b[0mattr\u001b[0m\u001b[0;34m)\u001b[0m\u001b[0;34m\u001b[0m\u001b[0;34m\u001b[0m\u001b[0m\n\u001b[0m\u001b[1;32m     35\u001b[0m         \u001b[0mdata\u001b[0m \u001b[0;34m=\u001b[0m \u001b[0mresults\u001b[0m\u001b[0;34m.\u001b[0m\u001b[0mmodel\u001b[0m\u001b[0;34m.\u001b[0m\u001b[0mdata\u001b[0m\u001b[0;34m\u001b[0m\u001b[0;34m\u001b[0m\u001b[0m\n\u001b[1;32m     36\u001b[0m         \u001b[0mhow\u001b[0m \u001b[0;34m=\u001b[0m \u001b[0mself\u001b[0m\u001b[0;34m.\u001b[0m\u001b[0m_wrap_attrs\u001b[0m\u001b[0;34m.\u001b[0m\u001b[0mget\u001b[0m\u001b[0;34m(\u001b[0m\u001b[0mattr\u001b[0m\u001b[0;34m)\u001b[0m\u001b[0;34m\u001b[0m\u001b[0;34m\u001b[0m\u001b[0m\n",
      "\u001b[0;31mAttributeError\u001b[0m: 'ZeroInflatedPoissonResults' object has no attribute 'resid_deviance'"
     ]
    }
   ],
   "source": [
    "loss_train = sum((zip_poisson_model.resid_deviance) ** 2) / X_train.shape[0]\n",
    "loss_train"
   ]
  },
  {
   "cell_type": "markdown",
   "metadata": {},
   "source": [
    "### MODEL SELECTION"
   ]
  },
  {
   "cell_type": "markdown",
   "metadata": {},
   "source": [
    "- The likelihood ratio test based on Posisson deviance can be applied recursively to a sequence of nested models. This leads to a step-wise reduction of model complexity, this is similar in spirit to the analysis of variance (ANOVA) in Listing 2.7, and it is often referred to as backward model selection"
   ]
  },
  {
   "cell_type": "code",
   "execution_count": null,
   "metadata": {},
   "outputs": [],
   "source": []
  },
  {
   "cell_type": "code",
   "execution_count": null,
   "metadata": {},
   "outputs": [],
   "source": []
  },
  {
   "cell_type": "code",
   "execution_count": null,
   "metadata": {},
   "outputs": [],
   "source": []
  }
 ],
 "metadata": {
  "kernelspec": {
   "display_name": "ironcon",
   "language": "python",
   "name": "ironcon"
  },
  "language_info": {
   "codemirror_mode": {
    "name": "ipython",
    "version": 3
   },
   "file_extension": ".py",
   "mimetype": "text/x-python",
   "name": "python",
   "nbconvert_exporter": "python",
   "pygments_lexer": "ipython3",
   "version": "3.8.11"
  }
 },
 "nbformat": 4,
 "nbformat_minor": 4
}
