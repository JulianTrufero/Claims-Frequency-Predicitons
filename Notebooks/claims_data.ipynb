{
 "cells": [
  {
   "cell_type": "markdown",
   "metadata": {},
   "source": [
    "## EXPLORATORY DATA  ANALYSIS"
   ]
  },
  {
   "cell_type": "markdown",
   "metadata": {},
   "source": [
    "#### Predicting claim frequencies (expected claim count per unit of exposure) expressed as rate. Is the base for key calculations: pricing, reserving, ruin probabilities and reinsurance."
   ]
  },
  {
   "cell_type": "markdown",
   "metadata": {},
   "source": [
    "- Import the libraries neccesary for the analysis"
   ]
  },
  {
   "cell_type": "code",
   "execution_count": 1,
   "metadata": {},
   "outputs": [],
   "source": [
    "import matplotlib.pyplot as plt\n",
    "import numpy as np\n",
    "import pandas as pd\n",
    "import seaborn as sns\n",
    "#import src.tools as cf"
   ]
  },
  {
   "cell_type": "code",
   "execution_count": 2,
   "metadata": {},
   "outputs": [],
   "source": [
    "claimsdf = pd.read_csv('/home/julian/Cursos/Ironhack/Proyectos/ProyectoFinal/Claims-Frequency-Predictions/freMTPL2freq.csv')"
   ]
  },
  {
   "cell_type": "markdown",
   "metadata": {},
   "source": [
    "#### We'll work on a data set comprising a French motor third-party liability insurance portfolio of 678013 exposure (policies) with corresponding claim counts observed in one accounting year and 12 variables for each policy"
   ]
  },
  {
   "cell_type": "code",
   "execution_count": 3,
   "metadata": {
    "scrolled": true
   },
   "outputs": [
    {
     "data": {
      "text/html": [
       "<div>\n",
       "<style scoped>\n",
       "    .dataframe tbody tr th:only-of-type {\n",
       "        vertical-align: middle;\n",
       "    }\n",
       "\n",
       "    .dataframe tbody tr th {\n",
       "        vertical-align: top;\n",
       "    }\n",
       "\n",
       "    .dataframe thead th {\n",
       "        text-align: right;\n",
       "    }\n",
       "</style>\n",
       "<table border=\"1\" class=\"dataframe\">\n",
       "  <thead>\n",
       "    <tr style=\"text-align: right;\">\n",
       "      <th></th>\n",
       "      <th>IDpol</th>\n",
       "      <th>ClaimNb</th>\n",
       "      <th>Exposure</th>\n",
       "      <th>Area</th>\n",
       "      <th>VehPower</th>\n",
       "      <th>VehAge</th>\n",
       "      <th>DrivAge</th>\n",
       "      <th>BonusMalus</th>\n",
       "      <th>VehBrand</th>\n",
       "      <th>VehGas</th>\n",
       "      <th>Density</th>\n",
       "      <th>Region</th>\n",
       "    </tr>\n",
       "  </thead>\n",
       "  <tbody>\n",
       "    <tr>\n",
       "      <th>0</th>\n",
       "      <td>1.0</td>\n",
       "      <td>1</td>\n",
       "      <td>0.10</td>\n",
       "      <td>D</td>\n",
       "      <td>5</td>\n",
       "      <td>0</td>\n",
       "      <td>55</td>\n",
       "      <td>50</td>\n",
       "      <td>B12</td>\n",
       "      <td>Regular</td>\n",
       "      <td>1217</td>\n",
       "      <td>R82</td>\n",
       "    </tr>\n",
       "    <tr>\n",
       "      <th>1</th>\n",
       "      <td>3.0</td>\n",
       "      <td>1</td>\n",
       "      <td>0.77</td>\n",
       "      <td>D</td>\n",
       "      <td>5</td>\n",
       "      <td>0</td>\n",
       "      <td>55</td>\n",
       "      <td>50</td>\n",
       "      <td>B12</td>\n",
       "      <td>Regular</td>\n",
       "      <td>1217</td>\n",
       "      <td>R82</td>\n",
       "    </tr>\n",
       "    <tr>\n",
       "      <th>2</th>\n",
       "      <td>5.0</td>\n",
       "      <td>1</td>\n",
       "      <td>0.75</td>\n",
       "      <td>B</td>\n",
       "      <td>6</td>\n",
       "      <td>2</td>\n",
       "      <td>52</td>\n",
       "      <td>50</td>\n",
       "      <td>B12</td>\n",
       "      <td>Diesel</td>\n",
       "      <td>54</td>\n",
       "      <td>R22</td>\n",
       "    </tr>\n",
       "  </tbody>\n",
       "</table>\n",
       "</div>"
      ],
      "text/plain": [
       "   IDpol  ClaimNb  Exposure Area  VehPower  VehAge  DrivAge  BonusMalus  \\\n",
       "0    1.0        1      0.10    D         5       0       55          50   \n",
       "1    3.0        1      0.77    D         5       0       55          50   \n",
       "2    5.0        1      0.75    B         6       2       52          50   \n",
       "\n",
       "  VehBrand   VehGas  Density Region  \n",
       "0      B12  Regular     1217    R82  \n",
       "1      B12  Regular     1217    R82  \n",
       "2      B12   Diesel       54    R22  "
      ]
     },
     "execution_count": 3,
     "metadata": {},
     "output_type": "execute_result"
    }
   ],
   "source": [
    "claimsdf.head(3)"
   ]
  },
  {
   "cell_type": "code",
   "execution_count": 4,
   "metadata": {
    "scrolled": true
   },
   "outputs": [
    {
     "data": {
      "text/plain": [
       "(678013, 12)"
      ]
     },
     "execution_count": 4,
     "metadata": {},
     "output_type": "execute_result"
    }
   ],
   "source": [
    "claimsdf.shape"
   ]
  },
  {
   "cell_type": "code",
   "execution_count": 5,
   "metadata": {},
   "outputs": [
    {
     "data": {
      "text/plain": [
       "IDpol         float64\n",
       "ClaimNb         int64\n",
       "Exposure      float64\n",
       "Area           object\n",
       "VehPower        int64\n",
       "VehAge          int64\n",
       "DrivAge         int64\n",
       "BonusMalus      int64\n",
       "VehBrand       object\n",
       "VehGas         object\n",
       "Density         int64\n",
       "Region         object\n",
       "dtype: object"
      ]
     },
     "execution_count": 5,
     "metadata": {},
     "output_type": "execute_result"
    }
   ],
   "source": [
    "claimsdf.dtypes"
   ]
  },
  {
   "cell_type": "code",
   "execution_count": 6,
   "metadata": {},
   "outputs": [
    {
     "data": {
      "text/plain": [
       "IDpol  ClaimNb  Exposure  Area   VehPower  VehAge  DrivAge  BonusMalus  VehBrand  VehGas  Density  Region\n",
       "False  False    False     False  False     False   False    False       False     False   False    False     678013\n",
       "dtype: int64"
      ]
     },
     "execution_count": 6,
     "metadata": {},
     "output_type": "execute_result"
    }
   ],
   "source": [
    "claimsdf.isna().value_counts()"
   ]
  },
  {
   "cell_type": "markdown",
   "metadata": {},
   "source": [
    "#### We'll add a colum with the empirical (observed) frequencies for each policy for analysis purpouse"
   ]
  },
  {
   "cell_type": "code",
   "execution_count": 7,
   "metadata": {},
   "outputs": [],
   "source": [
    "claimsdf['empirical_frequencies'] = (claimsdf.ClaimNb / claimsdf.Exposure)"
   ]
  },
  {
   "cell_type": "markdown",
   "metadata": {},
   "source": [
    "### CLAIM-NB: Claim counts per policy"
   ]
  },
  {
   "cell_type": "markdown",
   "metadata": {},
   "source": [
    "#### We'll start with our target variable. Analyzing how the Claims distribute over the portfolio"
   ]
  },
  {
   "cell_type": "code",
   "execution_count": 8,
   "metadata": {},
   "outputs": [],
   "source": [
    "claims = {'Minimum': claimsdf.ClaimNb.min(),\n",
    "          'Maximum': claimsdf.ClaimNb.max(),\n",
    "          'Mean': claimsdf.ClaimNb.mean(),\n",
    "          'Median': claimsdf.ClaimNb.median(),\n",
    "          'Mode': claimsdf.ClaimNb.mode()}"
   ]
  },
  {
   "cell_type": "code",
   "execution_count": 9,
   "metadata": {},
   "outputs": [
    {
     "data": {
      "text/html": [
       "<div>\n",
       "<style scoped>\n",
       "    .dataframe tbody tr th:only-of-type {\n",
       "        vertical-align: middle;\n",
       "    }\n",
       "\n",
       "    .dataframe tbody tr th {\n",
       "        vertical-align: top;\n",
       "    }\n",
       "\n",
       "    .dataframe thead th {\n",
       "        text-align: right;\n",
       "    }\n",
       "</style>\n",
       "<table border=\"1\" class=\"dataframe\">\n",
       "  <thead>\n",
       "    <tr style=\"text-align: right;\">\n",
       "      <th></th>\n",
       "      <th>Minimum</th>\n",
       "      <th>Maximum</th>\n",
       "      <th>Mean</th>\n",
       "      <th>Median</th>\n",
       "      <th>Mode</th>\n",
       "    </tr>\n",
       "  </thead>\n",
       "  <tbody>\n",
       "    <tr>\n",
       "      <th>Claims</th>\n",
       "      <td>0</td>\n",
       "      <td>16</td>\n",
       "      <td>0.053247</td>\n",
       "      <td>0.0</td>\n",
       "      <td>0</td>\n",
       "    </tr>\n",
       "  </tbody>\n",
       "</table>\n",
       "</div>"
      ],
      "text/plain": [
       "        Minimum  Maximum      Mean  Median  Mode\n",
       "Claims        0       16  0.053247     0.0     0"
      ]
     },
     "execution_count": 9,
     "metadata": {},
     "output_type": "execute_result"
    }
   ],
   "source": [
    "claims_descriptive = pd.DataFrame(claims) \n",
    "claims_descriptive = claims_descriptive.rename(index={0:'Claims'})\n",
    "claims_descriptive"
   ]
  },
  {
   "cell_type": "code",
   "execution_count": 10,
   "metadata": {},
   "outputs": [
    {
     "data": {
      "text/html": [
       "<div>\n",
       "<style scoped>\n",
       "    .dataframe tbody tr th:only-of-type {\n",
       "        vertical-align: middle;\n",
       "    }\n",
       "\n",
       "    .dataframe tbody tr th {\n",
       "        vertical-align: top;\n",
       "    }\n",
       "\n",
       "    .dataframe thead th {\n",
       "        text-align: right;\n",
       "    }\n",
       "</style>\n",
       "<table border=\"1\" class=\"dataframe\">\n",
       "  <thead>\n",
       "    <tr style=\"text-align: right;\">\n",
       "      <th></th>\n",
       "      <th>0</th>\n",
       "      <th>1</th>\n",
       "      <th>2</th>\n",
       "      <th>3</th>\n",
       "      <th>4</th>\n",
       "      <th>11</th>\n",
       "      <th>5</th>\n",
       "      <th>6</th>\n",
       "      <th>8</th>\n",
       "      <th>16</th>\n",
       "      <th>9</th>\n",
       "    </tr>\n",
       "  </thead>\n",
       "  <tbody>\n",
       "    <tr>\n",
       "      <th>ClaimNb</th>\n",
       "      <td>643953</td>\n",
       "      <td>32178</td>\n",
       "      <td>1784</td>\n",
       "      <td>82</td>\n",
       "      <td>7</td>\n",
       "      <td>3</td>\n",
       "      <td>2</td>\n",
       "      <td>1</td>\n",
       "      <td>1</td>\n",
       "      <td>1</td>\n",
       "      <td>1</td>\n",
       "    </tr>\n",
       "  </tbody>\n",
       "</table>\n",
       "</div>"
      ],
      "text/plain": [
       "             0      1     2   3   4   11  5   6   8   16  9 \n",
       "ClaimNb  643953  32178  1784  82   7   3   2   1   1   1   1"
      ]
     },
     "execution_count": 10,
     "metadata": {},
     "output_type": "execute_result"
    }
   ],
   "source": [
    "claims_counts = pd.DataFrame(claimsdf.ClaimNb.value_counts())\n",
    "claims_counts.T"
   ]
  },
  {
   "cell_type": "markdown",
   "metadata": {},
   "source": [
    "- Almost all claim counts are null, 94.97% of them to be precise.  so we'll have to take this into account when we construct our model, for instance, in a generalized linear model setting we should consider a zero inflated structure.\n",
    "- For the rest of the portfolio, 4,74% reported 1 claim, 0.26% 2 claims, only 82 policies with 3 claims, and 16 with more than 4 claims. The maximal number of claims is 16 in one year for one policy, wich is most likely an error in the data, and an outlier wich can influence our estimations. As a consequence, we'll set to 4 the claims that are bigger than 4."
   ]
  },
  {
   "cell_type": "code",
   "execution_count": 11,
   "metadata": {},
   "outputs": [],
   "source": [
    "def claims_(x):\n",
    "    \"\"\"\n",
    "    arg: A claim count\n",
    "    returns:if x is bigger than four, returns a four, otherwise, returns the same value\n",
    "    \"\"\"\n",
    "    if x > 4 :\n",
    "        return 4\n",
    "    else: \n",
    "        return x"
   ]
  },
  {
   "cell_type": "code",
   "execution_count": 12,
   "metadata": {},
   "outputs": [],
   "source": [
    "claimsdf['ClaimNb'] = claimsdf.ClaimNb.apply(lambda x: claims_(x))"
   ]
  },
  {
   "cell_type": "code",
   "execution_count": 13,
   "metadata": {},
   "outputs": [],
   "source": [
    "sns.set_context(\"poster\")\n",
    "sns.set(rc={\"figure.figsize\": (20.,9.)})\n",
    "sns.set_style(\"whitegrid\")"
   ]
  },
  {
   "cell_type": "code",
   "execution_count": 14,
   "metadata": {},
   "outputs": [
    {
     "data": {
      "image/png": "[encoded data removed]",
      "text/plain": [
       "<Figure size 1296x576 with 2 Axes>"
      ]
     },
     "metadata": {},
     "output_type": "display_data"
    }
   ],
   "source": [
    "fig, axs = plt.subplots(nrows=1, ncols=2, figsize=(18, 8)) \n",
    "sns.boxplot(x=claimsdf.ClaimNb, ax=axs[0])\n",
    "sns.countplot(x=claimsdf.ClaimNb, ax=axs[1])\n",
    "fig.savefig(\"claims_box_hist.png\");"
   ]
  },
  {
   "cell_type": "markdown",
   "metadata": {},
   "source": [
    "### EXPOSURE: Years at risk, or duration of the policy expressed in years"
   ]
  },
  {
   "cell_type": "code",
   "execution_count": 15,
   "metadata": {},
   "outputs": [
    {
     "data": {
      "image/png": "[encoded data removed]",
      "text/plain": [
       "<Figure size 1152x576 with 2 Axes>"
      ]
     },
     "metadata": {},
     "output_type": "display_data"
    }
   ],
   "source": [
    "fig, axs = plt.subplots(nrows=1, ncols=2, figsize=(16, 8)) \n",
    "sns.boxplot(x=claimsdf.Exposure, ax=axs[0])\n",
    "sns.histplot(x=claimsdf.Exposure, ax=axs[1])\n",
    "fig.savefig(\"exposure_box_hist.png\");"
   ]
  },
  {
   "cell_type": "code",
   "execution_count": 16,
   "metadata": {},
   "outputs": [],
   "source": [
    "exposures = {'Minimum': (claimsdf.Exposure.min())*365,\n",
    "             'Maximum': (claimsdf.Exposure.max())*365,\n",
    "             'Mean': (claimsdf.Exposure.mean())*365,\n",
    "             'Median': (claimsdf.Exposure.median())*365,\n",
    "             'Mode': (claimsdf.Exposure.mode())*365}"
   ]
  },
  {
   "cell_type": "code",
   "execution_count": 17,
   "metadata": {},
   "outputs": [
    {
     "data": {
      "text/html": [
       "<div>\n",
       "<style scoped>\n",
       "    .dataframe tbody tr th:only-of-type {\n",
       "        vertical-align: middle;\n",
       "    }\n",
       "\n",
       "    .dataframe tbody tr th {\n",
       "        vertical-align: top;\n",
       "    }\n",
       "\n",
       "    .dataframe thead th {\n",
       "        text-align: right;\n",
       "    }\n",
       "</style>\n",
       "<table border=\"1\" class=\"dataframe\">\n",
       "  <thead>\n",
       "    <tr style=\"text-align: right;\">\n",
       "      <th></th>\n",
       "      <th>Minimum</th>\n",
       "      <th>Maximum</th>\n",
       "      <th>Mean</th>\n",
       "      <th>Median</th>\n",
       "      <th>Mode</th>\n",
       "    </tr>\n",
       "  </thead>\n",
       "  <tbody>\n",
       "    <tr>\n",
       "      <th>Exposures</th>\n",
       "      <td>0.997268</td>\n",
       "      <td>733.65</td>\n",
       "      <td>192.993789</td>\n",
       "      <td>178.85</td>\n",
       "      <td>365.0</td>\n",
       "    </tr>\n",
       "  </tbody>\n",
       "</table>\n",
       "</div>"
      ],
      "text/plain": [
       "            Minimum  Maximum        Mean  Median   Mode\n",
       "Exposures  0.997268   733.65  192.993789  178.85  365.0"
      ]
     },
     "execution_count": 17,
     "metadata": {},
     "output_type": "execute_result"
    }
   ],
   "source": [
    "exposures_descriptive = pd.DataFrame(exposures) \n",
    "exposures_descriptive = exposures_descriptive.rename(index={0:'Exposures'})\n",
    "exposures_descriptive"
   ]
  },
  {
   "cell_type": "code",
   "execution_count": 18,
   "metadata": {},
   "outputs": [
    {
     "data": {
      "text/plain": [
       "1363.34"
      ]
     },
     "execution_count": 18,
     "metadata": {},
     "output_type": "execute_result"
    }
   ],
   "source": [
    "claimsdf.Exposure[claimsdf.Exposure > 1].sum()"
   ]
  },
  {
   "cell_type": "markdown",
   "metadata": {},
   "source": [
    "- The minimal observed time insured in our portfolio is 1 day and the maximal time insured is 2 years. The average time insured is 193 days, the median time insured is 179 days, and only 24,79% of the policies are insured during the whole year.\n",
    "- As the portfolio is for one accounting year policies, we should consider the exposures bigger than 1 as 1. On the other hand, the policies with bigger than 1 exposures accounts only for the 0.2% of the portfolio"
   ]
  },
  {
   "cell_type": "markdown",
   "metadata": {},
   "source": [
    "### CATEGORICAL VARIABLES - FEATURE ENGINEERING"
   ]
  },
  {
   "cell_type": "markdown",
   "metadata": {},
   "source": [
    "- We have 4 categorical variables, and 2 continuous ones, namely Vehicle Age and Driver Age, that we'll categorize in a way such that each resulting class is as homogeneous as possible. \n",
    "- We need to encode this cathegorical values for modelling pouposes (dummy-encode for regression structures or simply ordinal values for non parametric modelling like regression tree-style)"
   ]
  },
  {
   "cell_type": "markdown",
   "metadata": {},
   "source": [
    "#### VEHICLE BRAND: Non ordinal , 11 CLASES"
   ]
  },
  {
   "cell_type": "code",
   "execution_count": 19,
   "metadata": {},
   "outputs": [
    {
     "data": {
      "text/plain": [
       "B12    166024\n",
       "B1     162736\n",
       "B2     159861\n",
       "B3      53395\n",
       "B5      34753\n",
       "B6      28548\n",
       "B4      25179\n",
       "B10     17707\n",
       "B11     13585\n",
       "B13     12178\n",
       "B14      4047\n",
       "Name: VehBrand, dtype: int64"
      ]
     },
     "execution_count": 19,
     "metadata": {},
     "output_type": "execute_result"
    }
   ],
   "source": [
    "claimsdf.VehBrand.value_counts()"
   ]
  },
  {
   "cell_type": "code",
   "execution_count": 20,
   "metadata": {},
   "outputs": [],
   "source": [
    "dic_brands = {'B1': 1, 'B2': 2, 'B3': 3, 'B4': 4, 'B5': 5, 'B6': 6, 'B10': 7, 'B11': 8, 'B12': 9, 'B13': 10, 'B14': 11}"
   ]
  },
  {
   "cell_type": "code",
   "execution_count": 21,
   "metadata": {},
   "outputs": [],
   "source": [
    "claimsdf.VehBrand = claimsdf.VehBrand.map(dic_brands)"
   ]
  },
  {
   "cell_type": "markdown",
   "metadata": {},
   "source": [
    "##### VEHICLE GAS: Non ordinal, binary class"
   ]
  },
  {
   "cell_type": "markdown",
   "metadata": {},
   "source": [
    "- We'll transform this variable to a dummy-variable"
   ]
  },
  {
   "cell_type": "code",
   "execution_count": 22,
   "metadata": {
    "scrolled": true
   },
   "outputs": [
    {
     "data": {
      "text/plain": [
       "array(['Regular', 'Diesel'], dtype=object)"
      ]
     },
     "execution_count": 22,
     "metadata": {},
     "output_type": "execute_result"
    }
   ],
   "source": [
    "claimsdf.VehGas.unique()"
   ]
  },
  {
   "cell_type": "code",
   "execution_count": 23,
   "metadata": {},
   "outputs": [
    {
     "data": {
      "text/plain": [
       "Regular    345877\n",
       "Diesel     332136\n",
       "Name: VehGas, dtype: int64"
      ]
     },
     "execution_count": 23,
     "metadata": {},
     "output_type": "execute_result"
    }
   ],
   "source": [
    "claimsdf.VehGas.value_counts()"
   ]
  },
  {
   "cell_type": "code",
   "execution_count": 24,
   "metadata": {},
   "outputs": [],
   "source": [
    "claimsdf = pd.get_dummies(claimsdf, columns=['VehGas'], drop_first=True)"
   ]
  },
  {
   "cell_type": "markdown",
   "metadata": {},
   "source": [
    "##### AREA Code: Ordinal, 6 CLASES"
   ]
  },
  {
   "cell_type": "code",
   "execution_count": 25,
   "metadata": {},
   "outputs": [
    {
     "data": {
      "text/plain": [
       "C    191880\n",
       "D    151596\n",
       "E    137167\n",
       "A    103957\n",
       "B     75459\n",
       "F     17954\n",
       "Name: Area, dtype: int64"
      ]
     },
     "execution_count": 25,
     "metadata": {},
     "output_type": "execute_result"
    }
   ],
   "source": [
    "claimsdf.Area.value_counts()"
   ]
  },
  {
   "cell_type": "code",
   "execution_count": 26,
   "metadata": {},
   "outputs": [],
   "source": [
    "dic_area = {'A': 1, 'B': 2, 'C': 3, 'D': 4, 'E': 5, 'F': 6}\n",
    "claimsdf.Area = claimsdf.Area.map(dic_area)"
   ]
  },
  {
   "cell_type": "markdown",
   "metadata": {},
   "source": [
    "##### REGION: Non ordinal,  22 CLASSES"
   ]
  },
  {
   "cell_type": "markdown",
   "metadata": {},
   "source": [
    "- In the data set, we have 22 regions, but after a 2016 reform, some of them fuse, to form 13 regions. We'll update our data set."
   ]
  },
  {
   "cell_type": "code",
   "execution_count": 27,
   "metadata": {},
   "outputs": [],
   "source": [
    "regions = ['Île_de_France', 'Champagne_Ardenne', 'Picardie', 'Haute_Normandie', 'Centre', 'Basse_Normandie', 'Bourgogne', 'Nord_Pas-de-Calais', 'Lorraine', 'Alsace', 'Franche_Comté', 'Pays_de_la_Loire', 'Bretagne', 'Poitou_Charentes', 'Aquitaine', 'Midi_Pyrénées', 'Limousin', 'Rhône_Alpes', 'Auvergne', 'Languedoc_Roussillon', 'Provence-Alpes_Côte d´Azur', 'Corse']\n",
    "regions_code = ['R11', 'R21', 'R22', 'R23', 'R24', 'R25', 'R26', 'R31', 'R41', 'R42', 'R43', 'R52', 'R53', 'R54', 'R72', 'R73', 'R74', 'R82', 'R83', 'R91', 'R93', 'R94']\n",
    "for i,j in zip(regions_code, regions):\n",
    "    claimsdf.Region = claimsdf.Region.str.replace(i, j) "
   ]
  },
  {
   "cell_type": "code",
   "execution_count": 28,
   "metadata": {},
   "outputs": [],
   "source": [
    "new_regions = {'Rhône_Alpes': 'Auvergne-Rhône-Alpes',\n",
    "               'Auvergne': 'Auvergne-Rhône-Alpes',\n",
    "               'Bourgogne': 'Bourgogne-Franche-Comté',\n",
    "               'Franche_Comté': 'Bourgogne-Franche-Comté',\n",
    "               'Centre': 'Centre-Val de Loire',\n",
    "               'Champagne_Ardenne': 'Grand Est',\n",
    "               'Lorraine': 'Grand Est',\n",
    "               'Alsace': 'Grand Est',\n",
    "               'Nord_Pas-de-Calais': 'Hauts-de-France',\n",
    "               'Picardie': 'Hauts-de-France',\n",
    "               'Haute_Normandie': 'Normandie',\n",
    "               'Basse_Normandie': 'Normandie',\n",
    "               'Aquitaine': 'Nouvelle-Aquitaine',\n",
    "               'Limousin': 'Nouvelle-Aquitaine',\n",
    "               'Poitou_Charentes': 'Nouvelle-Aquitaine',\n",
    "               'Languedoc_Roussillon': 'Occitanie',\n",
    "               'Midi_Pyrénées': 'Occitanie',\n",
    "               'Bretagne': 'Bretagne',\n",
    "               'Corse': 'Corse',\n",
    "               'Île_de_France': 'Île-de-France',\n",
    "               'Pays_de_la_Loire': 'Pays de la Loire',\n",
    "               'Provence-Alpes_Côte d´Azur':\"Provence-Alpes-Côte d'Azur\"}"
   ]
  },
  {
   "cell_type": "code",
   "execution_count": 29,
   "metadata": {},
   "outputs": [],
   "source": [
    "claimsdf['Region'] = claimsdf.Region.map(new_regions)"
   ]
  },
  {
   "cell_type": "code",
   "execution_count": 30,
   "metadata": {},
   "outputs": [],
   "source": [
    "dic_region = {'Auvergne-Rhône-Alpes': 1, 'Bourgogne-Franche-Comté': 2, 'Centre-Val de Loire': 3, 'Grand Est': 4,\n",
    "               'Hauts-de-France': 5, 'Normandie': 6, 'Nouvelle-Aquitaine': 7, 'Occitanie': 8, 'Bretagne': 9,\n",
    "               'Corse': 10, 'Île-de-France': 11, 'Pays de la Loire': 12, \"Provence-Alpes-Côte d'Azur\": 13}"
   ]
  },
  {
   "cell_type": "code",
   "execution_count": 31,
   "metadata": {},
   "outputs": [],
   "source": [
    "claimsdf['Region'] = claimsdf.Region.map(dic_region)"
   ]
  },
  {
   "cell_type": "markdown",
   "metadata": {},
   "source": [
    "#### VEHICLE POWER: Ordered cathegorical according to the data source"
   ]
  },
  {
   "cell_type": "markdown",
   "metadata": {},
   "source": [
    "- We have 12 Vehicle Power classes, but we'll keep only 9, and group four of them in one class for homogeneity reasons."
   ]
  },
  {
   "cell_type": "code",
   "execution_count": 32,
   "metadata": {},
   "outputs": [],
   "source": [
    "def vehpower_gr(x):\n",
    "    \"\"\"\n",
    "    ARG: A number\n",
    "    Returns: If is different from 12, 13, 14 or 15, returns the number, \n",
    "    otherwise, returns 12\n",
    "    \"\"\"\n",
    "    if x in [12, 13, 14, 15]:\n",
    "        x_ = 12\n",
    "        return x_\n",
    "    else:\n",
    "        return x"
   ]
  },
  {
   "cell_type": "code",
   "execution_count": 33,
   "metadata": {},
   "outputs": [],
   "source": [
    "claimsdf['VehPower_'] = claimsdf.VehPower.apply(lambda x: vehpower_gr(x))"
   ]
  },
  {
   "cell_type": "code",
   "execution_count": 34,
   "metadata": {},
   "outputs": [
    {
     "data": {
      "text/html": [
       "<div>\n",
       "<style scoped>\n",
       "    .dataframe tbody tr th:only-of-type {\n",
       "        vertical-align: middle;\n",
       "    }\n",
       "\n",
       "    .dataframe tbody tr th {\n",
       "        vertical-align: top;\n",
       "    }\n",
       "\n",
       "    .dataframe thead th {\n",
       "        text-align: right;\n",
       "    }\n",
       "</style>\n",
       "<table border=\"1\" class=\"dataframe\">\n",
       "  <thead>\n",
       "    <tr style=\"text-align: right;\">\n",
       "      <th></th>\n",
       "      <th>VehPower_</th>\n",
       "    </tr>\n",
       "  </thead>\n",
       "  <tbody>\n",
       "    <tr>\n",
       "      <th>6</th>\n",
       "      <td>148976</td>\n",
       "    </tr>\n",
       "    <tr>\n",
       "      <th>7</th>\n",
       "      <td>145401</td>\n",
       "    </tr>\n",
       "    <tr>\n",
       "      <th>5</th>\n",
       "      <td>124821</td>\n",
       "    </tr>\n",
       "    <tr>\n",
       "      <th>4</th>\n",
       "      <td>115349</td>\n",
       "    </tr>\n",
       "    <tr>\n",
       "      <th>8</th>\n",
       "      <td>46956</td>\n",
       "    </tr>\n",
       "    <tr>\n",
       "      <th>10</th>\n",
       "      <td>31354</td>\n",
       "    </tr>\n",
       "    <tr>\n",
       "      <th>9</th>\n",
       "      <td>30085</td>\n",
       "    </tr>\n",
       "    <tr>\n",
       "      <th>11</th>\n",
       "      <td>18352</td>\n",
       "    </tr>\n",
       "    <tr>\n",
       "      <th>12</th>\n",
       "      <td>16719</td>\n",
       "    </tr>\n",
       "  </tbody>\n",
       "</table>\n",
       "</div>"
      ],
      "text/plain": [
       "    VehPower_\n",
       "6      148976\n",
       "7      145401\n",
       "5      124821\n",
       "4      115349\n",
       "8       46956\n",
       "10      31354\n",
       "9       30085\n",
       "11      18352\n",
       "12      16719"
      ]
     },
     "execution_count": 34,
     "metadata": {},
     "output_type": "execute_result"
    }
   ],
   "source": [
    "veh_power = pd.DataFrame(claimsdf.VehPower_.value_counts())\n",
    "veh_power"
   ]
  },
  {
   "cell_type": "markdown",
   "metadata": {},
   "source": [
    "#### VEHICLE AGE"
   ]
  },
  {
   "cell_type": "code",
   "execution_count": 36,
   "metadata": {},
   "outputs": [
    {
     "name": "stderr",
     "output_type": "stream",
     "text": [
      "/home/julian/miniconda3/envs/ironcon/lib/python3.8/site-packages/seaborn/_decorators.py:36: FutureWarning: Pass the following variable as a keyword arg: x. From version 0.12, the only valid positional argument will be `data`, and passing other arguments without an explicit keyword will result in an error or misinterpretation.\n",
      "  warnings.warn(\n"
     ]
    },
    {
     "ename": "TypeError",
     "evalue": "cannot unpack non-iterable AxesSubplot object",
     "output_type": "error",
     "traceback": [
      "\u001b[0;31m---------------------------------------------------------------------------\u001b[0m",
      "\u001b[0;31mTypeError\u001b[0m                                 Traceback (most recent call last)",
      "\u001b[0;32m<ipython-input-36-daaa7ae6e5dc>\u001b[0m in \u001b[0;36m<module>\u001b[0;34m\u001b[0m\n\u001b[0;32m----> 1\u001b[0;31m \u001b[0mfig\u001b[0m\u001b[0;34m,\u001b[0m \u001b[0max\u001b[0m \u001b[0;34m=\u001b[0m \u001b[0msns\u001b[0m\u001b[0;34m.\u001b[0m\u001b[0mcountplot\u001b[0m\u001b[0;34m(\u001b[0m\u001b[0mclaimsdf\u001b[0m\u001b[0;34m[\u001b[0m\u001b[0;34m'VehAge'\u001b[0m\u001b[0;34m]\u001b[0m\u001b[0;34m)\u001b[0m\u001b[0;34m\u001b[0m\u001b[0;34m\u001b[0m\u001b[0m\n\u001b[0m\u001b[1;32m      2\u001b[0m \u001b[0max\u001b[0m\u001b[0;34m.\u001b[0m\u001b[0mtick_params\u001b[0m\u001b[0;34m(\u001b[0m\u001b[0maxis\u001b[0m\u001b[0;34m=\u001b[0m\u001b[0;34m'x'\u001b[0m\u001b[0;34m,\u001b[0m \u001b[0mrotation\u001b[0m\u001b[0;34m=\u001b[0m\u001b[0;36m65\u001b[0m\u001b[0;34m)\u001b[0m\u001b[0;34m\u001b[0m\u001b[0;34m\u001b[0m\u001b[0m\n\u001b[1;32m      3\u001b[0m \u001b[0mfig\u001b[0m\u001b[0;34m.\u001b[0m\u001b[0msavefig\u001b[0m\u001b[0;34m(\u001b[0m\u001b[0;34m\"vehage_countplot.png\"\u001b[0m\u001b[0;34m)\u001b[0m\u001b[0;34m;\u001b[0m\u001b[0;34m\u001b[0m\u001b[0;34m\u001b[0m\u001b[0m\n",
      "\u001b[0;31mTypeError\u001b[0m: cannot unpack non-iterable AxesSubplot object"
     ]
    },
    {
     "data": {
      "image/png": "[encoded data removed]",
      "text/plain": [
       "<Figure size 1440x648 with 1 Axes>"
      ]
     },
     "metadata": {},
     "output_type": "display_data"
    }
   ],
   "source": [
    "fig, ax = sns.countplot(claimsdf['VehAge'])\n",
    "ax.tick_params(axis='x', rotation=65)\n",
    "fig.savefig(\"vehage_countplot.png\");"
   ]
  },
  {
   "cell_type": "markdown",
   "metadata": {},
   "source": [
    "- As we can see in the above graph, almost all cars in the data set are under 20 years old, we will group them in 3 different classes "
   ]
  },
  {
   "cell_type": "code",
   "execution_count": null,
   "metadata": {},
   "outputs": [],
   "source": [
    "def vehage_gr(x):\n",
    "    \"\"\"\n",
    "    ARG: A number\n",
    "    Returns: If x belongs to [0,1] -> 1\n",
    "             If x belongs to (1,10] -> 2\n",
    "             If x belongs to (10,+inf) -> 3\n",
    "    \"\"\"\n",
    "    if x in range(2):\n",
    "        x_ = 1\n",
    "        return x_\n",
    "    elif x in range(1,11):\n",
    "        x_ = 2\n",
    "        return x_\n",
    "    else:\n",
    "        return 3"
   ]
  },
  {
   "cell_type": "code",
   "execution_count": null,
   "metadata": {},
   "outputs": [],
   "source": [
    "claimsdf['VehAge_'] = claimsdf.VehAge.apply(lambda x: vehage_gr(x))"
   ]
  },
  {
   "cell_type": "code",
   "execution_count": null,
   "metadata": {},
   "outputs": [],
   "source": [
    "veh_age = pd.DataFrame(claimsdf.VehAge_.value_counts())\n",
    "veh_age"
   ]
  },
  {
   "cell_type": "markdown",
   "metadata": {},
   "source": [
    "#### DRIVER AGE"
   ]
  },
  {
   "cell_type": "markdown",
   "metadata": {},
   "source": [
    "- We'll use the same criteria for the drivers age, by grouping them in 8 different clases "
   ]
  },
  {
   "cell_type": "code",
   "execution_count": 40,
   "metadata": {
    "scrolled": false
   },
   "outputs": [
    {
     "name": "stderr",
     "output_type": "stream",
     "text": [
      "/home/julian/miniconda3/envs/ironcon/lib/python3.8/site-packages/seaborn/_decorators.py:36: FutureWarning: Pass the following variable as a keyword arg: x. From version 0.12, the only valid positional argument will be `data`, and passing other arguments without an explicit keyword will result in an error or misinterpretation.\n",
      "  warnings.warn(\n"
     ]
    },
    {
     "ename": "AttributeError",
     "evalue": "'AxesSubplot' object has no attribute 'savefig'",
     "output_type": "error",
     "traceback": [
      "\u001b[0;31m---------------------------------------------------------------------------\u001b[0m",
      "\u001b[0;31mAttributeError\u001b[0m                            Traceback (most recent call last)",
      "\u001b[0;32m<ipython-input-40-9314b83f769b>\u001b[0m in \u001b[0;36m<module>\u001b[0;34m\u001b[0m\n\u001b[1;32m      1\u001b[0m \u001b[0mfig\u001b[0m \u001b[0;34m=\u001b[0m \u001b[0msns\u001b[0m\u001b[0;34m.\u001b[0m\u001b[0mcountplot\u001b[0m\u001b[0;34m(\u001b[0m\u001b[0mclaimsdf\u001b[0m\u001b[0;34m.\u001b[0m\u001b[0mDrivAge\u001b[0m\u001b[0;34m)\u001b[0m\u001b[0;34m\u001b[0m\u001b[0;34m\u001b[0m\u001b[0m\n\u001b[1;32m      2\u001b[0m \u001b[0max\u001b[0m\u001b[0;34m.\u001b[0m\u001b[0mtick_params\u001b[0m\u001b[0;34m(\u001b[0m\u001b[0maxis\u001b[0m\u001b[0;34m=\u001b[0m\u001b[0;34m'x'\u001b[0m\u001b[0;34m,\u001b[0m \u001b[0mrotation\u001b[0m\u001b[0;34m=\u001b[0m\u001b[0;36m65\u001b[0m\u001b[0;34m)\u001b[0m\u001b[0;34m\u001b[0m\u001b[0;34m\u001b[0m\u001b[0m\n\u001b[0;32m----> 3\u001b[0;31m \u001b[0mfig\u001b[0m\u001b[0;34m.\u001b[0m\u001b[0msavefig\u001b[0m\u001b[0;34m(\u001b[0m\u001b[0;34m\"drivage_countplot.png\"\u001b[0m\u001b[0;34m)\u001b[0m\u001b[0;34m;\u001b[0m\u001b[0;34m\u001b[0m\u001b[0;34m\u001b[0m\u001b[0m\n\u001b[0m",
      "\u001b[0;31mAttributeError\u001b[0m: 'AxesSubplot' object has no attribute 'savefig'"
     ]
    },
    {
     "data": {
      "image/png": "[encoded data removed]",
      "text/plain": [
       "<Figure size 1440x648 with 1 Axes>"
      ]
     },
     "metadata": {},
     "output_type": "display_data"
    }
   ],
   "source": [
    "fig = sns.countplot(claimsdf.DrivAge)\n",
    "ax.tick_params(axis='x', rotation=65)\n",
    "fig.savefig(\"drivage_countplot.png\");"
   ]
  },
  {
   "cell_type": "code",
   "execution_count": null,
   "metadata": {},
   "outputs": [],
   "source": [
    "def drivage_gr(x):\n",
    "    \"\"\"\n",
    "    ARG: A number\n",
    "    Returns: Assings a class (from 1 to 8) if x belongs to the specified ranges\n",
    "    \"\"\"\n",
    "    if x in range(18,21):\n",
    "        x_ = 1\n",
    "        return x_\n",
    "    elif x in range(21,26):\n",
    "        x_ = 2\n",
    "        return x_\n",
    "    elif x in range(26,31):\n",
    "        x_ = 3\n",
    "        return x_\n",
    "    elif x in range(31,41):\n",
    "        x_ = 4\n",
    "        return x_\n",
    "    elif x in range(41,51):\n",
    "        x_ = 5\n",
    "        return x_\n",
    "    elif x in range(51,61):\n",
    "        x_ = 6\n",
    "        return x_\n",
    "    elif x in range(61,71):\n",
    "        x_ = 7\n",
    "        return x_\n",
    "\n",
    "    else:\n",
    "        return 8"
   ]
  },
  {
   "cell_type": "code",
   "execution_count": null,
   "metadata": {},
   "outputs": [],
   "source": [
    "claimsdf['DrivAge_'] = claimsdf.DrivAge.apply(lambda x: drivage_gr(x))"
   ]
  },
  {
   "cell_type": "code",
   "execution_count": null,
   "metadata": {},
   "outputs": [],
   "source": [
    "drivers_age = pd.DataFrame(claimsdf.DrivAge_.value_counts())\n",
    "drivers_age"
   ]
  },
  {
   "cell_type": "markdown",
   "metadata": {},
   "source": [
    "- Now, we just keep the new transformed columns, and drop the ID of the policies because it makes no sense as an explanatory variable to predict the frequency of claims."
   ]
  },
  {
   "cell_type": "code",
   "execution_count": null,
   "metadata": {},
   "outputs": [],
   "source": [
    "claimsdf.drop(columns=['IDpol', 'VehPower', 'VehAge', 'DrivAge'], inplace=True)"
   ]
  },
  {
   "cell_type": "markdown",
   "metadata": {},
   "source": [
    "### CONTINUOUS VARIABLES"
   ]
  },
  {
   "cell_type": "markdown",
   "metadata": {},
   "source": [
    "#### DENSITY"
   ]
  },
  {
   "cell_type": "code",
   "execution_count": null,
   "metadata": {},
   "outputs": [],
   "source": [
    "ax = sns.histplot(claimsdf['Density'])\n",
    "ax.tick_params(axis='x', rotation=65)\n",
    "ax.savefig(\"density_hist.png\");"
   ]
  },
  {
   "cell_type": "markdown",
   "metadata": {},
   "source": [
    "- We'll treat the density in a logarithmic scale"
   ]
  },
  {
   "cell_type": "code",
   "execution_count": null,
   "metadata": {},
   "outputs": [],
   "source": [
    "claimsdf['log_density'] = np.log(claimsdf.Density) \n",
    "claimsdf.drop(columns=\"Density\", inplace=True)"
   ]
  },
  {
   "cell_type": "markdown",
   "metadata": {},
   "source": [
    "#### BONUSMALUS (goes from 50 to 350)"
   ]
  },
  {
   "cell_type": "markdown",
   "metadata": {},
   "source": [
    "- This is a score for the insured policy, its range is form 50 to 350, the smaller the score, the better driver, and it performs discounts on primes"
   ]
  },
  {
   "cell_type": "code",
   "execution_count": null,
   "metadata": {
    "scrolled": true
   },
   "outputs": [],
   "source": [
    "claimsdf.BonusMalus.value_counts()"
   ]
  },
  {
   "cell_type": "markdown",
   "metadata": {},
   "source": [
    "## FREQUENCIES vs FEATURE COMPONENTS"
   ]
  },
  {
   "cell_type": "markdown",
   "metadata": {},
   "source": [
    "#### We'll start a visual exploration of our portfolio structure in terms of exposures and observed frequencies for each of the components."
   ]
  },
  {
   "cell_type": "markdown",
   "metadata": {},
   "source": [
    "#### AREA CODES"
   ]
  },
  {
   "cell_type": "code",
   "execution_count": null,
   "metadata": {},
   "outputs": [],
   "source": [
    "fig, axs = plt.subplots(nrows=1, ncols=2, figsize=(20, 8))\n",
    "sns.countplot(x=claimsdf.Area, ax=axs[0])\n",
    "sns.lineplot(data=claimsdf, x=claimsdf.Area, y=claimsdf.empirical_frequencies, ax=axs[1])\n",
    "fig.savefig(\"area_codes.png\");"
   ]
  },
  {
   "cell_type": "markdown",
   "metadata": {},
   "source": [
    "- We can see an increasing observed frequency for the area code, suggesting that there's some sense of ordinality in this feature."
   ]
  },
  {
   "cell_type": "markdown",
   "metadata": {},
   "source": [
    "#### REGIONS AND POBLATIONAL DENSITY"
   ]
  },
  {
   "cell_type": "code",
   "execution_count": null,
   "metadata": {},
   "outputs": [],
   "source": [
    "fig, axs = plt.subplots(nrows=1, ncols=2, sharex=True, figsize=(20, 8))\n",
    "sns.countplot(x=claimsdf.Region, ax=axs[0])\n",
    "sns.lineplot(data=claimsdf, x=claimsdf.Region, y=claimsdf.empirical_frequencies, ax=axs[1])\n",
    "fig.savefig(\"region_counts_empfreq.png\");"
   ]
  },
  {
   "cell_type": "code",
   "execution_count": null,
   "metadata": {},
   "outputs": [],
   "source": [
    "fig, axs = plt.subplots(nrows=1, ncols=2, figsize=(20, 8))\n",
    "sns.lineplot(data=claimsdf, x=claimsdf.Region, y=claimsdf.log_density, ax=axs[0])\n",
    "sns.lineplot(data=claimsdf, x=claimsdf.log_density, y=claimsdf.empirical_frequencies, ax=axs[1])\n",
    "fig.savefig(\"region_logdens.png\");"
   ]
  },
  {
   "cell_type": "markdown",
   "metadata": {},
   "source": [
    "- We can see that the biggest volume corresponds to the in Centre-Val de Loire region, but if we look at the population density, it is bigger for the Île-de-France regions, that includes Paris. We can observe also that the frequencies are higher for that region. \n",
    "- The variability of the frequencies with respect to the regions maybe reflects differences in population densities. We can see that, althoughnot very clearly that the frequencies seems to go up in concordance with population density."
   ]
  },
  {
   "cell_type": "markdown",
   "metadata": {},
   "source": [
    "#### VEHICLE GAS TYPE"
   ]
  },
  {
   "cell_type": "code",
   "execution_count": null,
   "metadata": {},
   "outputs": [],
   "source": [
    "fig, axs = plt.subplots(nrows=1, ncols=2, figsize=(20, 8))\n",
    "sns.countplot(x=claimsdf.VehGas_Regular, ax=axs[0])\n",
    "sns.lineplot(data=claimsdf, x=claimsdf.VehGas_Regular, y=claimsdf.empirical_frequencies, ax=axs[1])\n",
    "fig.savefig(\"gas_counts_empfreq.png\");"
   ]
  },
  {
   "cell_type": "markdown",
   "metadata": {},
   "source": [
    "#### VEHICLE POWER"
   ]
  },
  {
   "cell_type": "code",
   "execution_count": null,
   "metadata": {},
   "outputs": [],
   "source": [
    "fig, axs = plt.subplots(nrows=1, ncols=2, figsize=(20, 8))\n",
    "sns.countplot(x=claimsdf.VehPower_, ax=axs[0])\n",
    "sns.lineplot(data=claimsdf, x=claimsdf.VehPower_, y=claimsdf.empirical_frequencies, ax=axs[1])\n",
    "fig.savefig(\"power_counts_empfreq.png\");"
   ]
  },
  {
   "cell_type": "markdown",
   "metadata": {},
   "source": [
    "- The observed frequency for vehicle power doesn't show a clear trend. The highest frequencies are reach for vehicles with power 5, 9 and 10, with a notorious decrease for 8 power vehicles."
   ]
  },
  {
   "cell_type": "markdown",
   "metadata": {},
   "source": [
    "#### VEHICLE AGE "
   ]
  },
  {
   "cell_type": "code",
   "execution_count": null,
   "metadata": {},
   "outputs": [],
   "source": [
    "fig, axs = plt.subplots(nrows=1, ncols=2, figsize=(18, 8))\n",
    "sns.countplot(x=claimsdf.VehAge_, ax=axs[0])\n",
    "sns.lineplot(data=claimsdf, x=claimsdf.VehAge_, y=claimsdf.empirical_frequencies, ax=axs[1])\n",
    "fig.savefig(\"vehage_counts_empfreq.png\");"
   ]
  },
  {
   "cell_type": "markdown",
   "metadata": {},
   "source": [
    "- Most of the policies are of 1 to 10 years old and the empirical frequency it seems to be decreasing in vehicle age, but we have to keep in mind that most policies are for \"younger cars\" and probably account for mor frequency because of the size."
   ]
  },
  {
   "cell_type": "markdown",
   "metadata": {},
   "source": [
    "#### VEHICLE BRAND "
   ]
  },
  {
   "cell_type": "code",
   "execution_count": null,
   "metadata": {},
   "outputs": [],
   "source": [
    "fig, axs = plt.subplots(nrows=1, ncols=2, figsize=(18, 8))\n",
    "sns.countplot(x=claimsdf.VehBrand, ax=axs[0])\n",
    "sns.lineplot(data=claimsdf, x=claimsdf.VehBrand, y=claimsdf.empirical_frequencies, ax=axs[1])\n",
    "fig.savefig(\"vehbrand_counts_empfreq.png\");"
   ]
  },
  {
   "cell_type": "markdown",
   "metadata": {},
   "source": [
    "- As we can see, we have big volumes in car brands 1, 2 and 9 (B1, B2, B12). But most of the observed frequencies seems to belong to the B12 brand."
   ]
  },
  {
   "cell_type": "markdown",
   "metadata": {},
   "source": [
    "#### DRIVERS AGE"
   ]
  },
  {
   "cell_type": "code",
   "execution_count": null,
   "metadata": {
    "scrolled": false
   },
   "outputs": [],
   "source": [
    "fig, axs = plt.subplots(nrows=1, ncols=2, figsize=(18, 8))\n",
    "sns.countplot(x=claimsdf.DrivAge_, ax=axs[0])\n",
    "sns.lineplot(data=claimsdf, x=claimsdf.DrivAge_, y=claimsdf.empirical_frequencies, ax=axs[1])\n",
    "fig.savefig(\"drivage_counts_empfreq.png\");"
   ]
  },
  {
   "cell_type": "markdown",
   "metadata": {},
   "source": [
    "- Most of the drivers age in the portfolio are between 31 and 61. There's a pronounced decrease in the observed frequency between 18 and 31 and then a slightly increase between 41 to 61 years old drivers."
   ]
  },
  {
   "cell_type": "markdown",
   "metadata": {},
   "source": [
    "#### BONUS MALUS"
   ]
  },
  {
   "cell_type": "code",
   "execution_count": null,
   "metadata": {},
   "outputs": [],
   "source": [
    "def bonusmalus_gr(x):\n",
    "    \"\"\"\n",
    "    ARG: A number\n",
    "    Returns: Assings a class (from 1 to 7) if x belongs to the specified ranges\n",
    "    \"\"\"\n",
    "    if x in range(50, 61):\n",
    "        x_ = 1\n",
    "        return x_\n",
    "    elif x in range(61,71):\n",
    "        x_ = 2\n",
    "        return x_\n",
    "    elif x in range(71,81):\n",
    "        x_ = 3\n",
    "        return x_\n",
    "    elif x in range(81,91):\n",
    "        x_ = 4\n",
    "        return x_\n",
    "    elif x in range(91,101):\n",
    "        x_ = 5\n",
    "        return x_\n",
    "    elif x in range(101,151):\n",
    "        x_ = 6\n",
    "        return x_\n",
    "    else:\n",
    "        x_ = 7\n",
    "        return x_"
   ]
  },
  {
   "cell_type": "code",
   "execution_count": null,
   "metadata": {},
   "outputs": [],
   "source": [
    "claimsdf['BonusMalus_'] = claimsdf.BonusMalus.apply(lambda x: bonusmalus_gr(x))"
   ]
  },
  {
   "cell_type": "code",
   "execution_count": null,
   "metadata": {},
   "outputs": [],
   "source": [
    "fig, axs = plt.subplots(nrows=1, ncols=2, figsize=(18, 8))\n",
    "sns.countplot(x=claimsdf.BonusMalus_, ax=axs[0])\n",
    "sns.lineplot(data=claimsdf, x=claimsdf.BonusMalus_, y=claimsdf.empirical_frequencies, ax=axs[1])\n",
    "plt.xticks(rotation=75)\n",
    "fig.savefig(\"bonusmalus_counts_empfreq.png\");"
   ]
  },
  {
   "cell_type": "markdown",
   "metadata": {},
   "source": [
    "- It's clear by the countplot that most of the exposures have good scores \"Bouns\"The Bonus Malus score seems to have a clear trend with respect to the observed frequency. It makes sense that better scores accounts for smaller frequencies.  "
   ]
  },
  {
   "cell_type": "code",
   "execution_count": null,
   "metadata": {},
   "outputs": [],
   "source": [
    "claimsdf.drop(columns='BonusMalus_', inplace=True)"
   ]
  },
  {
   "cell_type": "markdown",
   "metadata": {},
   "source": [
    "## CORRELATION ANALYSIS "
   ]
  },
  {
   "cell_type": "markdown",
   "metadata": {},
   "source": [
    "### CORRELATION MATRIX"
   ]
  },
  {
   "cell_type": "code",
   "execution_count": null,
   "metadata": {},
   "outputs": [],
   "source": [
    "correlations = claimsdf.corr()\n",
    "correlations"
   ]
  },
  {
   "cell_type": "markdown",
   "metadata": {},
   "source": [
    "### HEAT MAP"
   ]
  },
  {
   "cell_type": "code",
   "execution_count": null,
   "metadata": {},
   "outputs": [],
   "source": [
    "fig, ax = plt.subplots(figsize=(10,10)) \n",
    "mask = np.triu(np.ones_like(correlations, dtype=bool))\n",
    "color_map = sns.diverging_palette(0, 10, as_cmap=True) \n",
    "sns.heatmap(correlations, \n",
    "            cmap=\"magma\",\n",
    "            mask=mask,\n",
    "            vmax=1,\n",
    "            vmin=-1,\n",
    "            square=True, \n",
    "            linewidth=.8, \n",
    "            cbar_kws={\"shrink\": .5},\n",
    "            ax=ax\n",
    ")\n",
    "fig.savefig(\"correlations.png\");"
   ]
  },
  {
   "cell_type": "markdown",
   "metadata": {},
   "source": [
    "- From a first view, we can see a strong strong positive colinearity between the area code and the density of the population, wich indicates that the bigger the population density, the bigger the area code. Let's recall for example that area code 6 it accounts only for Ile de France. We can also check for slightly positive correlation with Region.\n",
    "- There's a negative relation between the Bonus Malus and the Driver age, wich can be observed if one compares their respective frequency graphs. A slighlty positive realation with population density and vehicle age (the younger the car the smaller the bonusmalus), and a negative relation with vehicle power. \n",
    "- There's a negative realtion between vehicle age and the vehicle power. And also with drivers age."
   ]
  },
  {
   "cell_type": "markdown",
   "metadata": {},
   "source": [
    "- Now, we proceed to export a csv file with the cleaned data frame for modelling"
   ]
  },
  {
   "cell_type": "code",
   "execution_count": null,
   "metadata": {},
   "outputs": [],
   "source": [
    "claimsdf.to_csv('claimsdf_1.csv', index = False)"
   ]
  },
  {
   "cell_type": "code",
   "execution_count": null,
   "metadata": {},
   "outputs": [],
   "source": []
  }
 ],
 "metadata": {
  "kernelspec": {
   "display_name": "ironcon",
   "language": "python",
   "name": "ironcon"
  },
  "language_info": {
   "codemirror_mode": {
    "name": "ipython",
    "version": 3
   },
   "file_extension": ".py",
   "mimetype": "text/x-python",
   "name": "python",
   "nbconvert_exporter": "python",
   "pygments_lexer": "ipython3",
   "version": "3.8.11"
  }
 },
 "nbformat": 4,
 "nbformat_minor": 4
}
