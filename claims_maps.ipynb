{
 "cells": [
  {
   "cell_type": "code",
   "execution_count": 42,
   "metadata": {},
   "outputs": [],
   "source": [
    "import matplotlib.pyplot as plt\n",
    "import numpy as np\n",
    "import pandas as pd\n",
    "import seaborn as sns"
   ]
  },
  {
   "cell_type": "code",
   "execution_count": 43,
   "metadata": {},
   "outputs": [],
   "source": [
    "claimsdf = pd.read_csv('/home/julian/Cursos/Ironhack/Proyectos/ProyectoFinal/Claims-Frequency-Predictions/claimsdf_regions.csv')"
   ]
  },
  {
   "cell_type": "code",
   "execution_count": 44,
   "metadata": {},
   "outputs": [
    {
     "data": {
      "text/html": [
       "<div>\n",
       "<style scoped>\n",
       "    .dataframe tbody tr th:only-of-type {\n",
       "        vertical-align: middle;\n",
       "    }\n",
       "\n",
       "    .dataframe tbody tr th {\n",
       "        vertical-align: top;\n",
       "    }\n",
       "\n",
       "    .dataframe thead th {\n",
       "        text-align: right;\n",
       "    }\n",
       "</style>\n",
       "<table border=\"1\" class=\"dataframe\">\n",
       "  <thead>\n",
       "    <tr style=\"text-align: right;\">\n",
       "      <th></th>\n",
       "      <th>ClaimNb</th>\n",
       "      <th>Exposure</th>\n",
       "      <th>Area</th>\n",
       "      <th>BonusMalus</th>\n",
       "      <th>VehBrand</th>\n",
       "      <th>Density</th>\n",
       "      <th>Region</th>\n",
       "      <th>empirical_frequencies</th>\n",
       "      <th>VehGas_Regular</th>\n",
       "      <th>VehPower_</th>\n",
       "      <th>VehAge_</th>\n",
       "      <th>DrivAge_</th>\n",
       "    </tr>\n",
       "  </thead>\n",
       "  <tbody>\n",
       "    <tr>\n",
       "      <th>0</th>\n",
       "      <td>1</td>\n",
       "      <td>0.10</td>\n",
       "      <td>4</td>\n",
       "      <td>50</td>\n",
       "      <td>9</td>\n",
       "      <td>1217</td>\n",
       "      <td>R82</td>\n",
       "      <td>10.000000</td>\n",
       "      <td>1</td>\n",
       "      <td>5</td>\n",
       "      <td>1</td>\n",
       "      <td>6</td>\n",
       "    </tr>\n",
       "    <tr>\n",
       "      <th>1</th>\n",
       "      <td>1</td>\n",
       "      <td>0.77</td>\n",
       "      <td>4</td>\n",
       "      <td>50</td>\n",
       "      <td>9</td>\n",
       "      <td>1217</td>\n",
       "      <td>R82</td>\n",
       "      <td>1.298701</td>\n",
       "      <td>1</td>\n",
       "      <td>5</td>\n",
       "      <td>1</td>\n",
       "      <td>6</td>\n",
       "    </tr>\n",
       "    <tr>\n",
       "      <th>2</th>\n",
       "      <td>1</td>\n",
       "      <td>0.75</td>\n",
       "      <td>2</td>\n",
       "      <td>50</td>\n",
       "      <td>9</td>\n",
       "      <td>54</td>\n",
       "      <td>R22</td>\n",
       "      <td>1.333333</td>\n",
       "      <td>0</td>\n",
       "      <td>6</td>\n",
       "      <td>2</td>\n",
       "      <td>6</td>\n",
       "    </tr>\n",
       "  </tbody>\n",
       "</table>\n",
       "</div>"
      ],
      "text/plain": [
       "   ClaimNb  Exposure  Area  BonusMalus  VehBrand  Density Region  \\\n",
       "0        1      0.10     4          50         9     1217    R82   \n",
       "1        1      0.77     4          50         9     1217    R82   \n",
       "2        1      0.75     2          50         9       54    R22   \n",
       "\n",
       "   empirical_frequencies  VehGas_Regular  VehPower_  VehAge_  DrivAge_  \n",
       "0              10.000000               1          5        1         6  \n",
       "1               1.298701               1          5        1         6  \n",
       "2               1.333333               0          6        2         6  "
      ]
     },
     "execution_count": 44,
     "metadata": {},
     "output_type": "execute_result"
    }
   ],
   "source": [
    "claimsdf.head(3)"
   ]
  },
  {
   "cell_type": "code",
   "execution_count": 45,
   "metadata": {
    "scrolled": true
   },
   "outputs": [
    {
     "data": {
      "text/plain": [
       "array(['R82', 'R22', 'R72', 'R31', 'R91', 'R52', 'R93', 'R11', 'R24',\n",
       "       'R94', 'R83', 'R54', 'R26', 'R53', 'R73', 'R42', 'R25', 'R21',\n",
       "       'R41', 'R43', 'R74', 'R23'], dtype=object)"
      ]
     },
     "execution_count": 45,
     "metadata": {},
     "output_type": "execute_result"
    }
   ],
   "source": [
    "claimsdf.Region.unique()"
   ]
  },
  {
   "cell_type": "code",
   "execution_count": null,
   "metadata": {},
   "outputs": [],
   "source": [
    "\"\"\"\n",
    "dic_region = {'R11': 'Île_de_France', 'R21': 'Champagne_Ardenne', 'R22': 'Picardie', 'R23': 'Haute_Normandie', \n",
    "              'R24': 'Centre', 'R25': 'Basse_Normandie', 'R26': 'Bourgogne', \n",
    "              'R31': 'Nord_Pas-de-Calais', 'R41': 'Lorraine', 'R42': 'Alsace', 'R43': 'Franche_Comté', \n",
    "              'R52': 'Pays_de_la_Loire', 'R53': 'Bretagne', 'R54': 'Poitou_Charentes',\n",
    "              'R72': 'Aquitaine', 'R73': 'Midi_Pyrénées', 'R74': 'Limousin', 'R82': 'Rhône_Alpes', \n",
    "              'R83': 'Auvergne',\n",
    "              'R91': 'Languedoc_Roussillon', 'R93': 'Provence-Alpes_Côte d´Azur', \n",
    "              'R94': 'Corse'}\n",
    "              \n",
    "dic_region = {'1': 'Île_de_France', '2': 'Champagne_Ardenne', '3': 'Picardie', '4': 'Haute_Normandie', \n",
    "              '5': 'Centre', '6': 'Basse_Normandie', '7': 'Bourgogne', \n",
    "              '8': 'Nord_Pas-de-Calais', '9': 'Lorraine', '10': 'Alsace', '11': 'Franche_Comté', \n",
    "              '12': 'Pays_de_la_Loire', '13': 'Bretagne', '14': 'Poitou_Charentes',\n",
    "              '15': 'Aquitaine', '16': 'Midi_Pyrénées', '17': 'Limousin', '18': 'Rhône_Alpes', \n",
    "              '19': 'Auvergne',\n",
    "              '20': 'Languedoc_Roussillon', '21': 'Provence-Alpes_Côte d´Azur', \n",
    "              '22': 'Corse'}\n",
    "\"\"\""
   ]
  },
  {
   "cell_type": "markdown",
   "metadata": {},
   "source": [
    "#### Name of regions"
   ]
  },
  {
   "cell_type": "code",
   "execution_count": 46,
   "metadata": {},
   "outputs": [],
   "source": [
    "regions = ['Île_de_France', 'Champagne_Ardenne', 'Picardie', 'Haute_Normandie', 'Centre', 'Basse_Normandie', 'Bourgogne', 'Nord_Pas-de-Calais', 'Lorraine', 'Alsace', 'Franche_Comté', 'Pays_de_la_Loire', 'Bretagne', 'Poitou_Charentes', 'Aquitaine', 'Midi_Pyrénées', 'Limousin', 'Rhône_Alpes', 'Auvergne', 'Languedoc_Roussillon', 'Provence-Alpes_Côte d´Azur', 'Corse']\n",
    "regions_code = ['R11', 'R21', 'R22', 'R23', 'R24', 'R25', 'R26', 'R31', 'R41', 'R42', 'R43', 'R52', 'R53', 'R54', 'R72', 'R73', 'R74', 'R82', 'R83', 'R91', 'R93', 'R94']\n",
    "for i,j in zip(regions_code, regions):\n",
    "    claimsdf.Region = claimsdf.Region.str.replace(i, j) "
   ]
  },
  {
   "cell_type": "markdown",
   "metadata": {},
   "source": [
    "#### Name of new regions"
   ]
  },
  {
   "cell_type": "code",
   "execution_count": null,
   "metadata": {},
   "outputs": [],
   "source": [
    "Auvergne-Rhône-Alpes     'Rhône_Alpes''Auvergne'\n",
    "Bourgogne-Franche-Comté  'Bourgogne' 'Franche_Comté'\n",
    "Bretagne\n",
    "Centre-Val de Loire       'Centre'\n",
    "Corse\n",
    "Grand Est                'Champagne_Ardenne''Lorraine' 'Alsace'\n",
    "Hauts-de-France          'Nord_Pas-de-Calais' 'Picardie'\n",
    "Île-de-France\n",
    "Normandie               'Haute_Normandie' 'Basse_Normandie'\n",
    "Nouvelle-Aquitaine      ' Aquitaine' 'Limousin' 'Poitou-Charentes'\n",
    "Occitanie               'Languedoc_Roussillon' 'Midi_Pyrénées'\n",
    "Pays de la Loire\n",
    "Provence-Alpes_Côte d´Azur"
   ]
  },
  {
   "cell_type": "code",
   "execution_count": 47,
   "metadata": {},
   "outputs": [],
   "source": [
    "new_regions = {'Rhône_Alpes': 'Auvergne_Rhône_Alpes',\n",
    "               'Auvergne': 'Auvergne_Rhône_Alpes',\n",
    "               'Bourgogne': 'Bourgogne_Franche_Comté',\n",
    "               'Franche_Comté': 'Bourgogne_Franche_Comté',\n",
    "               'Centre': 'Centre_Val_de_Loire',\n",
    "               'Champagne_Ardenne': 'Grand_Est',\n",
    "               'Lorraine': 'Grand_Est',\n",
    "               'Alsace': 'Grand_Est',\n",
    "               'Nord_Pas-de-Calais': 'Hauts_de_France',\n",
    "               'Picardie': 'Hauts_de_France',\n",
    "               'Haute_Normandie': 'Normandie',\n",
    "               'Basse_Normandie': 'Normandie',\n",
    "               'Aquitaine': 'Nouvelle_Aquitaine',\n",
    "               'Limousin': 'Nouvelle_Aquitaine',\n",
    "               'Poitou-Charentes': 'Nouvelle_Aquitaine',\n",
    "               'Languedoc_Roussillon': 'Occitanie',\n",
    "               'Midi_Pyrénées': 'Occitanie',\n",
    "               'Bretagne': 'Bretagne',\n",
    "               'Corse': 'Corse',\n",
    "               'Île_de_France': 'Île_de_France',\n",
    "               'Pays_de_la_Loire': 'Pays_de_la_Loire',\n",
    "               'Provence-Alpes_Côte d´Azur':'Provence-Alpes_Côte d´Azur'}"
   ]
  },
  {
   "cell_type": "code",
   "execution_count": null,
   "metadata": {},
   "outputs": [],
   "source": []
  },
  {
   "cell_type": "code",
   "execution_count": 48,
   "metadata": {},
   "outputs": [],
   "source": [
    "claimsdf.Region = claimsdf.Region.map(new_regions)"
   ]
  },
  {
   "cell_type": "code",
   "execution_count": 49,
   "metadata": {},
   "outputs": [
    {
     "data": {
      "text/plain": [
       "Centre_Val_de_Loire           160601\n",
       "Auvergne_Rhône_Alpes           90039\n",
       "Provence-Alpes_Côte d´Azur     79315\n",
       "Île_de_France                  69791\n",
       "Occitanie                      52946\n",
       "Bretagne                       42122\n",
       "Pays_de_la_Loire               38751\n",
       "Nouvelle_Aquitaine             35896\n",
       "Hauts_de_France                35279\n",
       "Normandie                      19677\n",
       "Grand_Est                      18216\n",
       "Bourgogne_Franche_Comté        11818\n",
       "Corse                           4516\n",
       "Name: Region, dtype: int64"
      ]
     },
     "execution_count": 49,
     "metadata": {},
     "output_type": "execute_result"
    }
   ],
   "source": [
    "claimsdf.Region.value_counts()"
   ]
  },
  {
   "cell_type": "code",
   "execution_count": null,
   "metadata": {},
   "outputs": [],
   "source": []
  },
  {
   "cell_type": "code",
   "execution_count": null,
   "metadata": {},
   "outputs": [],
   "source": [
    "regions = {'Île_de_France', 'Champagne_Ardenne', 'Picardie', 'Haute_Normandie', 'Centre',\n",
    "           'Basse_Normandie', 'Bourgogne', 'Nord_Pas-de-Calais', 'Lorraine', 'Alsace', \n",
    "           'Franche_Comté', 'Pays_de_la_Loire', 'Bretagne', 'Poitou_Charentes', \n",
    "           'Aquitaine', 'Midi_Pyrénées', 'Limousin', 'Rhône_Alpes', 'Auvergne', \n",
    "           'Languedoc_Roussillon', 'Provence-Alpes_Côte d´Azur', 'Corse'}"
   ]
  },
  {
   "cell_type": "code",
   "execution_count": null,
   "metadata": {},
   "outputs": [],
   "source": []
  },
  {
   "cell_type": "code",
   "execution_count": 44,
   "metadata": {},
   "outputs": [],
   "source": [
    "#claimsdf.to_csv('claimsdf_1.csv', index = False)"
   ]
  }
 ],
 "metadata": {
  "kernelspec": {
   "display_name": "ironcon",
   "language": "python",
   "name": "ironcon"
  },
  "language_info": {
   "codemirror_mode": {
    "name": "ipython",
    "version": 3
   },
   "file_extension": ".py",
   "mimetype": "text/x-python",
   "name": "python",
   "nbconvert_exporter": "python",
   "pygments_lexer": "ipython3",
   "version": "3.8.11"
  }
 },
 "nbformat": 4,
 "nbformat_minor": 4
}
